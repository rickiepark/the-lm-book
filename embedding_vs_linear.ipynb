{
 "cells": [
  {
   "cell_type": "code",
   "execution_count": null,
   "id": "c08a8825-1a0b-41e9-9c9d-bab840d333a2",
   "metadata": {},
   "outputs": [],
   "source": [
    "import torch\n",
    "import torch.nn as nn\n",
    "\n",
    "vocab_size = 10    # Smaller vocabulary for better visualization\n",
    "emb_dim = 4       # Smaller embedding dimension\n",
    "token_idx = 3     # Index of the token we want to embed\n",
    "\n",
    "# Approach 1: Using nn.Embedding which directly maps indices to dense vectors\n",
    "embedding = nn.Embedding(vocab_size, emb_dim)\n",
    "\n",
    "# Approach 2: Using nn.Linear to achieve the same effect\n",
    "# The Linear layer performs: output = input @ weight.t() + bias\n",
    "# In our case, bias=False so: output = input @ weight.t()\n",
    "linear = nn.Linear(vocab_size, emb_dim, bias=False)\n",
    "\n",
    "# Copy and transpose embedding weights for the linear layer\n",
    "# Embedding weights shape: (vocab_size, emb_dim)\n",
    "# Linear weights shape: (emb_dim, vocab_size)  <- notice the transpose\n",
    "linear.weight.data = embedding.weight.data.t()\n",
    "\n",
    "# Create one-hot input for linear layer - zeros everywhere except position token_idx\n",
    "one_hot = torch.zeros(vocab_size)\n",
    "one_hot[token_idx] = 1\n",
    "\n",
    "# Get embedding by directly indexing into the embedding matrix\n",
    "# embedding.weight[token_idx] is what happens under the hood\n",
    "emb_output = embedding(torch.tensor([token_idx]))\n",
    "\n",
    "# For linear layer: add batch dimension since linear expects shape (batch_size, input_dim)\n",
    "# Result will be: one_hot @ weight.t(), which selects the token_idx row of weight.t()\n",
    "linear_output = linear(one_hot.unsqueeze(0))\n",
    "\n",
    "# Print outputs and comparison to see the equivalence\n",
    "print(f\"Embedding output:\\n{emb_output}\\n\")\n",
    "print(f\"Linear output:\\n{linear_output}\\n\")\n",
    "print(f\"Are tensors equal? {torch.equal(emb_output, linear_output)}\")\n",
    "print(f\"Are tensors close? {torch.allclose(emb_output, linear_output)}\")\n",
    "\n",
    "# Verify outputs are the same within numerical precision\n",
    "# Uses default tolerances: rtol=1e-5, atol=1e-8\n",
    "# Formula: |x - y| ≤ atol + rtol * |y|\n",
    "print(f\"\\nMaximum difference between tensors: {(emb_output - linear_output).abs().max().item()}\")"
   ]
  }
 ],
 "metadata": {
  "kernelspec": {
   "display_name": "Python 3 (ipykernel)",
   "language": "python",
   "name": "python3"
  },
  "language_info": {
   "codemirror_mode": {
    "name": "ipython",
    "version": 3
   },
   "file_extension": ".py",
   "mimetype": "text/x-python",
   "name": "python",
   "nbconvert_exporter": "python",
   "pygments_lexer": "ipython3",
   "version": "3.11.5"
  },
  "widgets": {
   "application/vnd.jupyter.widget-state+json": {
    "state": {},
    "version_major": 2,
    "version_minor": 0
   }
  }
 },
 "nbformat": 4,
 "nbformat_minor": 5
}
