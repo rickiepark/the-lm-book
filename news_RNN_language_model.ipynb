{
  "cells": [
    {
      "cell_type": "markdown",
      "metadata": {
        "id": "view-in-github",
        "colab_type": "text"
      },
      "source": [
        "<a href=\"https://colab.research.google.com/github/rickiepark/the-lm-book/blob/main/news_RNN_language_model.ipynb\" target=\"_parent\"><img src=\"https://colab.research.google.com/assets/colab-badge.svg\" alt=\"Open In Colab\"/></a>"
      ]
    },
    {
      "cell_type": "markdown",
      "source": [
        "<div style=\"display: flex; justify-content: center;\">\n",
        "    <div style=\"background-color: #f4f6f7; padding: 15px; width: 80%;\">\n",
        "        <table style=\"width: 100%\">\n",
        "            <tbody><tr>\n",
        "                <td style=\"vertical-align: middle;\">\n",
        "                    <span style=\"font-size: 14px;\">\n",
        "                        A notebook for <a rel=\"noopener\" href=\"https://www.thelmbook.com\">The Hundred-Page Language Models Book</a> by Andriy Burkov<br><br>\n",
        "                        Code repository: <a rel=\"noopener\" href=\"https://github.com/aburkov/theLMbook\">https://github.com/aburkov/theLMbook</a>\n",
        "                    </span>\n",
        "                </td>\n",
        "                <td style=\"vertical-align: middle;\">\n",
        "                    <a href=\"https://www.thelmbook.com\" target=\"_blank\" rel=\"noopener\">\n",
        "                        <img src=\"https://thelmbook.com/img/book.png\" width=\"80px\" alt=\"The Hundred-Page Language Models Book\">\n",
        "                    </a>\n",
        "                </td>\n",
        "            </tr>\n",
        "        </tbody></table>\n",
        "    </div>\n",
        "</div>"
      ],
      "metadata": {
        "id": "Re-HLYr0U_eL"
      }
    },
    {
      "cell_type": "markdown",
      "source": [
        "# RNN 기반 언어 모델\n",
        "\n",
        "## 유틸리티 함수와 클래스\n",
        "\n",
        "다음 셀에서 필요 라이브러리를 임포트하고 유틸리티 함수와 모델 클래스를 정의합니다."
      ],
      "metadata": {
        "id": "4k_iGNa_JVHp"
      }
    },
    {
      "cell_type": "code",
      "execution_count": 1,
      "metadata": {
        "id": "yy0zjL_2ouOU"
      },
      "outputs": [],
      "source": [
        "# 필수 라이브러리 임포트\n",
        "import os               # 파일 및 경로 작업을 위한 라이브러리 (check_file_exists, extract_dataset)\n",
        "import urllib.request   # URL에서 데이터셋 파일 다운로드를 위한 라이브러리\n",
        "import tarfile          # .tar.gz 데이터셋 압축 해제를 위한 라이브러리\n",
        "import torch            # 텐서 연산과 딥러닝을 위한 메인 파이토치 라이브러리\n",
        "import torch.nn as nn   # 신경망 모듈, 층 및 유틸리티\n",
        "from torch.utils.data import DataLoader, IterableDataset  # 효율적인 데이터 로딩 및 스트리밍을 위한 라이브러리\n",
        "import random           # 재현성을 위한 난수 시드 설정\n",
        "from tqdm import tqdm   # 훈련 및 평가 시 진행률 표시를 위한 라이브러리\n",
        "import math             # exp()를 사용한 혼잡도 계산을 위한 라이브러리\n",
        "import re               # 텍스트 전처리를 위한 라이브러리 (숫자를 자리 표시자로 대체)\n",
        "from transformers import AutoTokenizer # 사전 훈련된 토크나이저 로드를 위한 라이브러리\n",
        "\n",
        "# ----------------------------\n",
        "# 유틸리티 함수\n",
        "# ----------------------------\n",
        "def set_seed(seed):\n",
        "    \"\"\"\n",
        "    다양한 파이썬 라이브러리에서 재현성을 위해 난수 시드를 설정합니다.\n",
        "    이렇게 하면 여러 실행에 걸쳐 랜덤한 연산이 동일한 결과를 제공합니다.\n",
        "    Args:\n",
        "        seed (int): 난수 생성을 위한 시드 값\n",
        "    \"\"\"\n",
        "    # 파이썬 내장 random 모듈의 시드 설정\n",
        "    random.seed(seed)\n",
        "    # 파이토치의 CPU 난수 생성기 시드 설정\n",
        "    torch.manual_seed(seed)\n",
        "    # 파이토치의 GPU 난수 생성기 시드 설정\n",
        "    torch.cuda.manual_seed_all(seed)\n",
        "    # 가능한 경우 cuDNN이 결정론적 알고리즘을 사용하도록 요청\n",
        "    # 참고: 이는 성능에 영향을 미칠 수 있으며 모든 경우에서 결정론을 보장하지 않을 수 있습니다\n",
        "    torch.backends.cudnn.deterministic = True\n",
        "    # 특정 입력 크기에 대해 최적의 알고리즘을 찾는 cuDNN의 자동 튜너를 비활성화\n",
        "    # 일관된 동작을 보장하지만 입력 크기를 최적화하지 않으므로 더 느릴 수 있습니다\n",
        "    torch.backends.cudnn.benchmark = False\n",
        "\n",
        "class IterableTextDataset(IterableDataset):\n",
        "    \"\"\"\n",
        "    메모리 효율적인 방식으로 텍스트 데이터를 처리하기 위한 반복 가능한 데이터셋입니다.\n",
        "    모든 데이터를 메모리에 로드하는 대신 디스크에서 데이터를 스트리밍합니다.\n",
        "    스트리밍 지원을 위해 파이토치의 IterableDataset을 상속합니다.\n",
        "    Args:\n",
        "        file_path (str): 문장이 포함된 텍스트 파일의 경로\n",
        "        tokenizer: 텍스트를 토큰으로 변환하기 위한 토크나이저 객체\n",
        "        max_length (int): 처리할 최대 시퀀스 길이 (기본값: 30)\n",
        "    \"\"\"\n",
        "    def __init__(self, file_path, tokenizer, max_length=30):\n",
        "        # 데이터 읽기를 위한 파일 경로 저장\n",
        "        self.file_path = file_path\n",
        "        # 텍스트 처리를 위한 토크나이저 저장\n",
        "        self.tokenizer = tokenizer\n",
        "        # 긴 시퀀스를 자르기 위한 최대 시퀀스 길이 설정\n",
        "        self.max_length = max_length\n",
        "        self._count_sentences()\n",
        "\n",
        "    def __iter__(self):\n",
        "        \"\"\"\n",
        "        데이터셋에 대한 반복자를 생성합니다.\n",
        "        이 메서드는 데이터셋을 반복할 때 호출됩니다.\n",
        "        Yields:\n",
        "            tuple: 언어 모델링을 위한 (input_sequence, target_sequence) 쌍\n",
        "                  input_sequence는 마지막 토큰까지의 시퀀스\n",
        "                  target_sequence는 한 위치 오른쪽으로 이동한 시퀀스\n",
        "        \"\"\"\n",
        "        # UTF-8 인코딩으로 읽기 모드에서 파일 열기\n",
        "        with open(self.file_path, 'r', encoding=\"utf-8\") as f:\n",
        "            # 파일의 각 라인(문장) 처리\n",
        "            for line in f:\n",
        "                # 앞뒤 공백 제거\n",
        "                sentence = line.strip()\n",
        "                # 모든 숫자를 ### 자리 표시자로 대체\n",
        "                # 이는 어휘 크기를 줄이고 모델의 일반화에 도움이 됩니다\n",
        "                sentence = re.sub(r\"\\d+\", \"###\", sentence)\n",
        "                # 문장을 토큰 ID로 변환\n",
        "                encoded_sentence = self.tokenizer.encode(\n",
        "                    sentence,\n",
        "                    max_length=self.max_length,\n",
        "                    truncation=True\n",
        "                )\n",
        "                # 최소 2개의 토큰이 있는 시퀀스만 사용\n",
        "                # (최소 하나의 입력과 하나의 타깃 토큰이 필요)\n",
        "                if len(encoded_sentence) >= 2:\n",
        "                    # 입력은 마지막을 제외한 모든 토큰\n",
        "                    input_seq = encoded_sentence[:-1]\n",
        "                    # 타깃은 첫 번째를 제외한 모든 토큰\n",
        "                    target_seq = encoded_sentence[1:]\n",
        "                    # 파이토치 텐서로 변환하여 반환\n",
        "                    yield torch.tensor(input_seq, dtype=torch.long), torch.tensor(target_seq, dtype=torch.long)\n",
        "\n",
        "    def __len__(self):\n",
        "        return self._num_sentences\n",
        "\n",
        "    def _count_sentences(self):\n",
        "        print(f\"{self.file_path}에서 문장 수 계산 중...\")\n",
        "        with open(self.file_path, 'r', encoding=\"utf-8\") as f:\n",
        "            self._num_sentences = sum(1 for _ in f)\n",
        "        print(f\"{self.file_path}에서 {self._num_sentences}개의 문장을 찾았습니다.\")\n",
        "\n",
        "# ----------------------------\n",
        "# 데이터 다운로드 및 준비\n",
        "# ----------------------------\n",
        "def create_collate_fn(tokenizer):\n",
        "    \"\"\"\n",
        "    다양한 길이의 시퀀스를 배치로 만들기 위한 collate 함수를 생성합니다.\n",
        "    이 함수는 더 짧은 시퀀스를 배치에서 가장 긴 시퀀스와 일치하도록 패딩합니다.\n",
        "    Args:\n",
        "        tokenizer: 패딩 토큰 정보를 포함하는 토크나이저 객체\n",
        "    Returns:\n",
        "        function: 배치에서 패딩을 처리하는 collate 함수\n",
        "    \"\"\"\n",
        "    def collate_fn(batch):\n",
        "        # 배치에서 입력과 타깃 분리\n",
        "        input_seqs, target_seqs = zip(*batch)\n",
        "        # 토크나이저에서 패딩 토큰 ID 가져오기\n",
        "        pad_index = tokenizer.pad_token_id\n",
        "        # 입력 시퀀스를 동일한 길이로 패딩\n",
        "        input_padded = nn.utils.rnn.pad_sequence(input_seqs, batch_first=True, padding_value=pad_index)\n",
        "        # 타깃 시퀀스를 동일한 길이로 패딩\n",
        "        target_padded = nn.utils.rnn.pad_sequence(target_seqs, batch_first=True, padding_value=pad_index)\n",
        "        return input_padded, target_padded\n",
        "    return collate_fn\n",
        "\n",
        "def check_file_exists(filename):\n",
        "    \"\"\"\n",
        "    현재 디렉토리에 파일이 있는지 확인합니다.\n",
        "    Args:\n",
        "        filename (str): 확인할 파일 이름\n",
        "    Returns:\n",
        "        bool: 파일이 있으면 True, 없으면 False\n",
        "    \"\"\"\n",
        "    return os.path.exists(filename)\n",
        "\n",
        "def download_file(url):\n",
        "    \"\"\"\n",
        "    로컬에 파일이 없는 경우 주어진 URL에서 파일을 다운로드합니다.\n",
        "    다운로드 차단을 방지하기 위해 사용자 지정 User-Agent를 사용합니다.\n",
        "    Args:\n",
        "        url (str): 다운로드할 파일의 URL\n",
        "    Returns:\n",
        "        str: 다운로드된 파일의 이름 (\"news.tar.gz\")\n",
        "    \"\"\"\n",
        "    # URL에 관계없이 항상 news.tar.gz를 파일 이름으로 사용\n",
        "    filename = \"news.tar.gz\"\n",
        "    if not check_file_exists(filename):\n",
        "        print(f\"{url}에서 데이터셋 다운로드 중...\")\n",
        "        req = urllib.request.Request(\n",
        "            url,\n",
        "            headers={\"User-Agent\": \"Mozilla/5.0\"}\n",
        "        )\n",
        "        with urllib.request.urlopen(req) as response:\n",
        "            with open(filename, \"wb\") as out_file:\n",
        "                out_file.write(response.read())\n",
        "        print(\"다운로드가 완료되었습니다.\")\n",
        "    else:\n",
        "        print(f\"{filename}은(는) 이미 다운로드되었습니다.\")\n",
        "    return filename\n",
        "\n",
        "def is_within_directory(directory, target):\n",
        "    \"\"\"\n",
        "    절대 경로를 비교하여 대상 경로가 지정된 디렉토리 내에 있는지 확인합니다.\n",
        "    Args:\n",
        "        directory (str): 기본 디렉토리 경로\n",
        "        target (str): 확인할 대상 경로\n",
        "    Returns:\n",
        "        bool: 대상의 절대 경로가 디렉토리의 절대 경로로 시작하면 True\n",
        "    \"\"\"\n",
        "    abs_directory = os.path.abspath(directory)\n",
        "    abs_target = os.path.abspath(target)\n",
        "    prefix = os.path.commonprefix([abs_directory, abs_target])\n",
        "    return prefix == abs_directory\n",
        "\n",
        "def extract_dataset(filename):\n",
        "    \"\"\"\n",
        "    다운로드한 아카이브에서 train.txt와 test.txt를 추출합니다.\n",
        "    아카이브 내용에 대한 디버그 정보를 포함합니다.\n",
        "    Args:\n",
        "        filename (str): 아카이브 파일의 이름\n",
        "    Returns:\n",
        "        tuple: 추출된 train과 test 파일의 경로\n",
        "    \"\"\"\n",
        "    data_dir = os.path.join(os.path.dirname(filename), \"news\")\n",
        "    train_path = os.path.join(data_dir, \"train.txt\")\n",
        "    test_path = os.path.join(data_dir, \"test.txt\")\n",
        "\n",
        "    if check_file_exists(train_path) and check_file_exists(test_path):\n",
        "        print(\"데이터 파일이 이미 추출되었습니다.\")\n",
        "        return train_path, test_path\n",
        "\n",
        "    print(\"\\n아카이브 내용 나열:\")\n",
        "    with tarfile.open(filename, \"r:gz\") as tar:\n",
        "        for member in tar.getmembers():\n",
        "            print(f\"아카이브 멤버: {member.name}\")\n",
        "        print(\"\\n파일 추출 중...\")\n",
        "        # 먼저 현재 디렉토리로 추출\n",
        "        tar.extractall('.')\n",
        "\n",
        "    if not (check_file_exists(train_path) and check_file_exists(test_path)):\n",
        "        raise FileNotFoundError(f\"아카이브에서 필요한 파일을 찾을 수 없습니다. 위의 경로를 확인하십시오.\")\n",
        "\n",
        "    print(\"추출이 완료되었습니다.\")\n",
        "    return train_path, test_path\n",
        "\n",
        "def create_datasets(train_file, test_file, tokenizer, max_length=30):\n",
        "    \"\"\"\n",
        "    훈련과 테스트를 위한 IterableTextDataset 객체를 생성합니다.\n",
        "    이 데이터셋은 모든 데이터를 메모리에 로드하는 대신 디스크에서 데이터를 스트리밍합니다.\n",
        "    Args:\n",
        "        train_file (str): 훈련 데이터 파일의 경로\n",
        "        test_file (str): 테스트 데이터 파일의 경로\n",
        "        tokenizer: 텍스트 처리를 위한 토크나이저 객체\n",
        "    Returns:\n",
        "        tuple: (train_dataset, test_dataset) - 훈련과 테스트를 위한 데이터셋 객체\n",
        "    \"\"\"\n",
        "    # 훈련 데이터셋 생성\n",
        "    train_dataset = IterableTextDataset(train_file, tokenizer, max_length)\n",
        "    # 테스트 데이터셋 생성\n",
        "    test_dataset = IterableTextDataset(test_file, tokenizer, max_length)\n",
        "    # 데이터셋 크기 출력\n",
        "    print(f\"훈련 문장 수: {len(train_dataset)}\")\n",
        "    print(f\"테스트 문장 수: {len(test_dataset)}\")\n",
        "    return train_dataset, test_dataset\n",
        "\n",
        "def create_dataloaders(train_dataset, test_dataset, batch_size, collate_fn):\n",
        "    \"\"\"\n",
        "    효율적인 데이터 반복을 위한 DataLoader 객체를 생성합니다.\n",
        "    Args:\n",
        "        train_dataset: 훈련 데이터셋\n",
        "        test_dataset: 테스트 데이터셋\n",
        "        batch_size (int): 배치당 시퀀스 수\n",
        "        collate_fn: 패딩과 배치 생성을 처리하는 함수\n",
        "    Returns:\n",
        "        tuple: (train_dataloader, test_dataloader) - 적절한 패딩으로\n",
        "               데이터 배치를 반복하기 위한 DataLoader 객체\n",
        "    \"\"\"\n",
        "    # 훈련 데이터 로더 생성\n",
        "    train_dataloader = DataLoader(\n",
        "        train_dataset,\n",
        "        batch_size=batch_size,\n",
        "        collate_fn=collate_fn,    # 패딩을 처리하는 함수\n",
        "        num_workers=0             # 워커 프로세스 수 (0 = 단일 프로세스)\n",
        "    )\n",
        "    # 테스트 데이터 로더 생성\n",
        "    test_dataloader = DataLoader(\n",
        "        test_dataset,\n",
        "        batch_size=batch_size,\n",
        "        collate_fn=collate_fn,\n",
        "        num_workers=0\n",
        "    )\n",
        "    return train_dataloader, test_dataloader\n",
        "\n",
        "def download_and_prepare_data(url, batch_size, tokenizer, max_length=30):\n",
        "    \"\"\"\n",
        "    전체 데이터 준비 파이프라인을 처리하는 메인 함수입니다.\n",
        "    데이터를 다운로드하고, 추출하고, 필요한 데이터셋 객체를 생성합니다.\n",
        "    Args:\n",
        "        url (str): 데이터셋 아카이브를 다운로드할 수 있는 URL\n",
        "        batch_size (int): 데이터 로딩을 위한 배치 크기\n",
        "        tokenizer: 텍스트 처리를 위한 토크나이저 객체\n",
        "        max_length (int): 토큰화를 위한 최대 시퀀스 길이 (기본값: 30)\n",
        "    Returns:\n",
        "        tuple: (train_dataloader, test_dataloader) - 사용 준비된 데이터 로더\n",
        "    \"\"\"\n",
        "    # 1단계: URL에서 데이터셋 아카이브 다운로드\n",
        "    filename = download_file(url)\n",
        "    # 2단계: 아카이브에서 훈련 및 테스트 파일 추출\n",
        "    train_file, test_file = extract_dataset(filename)\n",
        "    # 3단계: 데이터 스트리밍을 위한 데이터셋 객체 생성\n",
        "    train_dataset, test_dataset = create_datasets(train_file, test_file, tokenizer, max_length)\n",
        "    # 4단계: 배치 생성을 처리하는 함수 생성\n",
        "    collate_fn = create_collate_fn(tokenizer)\n",
        "    # 5단계: 데이터 로더 생성 및 반환\n",
        "    return create_dataloaders(train_dataset, test_dataset, batch_size, collate_fn)\n",
        "\n",
        "def compute_loss_and_perplexity(model, dataloader, tokenizer, criterion, device, max_sentences=1000):\n",
        "    \"\"\"\n",
        "    데이터에 대한 손실과 혼잡도를 계산하여 모델 성능을 평가합니다.\n",
        "    Args:\n",
        "        model (nn.Module): 평가할 언어 모델\n",
        "        dataloader (DataLoader): 배치 시퀀스를 포함하는 데이터 로더\n",
        "        tokenizer: 패딩과 같은 특수 토큰을 처리하기 위한 토크나이저\n",
        "        criterion: 손실 함수 (보통 CrossEntropyLoss)\n",
        "        device: 계산을 실행할 장치 (cuda/cpu)\n",
        "        max_sentences (int): 평가할 최대 문장 수 (기본값: 1000)\n",
        "                           더 빠른 검증을 위해 평가를 하위 집합으로 제한합니다\n",
        "    Returns:\n",
        "        tuple: (average_loss, perplexity)\n",
        "               - average_loss: 토큰당 평균 손실 (패딩 제외)\n",
        "               - perplexity: exp(average_loss), 낮을수록 좋음\n",
        "    \"\"\"\n",
        "    # 모델을 평가 모드로 설정 (드롭아웃 등 비활성화)\n",
        "    model.eval()\n",
        "    # 손실 계산을 위한 카운터 초기화\n",
        "    total_loss = 0.0          # 모든 배치에 대한 총 손실 누적 변수\n",
        "    total_tokens = 0          # 총 토큰 수 카운터 (패딩 제외)\n",
        "    sentences_processed = 0    # 처리된 문장 수 카운터\n",
        "\n",
        "    # 효율성을 위해 그래디언트 계산 비활성화\n",
        "    with torch.no_grad():\n",
        "        # 진행률 표시와 함께 데이터 반복\n",
        "        for input_seq, target_seq in tqdm(dataloader, desc=\"평가 중\", leave=False):\n",
        "            # 입력과 타깃 시퀀스를 지정된 장치로 이동\n",
        "            input_seq = input_seq.to(device)      # 크기: (batch_size, seq_len)\n",
        "            target_seq = target_seq.to(device)    # 크기: (batch_size, seq_len)\n",
        "\n",
        "            # 현재 배치 크기 가져오기 (마지막 배치는 더 작을 수 있음)\n",
        "            batch_size_current = input_seq.size(0)\n",
        "\n",
        "            # 모델을 통한 포워드 패스\n",
        "            logits = model(input_seq)             # 크기: (batch_size, seq_len, vocab_size)\n",
        "\n",
        "            # 손실 계산을 위해 로짓과 타깃 재구성\n",
        "            logits = logits.reshape(-1, logits.size(-1))  # 크기: (batch_size * seq_len, vocab_size)\n",
        "            target = target_seq.reshape(-1)              # 크기: (batch_size * seq_len)\n",
        "\n",
        "            # 패딩 토큰을 제외하는 마스크 생성\n",
        "            mask = target != tokenizer.pad_token_id\n",
        "\n",
        "            # 패딩되지 않은 토큰에 대해서만 손실 계산\n",
        "            loss = criterion(logits[mask], target[mask])\n",
        "\n",
        "            # 카운터 업데이트\n",
        "            loss_value = loss.item() * mask.sum().item()  # 이 배치의 총 손실\n",
        "            total_loss += loss_value                      # 배치 손실 누적\n",
        "            total_tokens += mask.sum().item()             # 패딩이 아닌 토큰 수 계산\n",
        "\n",
        "            # 문장 카운터 업데이트 및 최대값에 도달했는지 확인\n",
        "            sentences_processed += batch_size_current\n",
        "            if sentences_processed >= max_sentences:\n",
        "                break\n",
        "\n",
        "    # 최종 메트릭 계산\n",
        "    average_loss = total_loss / total_tokens           # 토큰 수로 손실 정규화\n",
        "    perplexity = math.exp(average_loss)               # 손실을 혼잡도로 변환\n",
        "    return average_loss, perplexity\n",
        "\n",
        "def perform_model_evaluation(model, test_dataloader, criterion, tokenizer, device, contexts):\n",
        "    \"\"\"\n",
        "    손실 계산, 혼잡도 및 텍스트 생성을 포함한 모델 평가를 수행합니다.\n",
        "    Args:\n",
        "        model: 신경망 모델\n",
        "        test_dataloader: 테스트/검증 데이터를 포함하는 DataLoader\n",
        "        criterion: 손실 함수\n",
        "        tokenizer: 텍스트 생성을 위한 토크나이저\n",
        "        device: 계산을 실행할 장치 (cuda/cpu)\n",
        "        contexts: 텍스트 생성을 위한 문맥 문자열 목록\n",
        "    Returns:\n",
        "        tuple: (average_loss, perplexity)\n",
        "    \"\"\"\n",
        "    # 평가 모드로 전환\n",
        "    model.eval()\n",
        "\n",
        "    # 메트릭 계산\n",
        "    average_loss, perplexity = compute_loss_and_perplexity(\n",
        "        model, test_dataloader, tokenizer, criterion, device, max_sentences=1000\n",
        "    )\n",
        "    print(f\"검증 평균 손실: {average_loss:.4f}, 혼잡도: {perplexity:.2f}\")\n",
        "\n",
        "    # 문맥을 사용한 텍스트 생성\n",
        "    print(\"generate_text를 사용하여 문맥을 기반으로 텍스트 생성:\\n\")\n",
        "    for context in contexts:\n",
        "        generated_text = generate_text(\n",
        "            model=model,          # 로드된 언어 모델\n",
        "            start_string=context, # 시작 문맥\n",
        "            tokenizer=tokenizer,  # 텍스트 변환을 위한 토크나이저\n",
        "            device=device,        # CPU 또는 GPU 장치\n",
        "            max_length=50         # 생성된 시퀀스의 최대 길이\n",
        "        )\n",
        "        print(f\"\\n문맥: {context}\")\n",
        "        print(f\"\\n생성된 텍스트: {generated_text}\\n\")\n",
        "\n",
        "    return average_loss, perplexity\n",
        "\n",
        "def generate_text(model, start_string, tokenizer, device, max_length=50):\n",
        "    \"\"\"\n",
        "    탐욕적 디코딩을 사용하여 주어진 시작 문자열에서 텍스트를 이어갑니다.\n",
        "    이 메서드는 항상 가장 가능성 있는 다음 토큰을 선택합니다.\n",
        "    Args:\n",
        "        model (nn.Module): 훈련된 언어 모델\n",
        "        start_string (str): 초기 텍스트\n",
        "        tokenizer: 텍스트 처리를 위한 토크나이저\n",
        "        device: 생성을 실행할 장치 (cuda/cpu)\n",
        "        max_length (int): 생성된 시퀀스의 최대 길이\n",
        "    Returns:\n",
        "        str: 생성된 텍스트 연속\n",
        "    \"\"\"\n",
        "    # 모델을 평가 모드로 설정\n",
        "    model.eval()\n",
        "\n",
        "    # 시작 문자열을 토큰 ID로 변환하고 장치로 이동\n",
        "    # return_tensors=\"pt\"는 목록 대신 파이토치 텐서를 반환합니다\n",
        "    tokens = tokenizer.encode(start_string, return_tensors=\"pt\", max_length=max_length, truncation=True).to(device)\n",
        "\n",
        "    # 입력 토큰으로 생성된 시퀀스 초기화\n",
        "    generated = tokens\n",
        "\n",
        "    # 한 번에 하나의 새 토큰 생성\n",
        "    for _ in range(max_length):\n",
        "        # 모델의 예측 가져오기\n",
        "        output = model(generated)                    # 크기: (1, seq_len, vocab_size)\n",
        "        # 다음 토큰에 대한 로짓 가져오기 (마지막 위치)\n",
        "        next_token_logits = output[0, -1, :]        # 크기: (vocab_size)\n",
        "        # 가장 높은 확률을 가진 토큰 선택 (탐욕적 디코딩)\n",
        "        # 예상 크기와 일치하도록 두 번 확장 (1, 1)\n",
        "        next_token_id = torch.argmax(next_token_logits, dim=-1).unsqueeze(0).unsqueeze(0)\n",
        "        # 생성된 시퀀스에 새 토큰 추가\n",
        "        generated = torch.cat((generated, next_token_id), dim=1)\n",
        "        # 시퀀스 끝 토큰이 생성되면 중지\n",
        "        if next_token_id.item() == tokenizer.eos_token_id:\n",
        "            break\n",
        "\n",
        "    # 토큰 ID를 다시 텍스트로 변환\n",
        "    generated_text = tokenizer.decode(generated.squeeze().tolist())\n",
        "    return generated_text\n",
        "\n",
        "def save_model(model, tokenizer, file_prefix):\n",
        "    model_state = {\n",
        "        \"state_dict\": model.state_dict(),\n",
        "        \"vocab_size\": model.vocab_size,\n",
        "        \"emb_dim\": model.emb_dim,\n",
        "        \"num_layers\": model.num_layers,\n",
        "        \"pad_index\": model.pad_index,\n",
        "        \"training\": model.training  # 훈련 상태 저장\n",
        "    }\n",
        "    torch.save(model_state, f\"{file_prefix}_model.pth\")\n",
        "    tokenizer.save_pretrained(f\"{file_prefix}_tokenizer\")\n",
        "\n",
        "def load_model(file_prefix):\n",
        "    device = torch.device(\"cuda\" if torch.cuda.is_available() else \"cpu\")\n",
        "    # 먼저 올바른 장치에 상태 딕셔너리 로드\n",
        "    model_state = torch.load(f\"{file_prefix}_model.pth\", map_location=device, weights_only=True)\n",
        "    # 상태 딕셔너리를 로드하기 전에 모델 생성 및 장치 이동\n",
        "    model = RecurrentLanguageModel(\n",
        "        model_state[\"vocab_size\"],\n",
        "        model_state[\"emb_dim\"],\n",
        "        model_state[\"num_layers\"],\n",
        "        model_state[\"pad_index\"]\n",
        "    ).to(device)\n",
        "    # 모델이 올바른 장치에 있은 후 상태 사전 로드\n",
        "    model.load_state_dict(model_state[\"state_dict\"])\n",
        "    # 평가 모드로 설정\n",
        "    model.eval()\n",
        "    tokenizer = AutoTokenizer.from_pretrained(f\"{file_prefix}_tokenizer\")\n",
        "    return model, tokenizer\n",
        "\n",
        "def get_hyperparameters():\n",
        "    \"\"\"\n",
        "    모델 훈련을 위한 기본 하이퍼파라미터를 반환합니다.\n",
        "    Returns:\n",
        "        tuple: (emb_dim, num_layers, batch_size, learning_rate, num_epochs)\n",
        "    \"\"\"\n",
        "    emb_dim = 128         # 임베딩 차원\n",
        "    num_layers = 2        # RNN 층 수\n",
        "    batch_size = 128      # 훈련 배치 크기\n",
        "    learning_rate = 0.001 # 최적화를 위한 학습률\n",
        "    num_epochs = 1        # 훈련 에포크 수\n",
        "    context_size = 30     # 최대 입력 시퀀스 길이\n",
        "    return emb_dim, num_layers, batch_size, learning_rate, num_epochs, context_size"
      ]
    },
    {
      "cell_type": "markdown",
      "source": [
        "# 모델 클래스\n",
        "\n",
        "RNN 언어 모델 클래스와 초기화 메서드"
      ],
      "metadata": {
        "id": "SrxY7I8Bml9c"
      }
    },
    {
      "cell_type": "code",
      "source": [
        "# ----------------------------\n",
        "# 순환 언어 모델 클래스\n",
        "# ----------------------------\n",
        "def initialize_weights(model):\n",
        "    \"\"\"\n",
        "    다차원 파라미터에는 Xavier 균등 초기화를 사용하고, 편향 및 기타 1차원 파라미터에는\n",
        "    균등 초기화를 사용하여 모델 가중치를 초기화합니다.\n",
        "    Args:\n",
        "        model (nn.Module): 가중치를 초기화해야 하는 파이토치 모델\n",
        "    \"\"\"\n",
        "    # 모델에서 이름을 가진 파라미터를 모두 반복\n",
        "    for name, param in model.named_parameters():\n",
        "        # 파라미터가 1차원 이상인 경우 확인 (예: 가중치 행렬)\n",
        "        if param.dim() > 1:\n",
        "            # 가중치 행렬에 Xavier 균등 초기화 사용\n",
        "            # 이는 분산을 일정하게 유지하여 기울기 소실/폭주을 방지하는 데 도움이 됩니다\n",
        "            nn.init.xavier_uniform_(param)\n",
        "        else:\n",
        "            # 1차원 파라미터(편향 등)의 경우 간단한 균등 초기화 사용\n",
        "            nn.init.uniform_(param)\n",
        "\n",
        "class ElmanRNNUnit(nn.Module):\n",
        "    \"\"\"\n",
        "    단일 Elman RNN 유닛(간단한 순환 신경망 셀)의 구현입니다.\n",
        "    입력의 타임스텝 하나를 처리하는 RNN의 기본 구성 요소입니다.\n",
        "    Args:\n",
        "        emb_dim (int): 임베딩/은닉 상태 벡터의 차원\n",
        "    \"\"\"\n",
        "    def __init__(self, emb_dim):\n",
        "        super(ElmanRNNUnit, self).__init__()\n",
        "        # 은닉-은닉 가중치 행렬: 이전 은닉 상태를 변환\n",
        "        # 크기: (emb_dim, emb_dim)\n",
        "        self.Uh = nn.Parameter(torch.rand(emb_dim, emb_dim))\n",
        "        # 입력-은닉 가중치 행렬: 현재 입력을 변환\n",
        "        # 크기: (emb_dim, emb_dim)\n",
        "        self.Wh = nn.Parameter(torch.rand(emb_dim, emb_dim))\n",
        "        # 변환 합에 더해지는 편향 항\n",
        "        # 크기: (emb_dim,)\n",
        "        self.b = nn.Parameter(torch.rand(emb_dim))\n",
        "\n",
        "    def forward(self, x, h):\n",
        "        \"\"\"\n",
        "        RNN 유닛의 한 타임스텝을 계산합니다.\n",
        "        Args:\n",
        "            x (torch.Tensor): 크기가 (batch_size, emb_dim)인 현재 입력 텐서\n",
        "            h (torch.Tensor): 크기가 (batch_size, emb_dim)인 이전 은닉 상태\n",
        "        Returns:\n",
        "            torch.Tensor: 크기가 (batch_size, emb_dim)인 새 은닉 상태\n",
        "        구현된 공식: h_new = tanh(x @ Wh + h @ Uh + b)\n",
        "        여기서 @는 행렬 곱셈을 나타냅니다\n",
        "        \"\"\"\n",
        "        # 1. 현재 입력 변환: x @ Wh\n",
        "        input_transform = x @ self.Wh\n",
        "        # 2. 이전 은닉 상태 변환: h @ Uh\n",
        "        hidden_transform = h @ self.Uh\n",
        "        # 3. 두 변환과 편향을 더함\n",
        "        # 4. tanh 활성화 함수를 적용하여 새 은닉 상태 얻기\n",
        "        # tanh는 값을 (-1, 1) 범위로 압축하여 기울기 폭주를 방지하는 데 도움이 됩니다\n",
        "        return torch.tanh(input_transform + hidden_transform + self.b)\n",
        "\n",
        "class ElmanRNN(nn.Module):\n",
        "    \"\"\"\n",
        "    전체 시퀀스를 처리하는 다층 Elman RNN 구현입니다.\n",
        "    더 복잡한 패턴을 학습할 수 있는 더 깊은 네트워크를 만들기 위해 여러 RNN 유닛을 쌓습니다.\n",
        "    Args:\n",
        "        emb_dim (int): 임베딩 및 은닉 상태의 차원\n",
        "        num_layers (int): 쌓인 RNN 층의 수\n",
        "    \"\"\"\n",
        "    def __init__(self, emb_dim, num_layers):\n",
        "        super().__init__()\n",
        "        self.emb_dim = emb_dim\n",
        "        self.num_layers = num_layers\n",
        "        # 각 층에 대한 RNN 유닛 리스트 생성\n",
        "        # ModuleList를 사용하여 파이토치가 모든 파라미터를 추적하도록 함\n",
        "        self.rnn_units = nn.ModuleList(\n",
        "            [ElmanRNNUnit(emb_dim) for _ in range(num_layers)]\n",
        "        )\n",
        "\n",
        "    def forward(self, x):\n",
        "        \"\"\"\n",
        "        모든 RNN 층을 통해 입력 시퀀스를 처리합니다.\n",
        "        Args:\n",
        "            x (torch.Tensor): 크기가 (batch_size, seq_len, emb_dim)인 입력 텐서\n",
        "        Returns:\n",
        "            torch.Tensor: 크기가 (batch_size, seq_len, emb_dim)인 출력 텐서\n",
        "        \"\"\"\n",
        "        # 입력 텐서에서 차원 가져오기\n",
        "        batch_size, seq_len, emb_dim = x.size()\n",
        "        # 각 층의 은닉 상태를 0으로 초기화\n",
        "        # 각 은닉 상태는 (batch_size, emb_dim) 크기를 가짐\n",
        "        h_prev = [\n",
        "            torch.zeros(batch_size, emb_dim, device=x.device)\n",
        "            for _ in range(self.num_layers)\n",
        "        ]\n",
        "        # 각 타임스텝의 출력을 저장할 변수\n",
        "        outputs = []\n",
        "        # 각 타임스텝 처리\n",
        "        for t in range(seq_len):\n",
        "            # 현재 타임스텝의 입력 가져오기\n",
        "            input_t = x[:, t]\n",
        "            # 각 층을 통해 처리\n",
        "            for l, rnn_unit in enumerate(self.rnn_units):\n",
        "                # 이 층의 새 은닉 상태 계산\n",
        "                h_new = rnn_unit(input_t, h_prev[l])\n",
        "                # 이 층의 은닉 상태 업데이트\n",
        "                h_prev[l] = h_new\n",
        "                # 이 층의 출력이 다음 층의 입력이 됨\n",
        "                input_t = h_new\n",
        "            # 최종 층의 출력을 결과에 추가\n",
        "            outputs.append(input_t)\n",
        "        # 모든 타임스텝의 출력을 단일 텐서로 쌓기\n",
        "        # 크기: (batch_size, seq_len, emb_dim)\n",
        "        return torch.stack(outputs, dim=1)\n",
        "\n",
        "class RecurrentLanguageModel(nn.Module):\n",
        "    \"\"\"\n",
        "    임베딩 층, 다층 RNN 및 출력 프로젝션 층을 결합한 완전한 언어 모델 구현입니다.\n",
        "    모델 아키텍처는 다음과 같습니다:\n",
        "    1. 입력 토큰 -> 임베딩 층 -> 임베딩 벡터\n",
        "    2. 임베딩 벡터 -> RNN 층 -> 문맥 벡터\n",
        "    3. 문맥 벡터 -> 선형 층 -> 어휘 예측\n",
        "    Args:\n",
        "        vocab_size (int): 어휘의 크기 (고유 토큰 수)\n",
        "        emb_dim (int): 임베딩 및 은닉 상태의 차원\n",
        "        num_layers (int): RNN 층의 수\n",
        "        pad_index (int): 패딩 토큰에 사용되는 인덱스\n",
        "    \"\"\"\n",
        "    def __init__(self, vocab_size, emb_dim, num_layers, pad_index):\n",
        "        super().__init__()\n",
        "        # 모델 파라미터 저장\n",
        "        self.vocab_size = vocab_size\n",
        "        self.emb_dim = emb_dim\n",
        "        self.num_layers = num_layers\n",
        "        self.pad_index = pad_index\n",
        "\n",
        "        # 임베딩 층: 토큰 인덱스를 밀집 벡터로 변환\n",
        "        # pad_index 토큰은 0 벡터로 매핑됩니다\n",
        "        self.embedding = nn.Embedding(vocab_size, emb_dim, pad_index)\n",
        "\n",
        "        # 시퀀스 처리를 위한 RNN 층\n",
        "        self.rnn = ElmanRNN(\n",
        "            emb_dim=emb_dim,\n",
        "            num_layers=num_layers\n",
        "        )\n",
        "\n",
        "        # RNN 출력을 어휘 예측으로 변환하는 최종 선형 층\n",
        "        # 출력 크기는 각 가능한 토큰에 대한 로짓을 얻기 위해 vocab_size입니다\n",
        "        self.fc = nn.Linear(emb_dim, vocab_size)\n",
        "\n",
        "    def forward(self, x):\n",
        "        \"\"\"\n",
        "        전체 모델을 통해 입력 시퀀스를 처리합니다.\n",
        "        Args:\n",
        "            x (torch.Tensor): 토큰 인덱스의 입력 텐서\n",
        "                            크기: (batch_size, seq_len)\n",
        "        Returns:\n",
        "            torch.Tensor: 다음 토큰 예측을 위한 출력 로짓\n",
        "                         크기: (batch_size, seq_len, vocab_size)\n",
        "        처리 과정:\n",
        "        1. 토큰 인덱스를 임베딩으로 변환\n",
        "        2. 임베딩을 RNN 층을 통해 처리\n",
        "        3. RNN 출력을 어휘 크기로 프로젝션\n",
        "        \"\"\"\n",
        "        # 토큰 인덱스를 임베딩으로 변환\n",
        "        # 크기: (batch_size, seq_len) -> (batch_size, seq_len, emb_dim)\n",
        "        embeddings = self.embedding(x)\n",
        "\n",
        "        # RNN 층을 통해 처리\n",
        "        # 크기: (batch_size, seq_len, emb_dim) -> (batch_size, seq_len, emb_dim)\n",
        "        rnn_output = self.rnn(embeddings)\n",
        "\n",
        "        # 어휘 크기로 프로젝션하여 로짓 얻기\n",
        "        # 크기: (batch_size, seq_len, emb_dim) -> (batch_size, seq_len, vocab_size)\n",
        "        logits = self.fc(rnn_output)\n",
        "\n",
        "        return logits"
      ],
      "metadata": {
        "id": "A82GEwnWmorj"
      },
      "execution_count": 2,
      "outputs": []
    },
    {
      "cell_type": "markdown",
      "source": [
        "## 언어 모델 훈련하기\n",
        "\n",
        "다음 셀에서 데이터를 로드하고, 모델을 훈련 및 저장합니다."
      ],
      "metadata": {
        "id": "xcutQEMSJg77"
      }
    },
    {
      "cell_type": "code",
      "execution_count": 4,
      "metadata": {
        "id": "s61ovCwawq3f",
        "colab": {
          "base_uri": "https://localhost:8080/"
        },
        "outputId": "0d8e9781-d897-4ee5-8e5c-b50bb0835b56"
      },
      "outputs": [
        {
          "output_type": "stream",
          "name": "stdout",
          "text": [
            "news.tar.gz은(는) 이미 다운로드되었습니다.\n",
            "\n",
            "아카이브 내용 나열:\n",
            "아카이브 멤버: news\n",
            "아카이브 멤버: news/train.txt\n",
            "아카이브 멤버: news/test.txt\n",
            "\n",
            "파일 추출 중...\n"
          ]
        },
        {
          "output_type": "stream",
          "name": "stderr",
          "text": [
            "/tmp/ipython-input-2872516086.py:195: DeprecationWarning: Python 3.14 will, by default, filter extracted tar archives and reject files or modify their metadata. Use the filter argument to control this behavior.\n",
            "  tar.extractall('.')\n"
          ]
        },
        {
          "output_type": "stream",
          "name": "stdout",
          "text": [
            "추출이 완료되었습니다.\n",
            "news/train.txt에서 문장 수 계산 중...\n",
            "news/train.txt에서 22034911개의 문장을 찾았습니다.\n",
            "news/test.txt에서 문장 수 계산 중...\n",
            "news/test.txt에서 449693개의 문장을 찾았습니다.\n",
            "훈련 문장 수: 22034911\n",
            "테스트 문장 수: 449693\n",
            "총 훈련 가능한 매개변수: 8292619\n",
            "\n",
            "에포크 1/1 시작, 모델 훈련 모드: True\n"
          ]
        },
        {
          "output_type": "stream",
          "name": "stderr",
          "text": [
            "에포크 1/1:   1%|          | 1562/172148 [02:06<3:22:25, 14.04it/s, loss=5.7885]"
          ]
        },
        {
          "output_type": "stream",
          "name": "stdout",
          "text": [
            "\n",
            "200064 샘플 처리 후, 평균 손실: 6.3657\n"
          ]
        },
        {
          "output_type": "stream",
          "name": "stderr",
          "text": [
            "\n",
            "평가 중:   0%|          | 0/3514 [00:00<?, ?it/s]\u001b[A\n",
            "평가 중:   0%|          | 2/3514 [00:00<03:51, 15.17it/s]\u001b[A\n",
            "평가 중:   0%|          | 5/3514 [00:00<02:39, 22.04it/s]\u001b[A\n",
            "                                                         \u001b[A"
          ]
        },
        {
          "output_type": "stream",
          "name": "stdout",
          "text": [
            "검증 평균 손실: 5.5924, 혼잡도: 268.39\n",
            "generate_text를 사용하여 문맥을 기반으로 텍스트 생성:\n",
            "\n",
            "\n",
            "문맥: Moscow\n",
            "\n",
            "생성된 텍스트: Moscow , the first time , the first time , the first time , the first time , the first time , the first time , the first time , the first time , the first time , the first time , the first time , the first time , the\n",
            "\n",
            "문맥: New York\n",
            "\n",
            "생성된 텍스트: New York , ## , who was a lot of the world . '' he said . '' he said . '' he said . '' he said . '' he said . '' he said . '' he said . '' he said . '' he said . '' he said\n",
            "\n",
            "문맥: A hurricane\n",
            "\n",
            "생성된 텍스트: A hurricane , who was a good time . '' he said . '' he said . '' he said . '' he said . '' he said . '' he said . '' he said . '' he said . '' he said . '' he said . '' he said\n"
          ]
        },
        {
          "output_type": "stream",
          "name": "stderr",
          "text": [
            "에포크 1/1:   1%|          | 1564/172148 [02:08<15:35:04,  3.04it/s, loss=5.6027]"
          ]
        },
        {
          "output_type": "stream",
          "name": "stdout",
          "text": [
            "\n",
            "문맥: The President\n",
            "\n",
            "생성된 텍스트: The President 's first , the first time , the first time , the first time , the first time , the first time , the first time , the first time , the first time , the first time , the first time , the first time , the first\n"
          ]
        },
        {
          "output_type": "stream",
          "name": "stderr",
          "text": [
            "에포크 1/1:   2%|▏         | 3124/172148 [04:08<3:23:23, 13.85it/s, loss=5.4694]"
          ]
        },
        {
          "output_type": "stream",
          "name": "stdout",
          "text": [
            "\n",
            "200064 샘플 처리 후, 평균 손실: 5.4337\n"
          ]
        },
        {
          "output_type": "stream",
          "name": "stderr",
          "text": [
            "\n",
            "평가 중:   0%|          | 0/3514 [00:00<?, ?it/s]\u001b[A\n",
            "평가 중:   0%|          | 3/3514 [00:00<02:13, 26.23it/s]\u001b[A\n",
            "평가 중:   0%|          | 6/3514 [00:00<02:09, 27.06it/s]\u001b[A\n",
            "                                                         \u001b[A"
          ]
        },
        {
          "output_type": "stream",
          "name": "stdout",
          "text": [
            "검증 평균 손실: 5.2356, 혼잡도: 187.85\n",
            "generate_text를 사용하여 문맥을 기반으로 텍스트 생성:\n",
            "\n",
            "\n",
            "문맥: Moscow\n",
            "\n",
            "생성된 텍스트: Moscow , the ##-year-old , ## , was a ``-## . '' said . 's not a good-up . '' said . 's not a good-up . '' said . 's not a good way to be able\n",
            "\n",
            "문맥: New York\n",
            "\n",
            "생성된 텍스트: New York , ## , said : 'We 're not going to be able to be able to be able to be able to be able to be able to be able to be able to be able to be able to be able to be able to be able\n",
            "\n",
            "문맥: A hurricane\n",
            "\n",
            "생성된 텍스트: A hurricane , the ##-year-old , ## , was a ``-## . '' said . 's not a good-up . '' said . 's not a good-up . '' said . 's not a good way to be able\n"
          ]
        },
        {
          "output_type": "stream",
          "name": "stderr",
          "text": [
            "에포크 1/1:   2%|▏         | 3128/172148 [04:09<10:05:48,  4.65it/s, loss=5.2595]"
          ]
        },
        {
          "output_type": "stream",
          "name": "stdout",
          "text": [
            "\n",
            "문맥: The President\n",
            "\n",
            "생성된 텍스트: The President 's mother , who was a ``-## . '' said . 's not a good-up . '' said . 's not a good-up . '' said . 's not a good way to be able to be able to be\n"
          ]
        },
        {
          "output_type": "stream",
          "name": "stderr",
          "text": [
            "에포크 1/1:   3%|▎         | 4688/172148 [06:06<3:19:31, 13.99it/s, loss=5.1281]"
          ]
        },
        {
          "output_type": "stream",
          "name": "stdout",
          "text": [
            "\n",
            "200064 샘플 처리 후, 평균 손실: 5.1842\n"
          ]
        },
        {
          "output_type": "stream",
          "name": "stderr",
          "text": [
            "\n",
            "평가 중:   0%|          | 0/3514 [00:00<?, ?it/s]\u001b[A\n",
            "평가 중:   0%|          | 3/3514 [00:00<02:09, 27.19it/s]\u001b[A\n",
            "평가 중:   0%|          | 6/3514 [00:00<02:07, 27.52it/s]\u001b[A\n",
            "                                                         \u001b[A"
          ]
        },
        {
          "output_type": "stream",
          "name": "stdout",
          "text": [
            "검증 평균 손실: 5.0636, 혼잡도: 158.15\n",
            "generate_text를 사용하여 문맥을 기반으로 텍스트 생성:\n",
            "\n",
            "\n",
            "문맥: Moscow\n",
            "\n",
            "생성된 텍스트: Moscow 's most of the UK is not a good time . 's a very good time . '' said . 's not a . 's most of the most important thing . '' said . 's not a . 's most of the most\n",
            "\n",
            "문맥: New York\n",
            "\n",
            "생성된 텍스트: New Yorkshire Police said : ' I 'm not going to be a bit of the . '' said . 's not a . 's most of the most important thing . '' said . 's not a . 's most of the most important thing\n",
            "\n",
            "문맥: A hurricane\n",
            "\n",
            "생성된 텍스트: A hurricane , who was a second-half-year-old girlfriend , said : ' I 'm not going to be a bit of the . '' said . 's not a . 's most of the most important thing . '' said . '\n"
          ]
        },
        {
          "output_type": "stream",
          "name": "stderr",
          "text": [
            "에포크 1/1:   3%|▎         | 4690/172148 [06:08<12:45:14,  3.65it/s, loss=5.0082]"
          ]
        },
        {
          "output_type": "stream",
          "name": "stdout",
          "text": [
            "\n",
            "문맥: The President\n",
            "\n",
            "생성된 텍스트: The President 's mother , who was a second-half-year-old girlfriend , said : ' I 'm not going to be a bit of the . '' said . 's not a . 's most of the most important thing . ''\n"
          ]
        },
        {
          "output_type": "stream",
          "name": "stderr",
          "text": [
            "에포크 1/1:   4%|▎         | 6250/172148 [08:06<4:13:07, 10.92it/s, loss=5.0259]"
          ]
        },
        {
          "output_type": "stream",
          "name": "stdout",
          "text": [
            "\n",
            "200064 샘플 처리 후, 평균 손실: 5.0371\n"
          ]
        },
        {
          "output_type": "stream",
          "name": "stderr",
          "text": [
            "\n",
            "평가 중:   0%|          | 0/3514 [00:00<?, ?it/s]\u001b[A\n",
            "평가 중:   0%|          | 2/3514 [00:00<03:18, 17.73it/s]\u001b[A\n",
            "평가 중:   0%|          | 4/3514 [00:00<03:16, 17.83it/s]\u001b[A\n",
            "평가 중:   0%|          | 7/3514 [00:00<02:49, 20.64it/s]\u001b[A\n",
            "                                                         \u001b[A"
          ]
        },
        {
          "output_type": "stream",
          "name": "stdout",
          "text": [
            "검증 평균 손실: 4.9466, 혼잡도: 140.69\n",
            "generate_text를 사용하여 문맥을 기반으로 텍스트 생성:\n",
            "\n",
            "\n",
            "문맥: Moscow\n",
            "\n",
            "생성된 텍스트: Moscow , who was a ``-wife 's . '' said . 's said . 's 's most of the . 's . '' said . 's said . 's 's most of the . 's . '' said .\n",
            "\n",
            "문맥: New York\n",
            "\n",
            "생성된 텍스트: New York City , ## , said : ' I 'm not a lot of the world . '' said the . 's ##-year-old . ' . 's a very good thing . '' said . 's said . 's 's very\n",
            "\n",
            "문맥: A hurricane\n",
            "\n",
            "생성된 텍스트: A hurricane was found in the UK , and the former prime minister , said : ' I 'm not going to be a very good . 's 's most of the world 's . '' said . 's said . 's 's most of\n"
          ]
        },
        {
          "output_type": "stream",
          "name": "stderr",
          "text": [
            "에포크 1/1:   4%|▎         | 6254/172148 [08:07<11:07:17,  4.14it/s, loss=5.0652]"
          ]
        },
        {
          "output_type": "stream",
          "name": "stdout",
          "text": [
            "\n",
            "문맥: The President\n",
            "\n",
            "생성된 텍스트: The President 's mother , who was a ``-a-term . '' 's said . 's 's most of the . 's . '' said . 's said . 's 's most of the . 's . '' said .\n"
          ]
        },
        {
          "output_type": "stream",
          "name": "stderr",
          "text": [
            "에포크 1/1:   5%|▍         | 7814/172148 [10:05<3:15:08, 14.04it/s, loss=4.8694]"
          ]
        },
        {
          "output_type": "stream",
          "name": "stdout",
          "text": [
            "\n",
            "200064 샘플 처리 후, 평균 손실: 4.9354\n"
          ]
        },
        {
          "output_type": "stream",
          "name": "stderr",
          "text": [
            "\n",
            "평가 중:   0%|          | 0/3514 [00:00<?, ?it/s]\u001b[A\n",
            "평가 중:   0%|          | 3/3514 [00:00<02:08, 27.42it/s]\u001b[A\n",
            "평가 중:   0%|          | 6/3514 [00:00<02:15, 25.83it/s]\u001b[A\n",
            "                                                         \u001b[A"
          ]
        },
        {
          "output_type": "stream",
          "name": "stdout",
          "text": [
            "검증 평균 손실: 4.8613, 혼잡도: 129.19\n",
            "generate_text를 사용하여 문맥을 기반으로 텍스트 생성:\n",
            "\n",
            "\n",
            "문맥: Moscow\n",
            "\n",
            "생성된 텍스트: Moscow , the ##-year-old was found in the ####s . '## . ) . '' said . '## . '' said . '## . ) . ' '' said he was a `` good and the most of the world . '' said\n",
            "\n",
            "문맥: New York\n",
            "\n",
            "생성된 텍스트: New York City Council said the government was `` a lot of people , '' he said . ' I 'm not going to be a . '## . '' said . '## . ) . ' '' said he was a `` good and the most of the\n",
            "\n",
            "문맥: A hurricane\n",
            "\n",
            "생성된 텍스트: A hurricane was found in the ####s , which was found in the ####s . '## . ) . '' said . '## . '' said . '## . ) . ' '' said he was a `` good and the most of the world . ''\n"
          ]
        },
        {
          "output_type": "stream",
          "name": "stderr",
          "text": [
            "에포크 1/1:   5%|▍         | 7816/172148 [10:06<14:56:39,  3.05it/s, loss=4.9329]"
          ]
        },
        {
          "output_type": "stream",
          "name": "stdout",
          "text": [
            "\n",
            "문맥: The President\n",
            "\n",
            "생성된 텍스트: The President 's Office said the government was `` a lot of people , '' he said . ' I 'm not going to be a . '## . '' said . '## . ) . ' '' said he was a `` good and the most of\n"
          ]
        },
        {
          "output_type": "stream",
          "name": "stderr",
          "text": [
            "에포크 1/1:   5%|▌         | 9376/172148 [12:04<3:17:20, 13.75it/s, loss=4.8565]"
          ]
        },
        {
          "output_type": "stream",
          "name": "stdout",
          "text": [
            "\n",
            "200064 샘플 처리 후, 평균 손실: 4.8628\n"
          ]
        },
        {
          "output_type": "stream",
          "name": "stderr",
          "text": [
            "\n",
            "평가 중:   0%|          | 0/3514 [00:00<?, ?it/s]\u001b[A\n",
            "평가 중:   0%|          | 3/3514 [00:00<02:10, 26.92it/s]\u001b[A\n",
            "평가 중:   0%|          | 6/3514 [00:00<02:07, 27.44it/s]\u001b[A\n",
            "                                                         \u001b[A"
          ]
        },
        {
          "output_type": "stream",
          "name": "stdout",
          "text": [
            "검증 평균 손실: 4.7948, 혼잡도: 120.88\n",
            "generate_text를 사용하여 문맥을 기반으로 텍스트 생성:\n",
            "\n",
            "\n",
            "문맥: Moscow\n",
            "\n",
            "생성된 텍스트: Moscow 's first-team win at the time of the ####s . '## . '' said . '## . '' said . '## . '' said . '## . '' said . '## . '' said . '## . '' said .\n",
            "\n",
            "문맥: New York\n",
            "\n",
            "생성된 텍스트: New York City Council said the government has been a `` very different thing . '' said . ' . 's a few years ago . ' . 's a very . ' '' said . '## . '' said . '## . '' said . '##\n",
            "\n",
            "문맥: A hurricane\n",
            "\n",
            "생성된 텍스트: A hurricane was found in the first half-time . 's #-# win in #### . ) . ' . 's a . '### . ' . 's a . '### . ' . 's a . '### .\n"
          ]
        },
        {
          "output_type": "stream",
          "name": "stderr",
          "text": [
            "에포크 1/1:   5%|▌         | 9380/172148 [12:05<9:47:09,  4.62it/s, loss=4.8646] "
          ]
        },
        {
          "output_type": "stream",
          "name": "stdout",
          "text": [
            "\n",
            "문맥: The President\n",
            "\n",
            "생성된 텍스트: The President 's decision is a `` very different thing . '' said . ' . 's a few years ago . ' . 's a very . ' '' said . '## . '' said . '## . '' said . '## . '' said\n"
          ]
        },
        {
          "output_type": "stream",
          "name": "stderr",
          "text": [
            "에포크 1/1:   6%|▋         | 10940/172148 [14:03<3:12:10, 13.98it/s, loss=4.7392]"
          ]
        },
        {
          "output_type": "stream",
          "name": "stdout",
          "text": [
            "\n",
            "200064 샘플 처리 후, 평균 손실: 4.8042\n"
          ]
        },
        {
          "output_type": "stream",
          "name": "stderr",
          "text": [
            "\n",
            "평가 중:   0%|          | 0/3514 [00:00<?, ?it/s]\u001b[A\n",
            "평가 중:   0%|          | 3/3514 [00:00<02:10, 27.00it/s]\u001b[A\n",
            "평가 중:   0%|          | 6/3514 [00:00<02:07, 27.52it/s]\u001b[A\n",
            "                                                         \u001b[A"
          ]
        },
        {
          "output_type": "stream",
          "name": "stdout",
          "text": [
            "검증 평균 손실: 4.7419, 혼잡도: 114.65\n",
            "generate_text를 사용하여 문맥을 기반으로 텍스트 생성:\n",
            "\n",
            "\n",
            "문맥: Moscow\n",
            "\n",
            "생성된 텍스트: Moscow is not a `` serious-scale . '' said . ' '' said . ' '' said the court heard . ' I 'm not going to be a bit of a . ' '' said . ' I 'm not going to be a bit of\n",
            "\n",
            "문맥: New York\n",
            "\n",
            "생성된 텍스트: New York Police said the `` is a great thing to be able to get a lot of . '' said . ' '' said . ' '' said the court heard . ' I 'm not going to be a bit of a . ' '' said . ' I\n",
            "\n",
            "문맥: A hurricane\n",
            "\n",
            "생성된 텍스트: A hurricane of the `` The Samsung '' is a `` very good . '' said . ' '' said . ' '' said the court heard . ' I 'm not going to be a bit of a . ' '' said . ' I 'm not going\n"
          ]
        },
        {
          "output_type": "stream",
          "name": "stderr",
          "text": [
            "에포크 1/1:   6%|▋         | 10942/172148 [14:05<12:19:04,  3.64it/s, loss=4.8298]"
          ]
        },
        {
          "output_type": "stream",
          "name": "stdout",
          "text": [
            "\n",
            "문맥: The President\n",
            "\n",
            "생성된 텍스트: The President 's family was found in the first of the ##-year-old girl who was found guilty of murdering the murder of the murder of the police officer . '### . ) . '' said . ' '' said . ' I 'm\n"
          ]
        },
        {
          "output_type": "stream",
          "name": "stderr",
          "text": [
            "에포크 1/1:   7%|▋         | 12502/172148 [16:03<4:02:07, 10.99it/s, loss=4.8520]"
          ]
        },
        {
          "output_type": "stream",
          "name": "stdout",
          "text": [
            "\n",
            "200064 샘플 처리 후, 평균 손실: 4.7535\n"
          ]
        },
        {
          "output_type": "stream",
          "name": "stderr",
          "text": [
            "\n",
            "평가 중:   0%|          | 0/3514 [00:00<?, ?it/s]\u001b[A\n",
            "평가 중:   0%|          | 2/3514 [00:00<03:18, 17.69it/s]\u001b[A\n",
            "평가 중:   0%|          | 5/3514 [00:00<02:44, 21.29it/s]\u001b[A\n",
            "                                                         \u001b[A"
          ]
        },
        {
          "output_type": "stream",
          "name": "stdout",
          "text": [
            "검증 평균 손실: 4.6993, 혼잡도: 109.87\n",
            "generate_text를 사용하여 문맥을 기반으로 텍스트 생성:\n",
            "\n",
            "\n",
            "문맥: Moscow\n",
            "\n",
            "생성된 텍스트: Moscow 's `` The Rory Party is a good thing . '' said . ' '' said . 's a . ' I 'm sure that I 'm not going to be a good thing . ' '' said . 's a . ' I\n",
            "\n",
            "문맥: New York\n",
            "\n",
            "생성된 텍스트: New York City Council said the `` is a very good thing . '' said . ' '' said . 's a . ' I 'm sure that I 'm not going to be a good thing . ' '' said . 's a . ' I '\n",
            "\n",
            "문맥: A hurricane\n",
            "\n",
            "생성된 텍스트: A hurricane was a member of the ####s . '### . ) . '' said . ' '' said . 's a . ' I 'm sure that I 'm not going to be a good thing . ' '' said . 's a .\n"
          ]
        },
        {
          "output_type": "stream",
          "name": "stderr",
          "text": [
            "에포크 1/1:   7%|▋         | 12506/172148 [16:04<10:32:38,  4.21it/s, loss=4.8520]"
          ]
        },
        {
          "output_type": "stream",
          "name": "stdout",
          "text": [
            "\n",
            "문맥: The President\n",
            "\n",
            "생성된 텍스트: The President of the ####s , which is the first time in the ####s . ) . '' said . ' '' said . 's a . ' '' said . 's a . ' I 'm sure that I 'm not going to be a\n"
          ]
        },
        {
          "output_type": "stream",
          "name": "stderr",
          "text": [
            "에포크 1/1:   8%|▊         | 14066/172148 [18:02<3:10:41, 13.82it/s, loss=4.7154]"
          ]
        },
        {
          "output_type": "stream",
          "name": "stdout",
          "text": [
            "\n",
            "200064 샘플 처리 후, 평균 손실: 4.7150\n"
          ]
        },
        {
          "output_type": "stream",
          "name": "stderr",
          "text": [
            "\n",
            "평가 중:   0%|          | 0/3514 [00:00<?, ?it/s]\u001b[A\n",
            "평가 중:   0%|          | 3/3514 [00:00<02:10, 26.98it/s]\u001b[A\n",
            "평가 중:   0%|          | 6/3514 [00:00<02:09, 27.17it/s]\u001b[A\n",
            "                                                         \u001b[A"
          ]
        },
        {
          "output_type": "stream",
          "name": "stdout",
          "text": [
            "검증 평균 손실: 4.6715, 혼잡도: 106.86\n",
            "generate_text를 사용하여 문맥을 기반으로 텍스트 생성:\n",
            "\n",
            "\n",
            "문맥: Moscow\n",
            "\n",
            "생성된 텍스트: Moscow has been charged with a new study for the first time . ' '' said the official said . ' I 'm not going to be a good . ' '' said . ' I 'm not going to be a good . ' '' said . '\n",
            "\n",
            "문맥: New York\n",
            "\n",
            "생성된 텍스트: New York City Council , who has been charged with a ##-year-old son , who was a ##-year-old son , who was a ##-year-old son , who was a ##-year-old son , who was a ##\n",
            "\n",
            "문맥: A hurricane\n",
            "\n",
            "생성된 텍스트: A hurricane was found in the first time in the first time , the ##-year-old son was killed in the attack . 's a year . ' I 'm not going to be a good . ' '' said . ' I 'm not going\n"
          ]
        },
        {
          "output_type": "stream",
          "name": "stderr",
          "text": [
            "에포크 1/1:   8%|▊         | 14068/172148 [18:04<14:27:52,  3.04it/s, loss=4.6892]"
          ]
        },
        {
          "output_type": "stream",
          "name": "stdout",
          "text": [
            "\n",
            "문맥: The President\n",
            "\n",
            "생성된 텍스트: The President 's official said that the company has been made to be a good-time . '' said . ' '' said . ' I 'm not going to be a good . ' '' said . ' I 'm not going to be a good .\n"
          ]
        },
        {
          "output_type": "stream",
          "name": "stderr",
          "text": [
            "에포크 1/1:   9%|▉         | 15628/172148 [20:02<3:09:41, 13.75it/s, loss=4.5761]"
          ]
        },
        {
          "output_type": "stream",
          "name": "stdout",
          "text": [
            "\n",
            "200064 샘플 처리 후, 평균 손실: 4.6850\n"
          ]
        },
        {
          "output_type": "stream",
          "name": "stderr",
          "text": [
            "\n",
            "평가 중:   0%|          | 0/3514 [00:00<?, ?it/s]\u001b[A\n",
            "평가 중:   0%|          | 3/3514 [00:00<02:11, 26.77it/s]\u001b[A\n",
            "평가 중:   0%|          | 6/3514 [00:00<02:09, 27.05it/s]\u001b[A\n",
            "                                                         \u001b[A"
          ]
        },
        {
          "output_type": "stream",
          "name": "stdout",
          "text": [
            "검증 평균 손실: 4.6329, 혼잡도: 102.81\n",
            "generate_text를 사용하여 문맥을 기반으로 텍스트 생성:\n",
            "\n",
            "\n",
            "문맥: Moscow\n",
            "\n",
            "생성된 텍스트: Moscow is a good-time basis . '' said . 's a <rare> . '' said . 's a <rare> . '' said . 's a <rare> . '' said . 's a <rare> . '' said .\n",
            "\n",
            "문맥: New York\n",
            "\n",
            "생성된 텍스트: New York City Council said : 'We are not the first time . '' said the former president of the U.S. . '' said . 's a <rare> . '' said . 's a <rare> . '' said . 's a\n",
            "\n",
            "문맥: A hurricane\n",
            "\n",
            "생성된 텍스트: A hurricane was found in the area of the world 's largest city . ' '' said the court heard . 's aired . ' '' said . 's a <rare> . '' said . 's a <rare> . '' said . '\n"
          ]
        },
        {
          "output_type": "stream",
          "name": "stderr",
          "text": [
            "에포크 1/1:   9%|▉         | 15632/172148 [20:03<9:28:11,  4.59it/s, loss=4.6207] "
          ]
        },
        {
          "output_type": "stream",
          "name": "stdout",
          "text": [
            "\n",
            "문맥: The President\n",
            "\n",
            "생성된 텍스트: The President 's family is not the first time . '' said . 's a <rare> . '' said . 's a <rare> . '' said . 's a <rare> . '' said . 's a <rare> . ''\n"
          ]
        },
        {
          "output_type": "stream",
          "name": "stderr",
          "text": [
            "에포크 1/1:  10%|▉         | 17192/172148 [22:02<3:05:17, 13.94it/s, loss=4.6346]"
          ]
        },
        {
          "output_type": "stream",
          "name": "stdout",
          "text": [
            "\n",
            "200064 샘플 처리 후, 평균 손실: 4.6575\n"
          ]
        },
        {
          "output_type": "stream",
          "name": "stderr",
          "text": [
            "\n",
            "평가 중:   0%|          | 0/3514 [00:00<?, ?it/s]\u001b[A\n",
            "평가 중:   0%|          | 3/3514 [00:00<02:09, 27.04it/s]\u001b[A\n",
            "평가 중:   0%|          | 6/3514 [00:00<02:19, 25.21it/s]\u001b[A\n",
            "                                                         \u001b[A"
          ]
        },
        {
          "output_type": "stream",
          "name": "stdout",
          "text": [
            "검증 평균 손실: 4.6081, 혼잡도: 100.29\n",
            "generate_text를 사용하여 문맥을 기반으로 텍스트 생성:\n",
            "\n",
            "\n",
            "문맥: Moscow\n",
            "\n",
            "생성된 텍스트: Moscow 's Office of the ####s , which is expected to be a second-largest in the world . '' said . 's #.# % . '#C . '' said . 's #.# % . '#C .\n",
            "\n",
            "문맥: New York\n",
            "\n",
            "생성된 텍스트: New York City Council said the report 's Office of the group 's largest in the world . '' said . 's #.# % . '#C . '' said . 's #.# % . '#C . '' said . '\n",
            "\n",
            "문맥: A hurricane\n",
            "\n",
            "생성된 텍스트: A hurricane was found in the area . 's #.# % . '#C . '' said . 's #.# % . '#C . '' said . 's #.# % . '#C . '' said . 's\n"
          ]
        },
        {
          "output_type": "stream",
          "name": "stderr",
          "text": [
            "에포크 1/1:  10%|▉         | 17194/172148 [22:03<11:57:26,  3.60it/s, loss=4.5248]"
          ]
        },
        {
          "output_type": "stream",
          "name": "stdout",
          "text": [
            "\n",
            "문맥: The President\n",
            "\n",
            "생성된 텍스트: The President of the world 's largest city , which is expected to be a big-known location in the UK . '' said . 's #.# % . '#C . '' said . 's #.# % . '#C .\n"
          ]
        },
        {
          "output_type": "stream",
          "name": "stderr",
          "text": [
            "에포크 1/1:  11%|█         | 18754/172148 [24:01<3:12:04, 13.31it/s, loss=4.5674]"
          ]
        },
        {
          "output_type": "stream",
          "name": "stdout",
          "text": [
            "\n",
            "200064 샘플 처리 후, 평균 손실: 4.6340\n"
          ]
        },
        {
          "output_type": "stream",
          "name": "stderr",
          "text": [
            "\n",
            "평가 중:   0%|          | 0/3514 [00:00<?, ?it/s]\u001b[A\n",
            "평가 중:   0%|          | 3/3514 [00:00<02:15, 25.90it/s]\u001b[A\n",
            "평가 중:   0%|          | 6/3514 [00:00<02:10, 26.89it/s]\u001b[A\n",
            "                                                         \u001b[A"
          ]
        },
        {
          "output_type": "stream",
          "name": "stdout",
          "text": [
            "검증 평균 손실: 4.5874, 혼잡도: 98.24\n",
            "generate_text를 사용하여 문맥을 기반으로 텍스트 생성:\n",
            "\n",
            "\n",
            "문맥: Moscow\n",
            "\n",
            "생성된 텍스트: Moscow , who was also charged with a ##-year-old girl , who was arrested in the ####s . '## . '' said . '' said . '' said . '' said . '' said . '' said . '' said . '' said . ''\n",
            "\n",
            "문맥: New York\n",
            "\n",
            "생성된 텍스트: New York City Council said the `` is a very good idea , '' he said . ' '' A spokesman said . ' '' A spokesman said . ' '' A spokesman said . ' '' A spokesman said . ' '' A\n",
            "\n",
            "문맥: A hurricane\n",
            "\n",
            "생성된 텍스트: A hurricane was found in the middle of the city . 's #.# million . '' 's Office . '' said . '' said . '' said . '' said . '' said . '' said . '' said . '' said . '' said . '' said\n"
          ]
        },
        {
          "output_type": "stream",
          "name": "stderr",
          "text": [
            "에포크 1/1:  11%|█         | 18758/172148 [24:03<9:15:56,  4.60it/s, loss=4.6248] "
          ]
        },
        {
          "output_type": "stream",
          "name": "stdout",
          "text": [
            "\n",
            "문맥: The President\n",
            "\n",
            "생성된 텍스트: The President said the government 's decision is not the first time in the UK . '' said the court heard . ' '' A spokesman said . ' '' A spokesman said . ' '' A spokesman said . ' '' A spokes\n"
          ]
        },
        {
          "output_type": "stream",
          "name": "stderr",
          "text": [
            "에포크 1/1:  12%|█▏        | 20318/172148 [26:01<3:27:58, 12.17it/s, loss=4.5246]"
          ]
        },
        {
          "output_type": "stream",
          "name": "stdout",
          "text": [
            "\n",
            "200064 샘플 처리 후, 평균 손실: 4.6084\n"
          ]
        },
        {
          "output_type": "stream",
          "name": "stderr",
          "text": [
            "\n",
            "평가 중:   0%|          | 0/3514 [00:00<?, ?it/s]\u001b[A\n",
            "평가 중:   0%|          | 2/3514 [00:00<03:14, 18.07it/s]\u001b[A\n",
            "평가 중:   0%|          | 4/3514 [00:00<03:05, 18.90it/s]\u001b[A\n",
            "평가 중:   0%|          | 7/3514 [00:00<02:57, 19.75it/s]\u001b[A\n",
            "                                                         \u001b[A"
          ]
        },
        {
          "output_type": "stream",
          "name": "stdout",
          "text": [
            "검증 평균 손실: 4.5699, 혼잡도: 96.53\n",
            "generate_text를 사용하여 문맥을 기반으로 텍스트 생성:\n",
            "\n",
            "\n",
            "문맥: Moscow\n",
            "\n",
            "생성된 텍스트: Moscow 's #-year-old was found dead in the ####s . '## . '' said . 's #.# % . '' said . '' said the former president of the ####s . '' said . '' said the former president of\n",
            "\n",
            "문맥: New York\n",
            "\n",
            "생성된 텍스트: New York City Council said the ##-year-old was found dead in the ####s . '## . '' said . 's #.# % . '' said . '' said the former president of the ####s . '' said . '' said the former\n",
            "\n",
            "문맥: A hurricane\n",
            "\n",
            "생성된 텍스트: A hurricane was found in the ##-year-old girl , who was arrested in #### . 's #-#-#-# win over the ####s . '# . '' 's ##-year-old . 's #-#-\n"
          ]
        },
        {
          "output_type": "stream",
          "name": "stderr",
          "text": [
            "에포크 1/1:  12%|█▏        | 20320/172148 [26:03<17:18:03,  2.44it/s, loss=4.4540]"
          ]
        },
        {
          "output_type": "stream",
          "name": "stdout",
          "text": [
            "\n",
            "문맥: The President\n",
            "\n",
            "생성된 텍스트: The President 's office is not the only way to the United States . '' 's Office said . '### . ) . '' 's ##-year-old . 's #-#-#-# win over the ####s . '\n"
          ]
        },
        {
          "output_type": "stream",
          "name": "stderr",
          "text": [
            "에포크 1/1:  13%|█▎        | 21880/172148 [28:01<3:04:45, 13.56it/s, loss=4.6487]"
          ]
        },
        {
          "output_type": "stream",
          "name": "stdout",
          "text": [
            "\n",
            "200064 샘플 처리 후, 평균 손실: 4.5943\n"
          ]
        },
        {
          "output_type": "stream",
          "name": "stderr",
          "text": [
            "\n",
            "평가 중:   0%|          | 0/3514 [00:00<?, ?it/s]\u001b[A\n",
            "평가 중:   0%|          | 3/3514 [00:00<02:11, 26.80it/s]\u001b[A\n",
            "평가 중:   0%|          | 6/3514 [00:00<02:11, 26.67it/s]\u001b[A\n",
            "                                                         \u001b[A"
          ]
        },
        {
          "output_type": "stream",
          "name": "stdout",
          "text": [
            "검증 평균 손실: 4.5520, 혼잡도: 94.83\n",
            "generate_text를 사용하여 문맥을 기반으로 텍스트 생성:\n",
            "\n",
            "\n",
            "문맥: Moscow\n",
            "\n",
            "생성된 텍스트: Moscow 's first-team player was a member of the United States . ' '' Emanuel said . ' '' Emanuel said . ' '' Emanuel said . ' '' Emanuel said . ' '' Emanuel said . ' '' Emanuel said .\n",
            "\n",
            "문맥: New York\n",
            "\n",
            "생성된 텍스트: New York City 's #-# win over the last ##th anniversary of the incident . 's apartment in the ####s . ' '' Emanuel said . ' '' Emanuel said . ' '' Emanuel said . ' '' Emanuel said\n",
            "\n",
            "문맥: A hurricane\n",
            "\n",
            "생성된 텍스트: A hurricane was found in the first half , and the ##-year-old was found in the car . 's #.# % . '' 's ##-year-old . ' '' he said . ' '' Emanuel said . ' '' E\n"
          ]
        },
        {
          "output_type": "stream",
          "name": "stderr",
          "text": [
            "에포크 1/1:  13%|█▎        | 21884/172148 [28:02<9:00:05,  4.64it/s, loss=4.6980] "
          ]
        },
        {
          "output_type": "stream",
          "name": "stdout",
          "text": [
            "\n",
            "문맥: The President\n",
            "\n",
            "생성된 텍스트: The President 's decision to be a major impact on the public . '' 's `` <rare> '' . '' said . '' 's said . ' '' Emanuel said . ' '' Emanuel said . ' '' Emanuel said . ' '' E\n"
          ]
        },
        {
          "output_type": "stream",
          "name": "stderr",
          "text": [
            "에포크 1/1:  14%|█▎        | 23444/172148 [30:00<2:57:04, 14.00it/s, loss=4.5266]"
          ]
        },
        {
          "output_type": "stream",
          "name": "stdout",
          "text": [
            "\n",
            "200064 샘플 처리 후, 평균 손실: 4.5759\n"
          ]
        },
        {
          "output_type": "stream",
          "name": "stderr",
          "text": [
            "\n",
            "평가 중:   0%|          | 0/3514 [00:00<?, ?it/s]\u001b[A\n",
            "평가 중:   0%|          | 3/3514 [00:00<02:23, 24.42it/s]\u001b[A\n",
            "평가 중:   0%|          | 6/3514 [00:00<02:15, 25.90it/s]\u001b[A\n",
            "                                                         \u001b[A"
          ]
        },
        {
          "output_type": "stream",
          "name": "stdout",
          "text": [
            "검증 평균 손실: 4.5323, 혼잡도: 92.97\n",
            "generate_text를 사용하여 문맥을 기반으로 텍스트 생성:\n",
            "\n",
            "\n",
            "문맥: Moscow\n",
            "\n",
            "생성된 텍스트: Moscow 's first-degree murder of the ##-year-old man was arrested on suspicion of murdering the girl . '## . '### . '' 's <rare> . ' '' said . '' said . '' ' said\n",
            "\n",
            "문맥: New York\n",
            "\n",
            "생성된 텍스트: New York City Council said the ##-year-old was also charged with a police officer . '## . '### . '### . '' 's <rare> . ' '' said . '' said . '' ' said . '' ' said .\n",
            "\n",
            "문맥: A hurricane\n",
            "\n",
            "생성된 텍스트: A hurricane was found in the area , and the ##-year-old girl was arrested on suspicion of murdering the girl . '## . '### . '' 's <rare> . ' '' said . '' said . '' ' said .\n"
          ]
        },
        {
          "output_type": "stream",
          "name": "stderr",
          "text": [
            "에포크 1/1:  14%|█▎        | 23446/172148 [30:02<11:27:58,  3.60it/s, loss=4.6537]"
          ]
        },
        {
          "output_type": "stream",
          "name": "stdout",
          "text": [
            "\n",
            "문맥: The President\n",
            "\n",
            "생성된 텍스트: The President 's government has been a very good-kick . '' ' I 'm not sure . ' '' E.J. said . '## . '' said . '' ' said . '' ' said . '' ' said . '' ' said .\n"
          ]
        },
        {
          "output_type": "stream",
          "name": "stderr",
          "text": [
            "에포크 1/1:  15%|█▍        | 25006/172148 [31:59<2:54:07, 14.08it/s, loss=4.5332]"
          ]
        },
        {
          "output_type": "stream",
          "name": "stdout",
          "text": [
            "\n",
            "200064 샘플 처리 후, 평균 손실: 4.5575\n"
          ]
        },
        {
          "output_type": "stream",
          "name": "stderr",
          "text": [
            "\n",
            "평가 중:   0%|          | 0/3514 [00:00<?, ?it/s]\u001b[A\n",
            "평가 중:   0%|          | 3/3514 [00:00<02:13, 26.32it/s]\u001b[A\n",
            "평가 중:   0%|          | 6/3514 [00:00<02:10, 26.81it/s]\u001b[A\n",
            "                                                         \u001b[A"
          ]
        },
        {
          "output_type": "stream",
          "name": "stdout",
          "text": [
            "검증 평균 손실: 4.5306, 혼잡도: 92.82\n",
            "generate_text를 사용하여 문맥을 기반으로 텍스트 생성:\n",
            "\n",
            "\n",
            "문맥: Moscow\n",
            "\n",
            "생성된 텍스트: Moscow has been in the first half of the ##-year-old . '# . '' 's <rare> and the GOP . '' 'The FBI said . ' '' Ahmad said . ' '' Ahmad said . '\n",
            "\n",
            "문맥: New York\n",
            "\n",
            "생성된 텍스트: New York City Council said the ##-year-old was found in the area . ' '' Ahmad said . ' '' Ahmad said . ' '' Ahmad said . ' '' Ahmad said . ' '' Ahmad said .\n",
            "\n",
            "문맥: A hurricane\n",
            "\n",
            "생성된 텍스트: A hurricane was found in the area of the ##-year-old . '# . '' 's <rare> and the GOP . '' 'The FBI said . ' '' Ahmad said . ' '' Ahmad said . ' ''\n"
          ]
        },
        {
          "output_type": "stream",
          "name": "stderr",
          "text": [
            "에포크 1/1:  15%|█▍        | 25010/172148 [32:01<8:50:32,  4.62it/s, loss=4.5497] "
          ]
        },
        {
          "output_type": "stream",
          "name": "stdout",
          "text": [
            "\n",
            "문맥: The President\n",
            "\n",
            "생성된 텍스트: The President said : 'We are not going to be a big chance of the game . ' '' Ahmad said . ' '' Ahmad said . ' '' Ahmad said . ' '' Ahmad said . ' '' Ahmad said\n"
          ]
        },
        {
          "output_type": "stream",
          "name": "stderr",
          "text": [
            "에포크 1/1:  15%|█▌        | 26570/172148 [33:58<3:21:40, 12.03it/s, loss=4.6520]"
          ]
        },
        {
          "output_type": "stream",
          "name": "stdout",
          "text": [
            "\n",
            "200064 샘플 처리 후, 평균 손실: 4.5450\n"
          ]
        },
        {
          "output_type": "stream",
          "name": "stderr",
          "text": [
            "\n",
            "평가 중:   0%|          | 0/3514 [00:00<?, ?it/s]\u001b[A\n",
            "평가 중:   0%|          | 2/3514 [00:00<03:16, 17.86it/s]\u001b[A\n",
            "평가 중:   0%|          | 4/3514 [00:00<03:20, 17.51it/s]\u001b[A\n",
            "평가 중:   0%|          | 6/3514 [00:00<03:14, 18.02it/s]\u001b[A\n",
            "                                                         \u001b[A"
          ]
        },
        {
          "output_type": "stream",
          "name": "stdout",
          "text": [
            "검증 평균 손실: 4.5052, 혼잡도: 90.49\n",
            "generate_text를 사용하여 문맥을 기반으로 텍스트 생성:\n",
            "\n",
            "\n",
            "문맥: Moscow\n",
            "\n",
            "생성된 텍스트: Moscow , who is a member of the U.S. , the company said that the ##-year-old was found in the area . ' '' Ahmadinejad said . ' '' Ahmad said . ' '' Ahmad\n",
            "\n",
            "문맥: New York\n",
            "\n",
            "생성된 텍스트: New York : The ##-year-old man was arrested in #### . '###-###-###-## . '#m . '' 'The FBI said . ' '' Ey of the <rare> . ' '' Ey\n",
            "\n",
            "문맥: A hurricane\n",
            "\n",
            "생성된 텍스트: A hurricane was found in the area , and the ##-year-old boy was arrested in #### . '###-###-###-## . '#m . '' 'The FBI said . ' '' Ey of the <rare\n"
          ]
        },
        {
          "output_type": "stream",
          "name": "stderr",
          "text": [
            "에포크 1/1:  15%|█▌        | 26572/172148 [34:01<15:23:38,  2.63it/s, loss=4.5121]"
          ]
        },
        {
          "output_type": "stream",
          "name": "stdout",
          "text": [
            "\n",
            "문맥: The President\n",
            "\n",
            "생성된 텍스트: The President said : 'We are not going to be a good person . ' '' Ahmad said . ' '' Ahmad said . ' '' Ahmad said . ' '' Ahmad said . ' '' Ahmad said . ' ''\n"
          ]
        },
        {
          "output_type": "stream",
          "name": "stderr",
          "text": [
            "에포크 1/1:  16%|█▋        | 28132/172148 [35:58<2:52:36, 13.91it/s, loss=4.4595]"
          ]
        },
        {
          "output_type": "stream",
          "name": "stdout",
          "text": [
            "\n",
            "200064 샘플 처리 후, 평균 손실: 4.5326\n"
          ]
        },
        {
          "output_type": "stream",
          "name": "stderr",
          "text": [
            "\n",
            "평가 중:   0%|          | 0/3514 [00:00<?, ?it/s]\u001b[A\n",
            "평가 중:   0%|          | 3/3514 [00:00<02:15, 25.91it/s]\u001b[A\n",
            "평가 중:   0%|          | 6/3514 [00:00<02:11, 26.72it/s]\u001b[A\n",
            "                                                         \u001b[A"
          ]
        },
        {
          "output_type": "stream",
          "name": "stdout",
          "text": [
            "검증 평균 손실: 4.5020, 혼잡도: 90.20\n",
            "generate_text를 사용하여 문맥을 기반으로 텍스트 생성:\n",
            "\n",
            "\n",
            "문맥: Moscow\n",
            "\n",
            "생성된 텍스트: Moscow is not the first time in the ####s . '' 's <rare> . ' '' E.coli . ' '' E.coli . ' '' E.coli . ' '' E.coli . ' '' E.coli . ' '' E\n",
            "\n",
            "문맥: New York\n",
            "\n",
            "생성된 텍스트: New York City Council said the government has been a `` very important step '' . '' 's <rare> . ' '' E.coli . ' '' E.coli . ' '' E.coli . ' '' E.coli . ' '' E.coli\n",
            "\n",
            "문맥: A hurricane\n",
            "\n",
            "생성된 텍스트: A hurricane was found in the area , the ##-year-old said . '### . ) . '' 's ##-year-old . '### . ) . '' 's ##-year-old . '### . ) .\n"
          ]
        },
        {
          "output_type": "stream",
          "name": "stderr",
          "text": [
            "에포크 1/1:  16%|█▋        | 28136/172148 [35:59<8:34:34,  4.66it/s, loss=4.5013] "
          ]
        },
        {
          "output_type": "stream",
          "name": "stdout",
          "text": [
            "\n",
            "문맥: The President\n",
            "\n",
            "생성된 텍스트: The President 's official figures show that the government has been in the UK , and the United States has been in the world . '' 's <rare> . ' '' E.coli . ' '' E.coli . ' '' E.coli . '\n"
          ]
        },
        {
          "output_type": "stream",
          "name": "stderr",
          "text": [
            "에포크 1/1:  17%|█▋        | 29696/172148 [37:57<2:52:16, 13.78it/s, loss=4.2981]"
          ]
        },
        {
          "output_type": "stream",
          "name": "stdout",
          "text": [
            "\n",
            "200064 샘플 처리 후, 평균 손실: 4.5192\n"
          ]
        },
        {
          "output_type": "stream",
          "name": "stderr",
          "text": [
            "\n",
            "평가 중:   0%|          | 0/3514 [00:00<?, ?it/s]\u001b[A\n",
            "평가 중:   0%|          | 3/3514 [00:00<02:22, 24.57it/s]\u001b[A\n",
            "평가 중:   0%|          | 6/3514 [00:00<02:13, 26.22it/s]\u001b[A\n",
            "                                                         \u001b[A"
          ]
        },
        {
          "output_type": "stream",
          "name": "stdout",
          "text": [
            "검증 평균 손실: 4.4839, 혼잡도: 88.58\n",
            "generate_text를 사용하여 문맥을 기반으로 텍스트 생성:\n",
            "\n",
            "\n",
            "문맥: Moscow\n",
            "\n",
            "생성된 텍스트: Moscow , who has been in the UK , and the United States has been in the first half . ' '' A spokesman said . ' '' Wenger said . ' '' Wenger said . ' '' Wenger said . ' '' Wenger said\n",
            "\n",
            "문맥: New York\n",
            "\n",
            "생성된 텍스트: New York City Council said the incident was a `` significant amount of money '' . ' '' said . '' said . '' said . '' said . '' said . '' said . '' said . '' said . '' said . '' said . '' said . '' said\n",
            "\n",
            "문맥: A hurricane\n",
            "\n",
            "생성된 텍스트: A hurricane was found in the water and the waterproof jacket , and the carrier was a .### . '' '## . ' '' said . ' '' said . ' '' said . ' '' said . ' '' said . ' '' said .\n"
          ]
        },
        {
          "output_type": "stream",
          "name": "stderr",
          "text": [
            "에포크 1/1:  17%|█▋        | 29698/172148 [37:58<10:57:16,  3.61it/s, loss=4.6109]"
          ]
        },
        {
          "output_type": "stream",
          "name": "stdout",
          "text": [
            "\n",
            "문맥: The President\n",
            "\n",
            "생성된 텍스트: The President 's decision to be the first time that the company had been a `` good news '' . '' said the company . ' '' said . '' said . '' said . '' said . '' said . '' said . '' said . '' said . ''\n"
          ]
        },
        {
          "output_type": "stream",
          "name": "stderr",
          "text": [
            "에포크 1/1:  18%|█▊        | 31258/172148 [39:56<2:51:40, 13.68it/s, loss=4.6013]"
          ]
        },
        {
          "output_type": "stream",
          "name": "stdout",
          "text": [
            "\n",
            "200064 샘플 처리 후, 평균 손실: 4.5144\n"
          ]
        },
        {
          "output_type": "stream",
          "name": "stderr",
          "text": [
            "\n",
            "평가 중:   0%|          | 0/3514 [00:00<?, ?it/s]\u001b[A\n",
            "평가 중:   0%|          | 3/3514 [00:00<02:18, 25.33it/s]\u001b[A\n",
            "평가 중:   0%|          | 6/3514 [00:00<02:13, 26.26it/s]\u001b[A\n",
            "                                                         \u001b[A"
          ]
        },
        {
          "output_type": "stream",
          "name": "stdout",
          "text": [
            "검증 평균 손실: 4.4759, 혼잡도: 87.88\n",
            "generate_text를 사용하여 문맥을 기반으로 텍스트 생성:\n",
            "\n",
            "\n",
            "문맥: Moscow\n",
            "\n",
            "생성된 텍스트: Moscow is the first time in the ####s . '' 'The FBI said . '' 's <rare> . ' '' A spokesman said . ' '' A spokesman said . ' '' It was a `` <rare> '' .\n",
            "\n",
            "문맥: New York\n",
            "\n",
            "생성된 텍스트: New York City Council said the report was `` no-be '' of the . '' 'The FBI said . ' '' It was a `` <rare> '' . '' 'We 're not going to be a . '' '## . '' 's\n",
            "\n",
            "문맥: A hurricane\n",
            "\n",
            "생성된 텍스트: A hurricane was found in the area , and the ##-year-old was a ##-year-old boy . ' '' Aaron Ramsey said . ' '' It was a 'common . ' '' The FBI said . ' '' It was a\n"
          ]
        },
        {
          "output_type": "stream",
          "name": "stderr",
          "text": [
            "에포크 1/1:  18%|█▊        | 31262/172148 [39:58<8:23:23,  4.66it/s, loss=4.5973] "
          ]
        },
        {
          "output_type": "stream",
          "name": "stdout",
          "text": [
            "\n",
            "문맥: The President\n",
            "\n",
            "생성된 텍스트: The President 's ##-year-old son was arrested in #### . ' '' Aaron Ramsey , ## , from the ####s . ' '' It was a 'dangerous . ' '' The FBI said . ' '' It was a ``\n"
          ]
        },
        {
          "output_type": "stream",
          "name": "stderr",
          "text": [
            "에포크 1/1:  19%|█▉        | 32822/172148 [41:55<3:08:20, 12.33it/s, loss=4.3984]"
          ]
        },
        {
          "output_type": "stream",
          "name": "stdout",
          "text": [
            "\n",
            "200064 샘플 처리 후, 평균 손실: 4.5005\n"
          ]
        },
        {
          "output_type": "stream",
          "name": "stderr",
          "text": [
            "\n",
            "평가 중:   0%|          | 0/3514 [00:00<?, ?it/s]\u001b[A\n",
            "평가 중:   0%|          | 2/3514 [00:00<03:24, 17.20it/s]\u001b[A\n",
            "평가 중:   0%|          | 4/3514 [00:00<03:17, 17.78it/s]\u001b[A\n",
            "평가 중:   0%|          | 7/3514 [00:00<03:03, 19.12it/s]\u001b[A\n",
            "                                                         \u001b[A"
          ]
        },
        {
          "output_type": "stream",
          "name": "stdout",
          "text": [
            "검증 평균 손실: 4.4706, 혼잡도: 87.41\n",
            "generate_text를 사용하여 문맥을 기반으로 텍스트 생성:\n",
            "\n",
            "\n",
            "문맥: Moscow\n",
            "\n",
            "생성된 텍스트: Moscow , the U.S. Embassy in the UK , has been given a $ ###,### . ' '' A .### . '' . '' said . '' 'The FBI said . ' '' A . '#m .\n",
            "\n",
            "문맥: New York\n",
            "\n",
            "생성된 텍스트: New York City 's first-round win against the World Cup finalist was the first time in the ####s . '#makers ' . ' '' Wenger said . ' '' Wenger 's . ' '' Wenger 's . ' ''\n",
            "\n",
            "문맥: A hurricane\n",
            "\n",
            "생성된 텍스트: A hurricane is a huge number of times . '' 'The FBI said . ' '' A . '#m . '' 'The FBI said . ' '' A . '#m . '' 'The FBI said . ' '' A . '#\n"
          ]
        },
        {
          "output_type": "stream",
          "name": "stderr",
          "text": [
            "에포크 1/1:  19%|█▉        | 32824/172148 [41:58<15:54:18,  2.43it/s, loss=4.5589]"
          ]
        },
        {
          "output_type": "stream",
          "name": "stdout",
          "text": [
            "\n",
            "문맥: The President\n",
            "\n",
            "생성된 텍스트: The President 's first-team player is a great player for the first time . ' '' Wenger 's . ' '' Wenger 's . ' '' Wenger 's . ' '' Wenger 's . ' '' Wenger 's .\n"
          ]
        },
        {
          "output_type": "stream",
          "name": "stderr",
          "text": [
            "에포크 1/1:  20%|█▉        | 34384/172148 [43:55<2:44:48, 13.93it/s, loss=4.5814]"
          ]
        },
        {
          "output_type": "stream",
          "name": "stdout",
          "text": [
            "\n",
            "200064 샘플 처리 후, 평균 손실: 4.4912\n"
          ]
        },
        {
          "output_type": "stream",
          "name": "stderr",
          "text": [
            "\n",
            "평가 중:   0%|          | 0/3514 [00:00<?, ?it/s]\u001b[A\n",
            "평가 중:   0%|          | 3/3514 [00:00<02:13, 26.30it/s]\u001b[A\n",
            "평가 중:   0%|          | 6/3514 [00:00<02:10, 26.83it/s]\u001b[A\n",
            "                                                         \u001b[A"
          ]
        },
        {
          "output_type": "stream",
          "name": "stdout",
          "text": [
            "검증 평균 손실: 4.4560, 혼잡도: 86.14\n",
            "generate_text를 사용하여 문맥을 기반으로 텍스트 생성:\n",
            "\n",
            "\n",
            "문맥: Moscow\n",
            "\n",
            "생성된 텍스트: Moscow 's first-degree murder in the ##th century , and the ##-year-old was found guilty of murder . '## ’ s ##th birthday . '## . '## . '## . '## . '' '##\n",
            "\n",
            "문맥: New York\n",
            "\n",
            "생성된 텍스트: New York City Council said the ##-year-old was killed in the crash . '## . '## . '## . '## . '## . '' '## . '## . '## . '## . '## . '## . '\n",
            "\n",
            "문맥: A hurricane\n",
            "\n",
            "생성된 텍스트: A hurricane was found in the area of the city of the city of the city . ' '' A.m. said . '## . '' '## . '## . '## . '## . '## . '## . '## . '##\n"
          ]
        },
        {
          "output_type": "stream",
          "name": "stderr",
          "text": [
            "에포크 1/1:  20%|█▉        | 34388/172148 [43:56<8:11:46,  4.67it/s, loss=4.4545] "
          ]
        },
        {
          "output_type": "stream",
          "name": "stdout",
          "text": [
            "\n",
            "문맥: The President\n",
            "\n",
            "생성된 텍스트: The President said the government would be a `` significant amount of money . '' 'We are not the first time . '' 'We 'll be able to get the chance to get the chance to get the chance to get the chance to get the ball . '\n"
          ]
        },
        {
          "output_type": "stream",
          "name": "stderr",
          "text": [
            "에포크 1/1:  21%|██        | 35948/172148 [45:54<2:43:55, 13.85it/s, loss=4.4238]"
          ]
        },
        {
          "output_type": "stream",
          "name": "stdout",
          "text": [
            "\n",
            "200064 샘플 처리 후, 평균 손실: 4.4826\n"
          ]
        },
        {
          "output_type": "stream",
          "name": "stderr",
          "text": [
            "\n",
            "평가 중:   0%|          | 0/3514 [00:00<?, ?it/s]\u001b[A\n",
            "평가 중:   0%|          | 3/3514 [00:00<02:13, 26.25it/s]\u001b[A\n",
            "평가 중:   0%|          | 6/3514 [00:00<02:12, 26.50it/s]\u001b[A\n",
            "                                                         \u001b[A"
          ]
        },
        {
          "output_type": "stream",
          "name": "stdout",
          "text": [
            "검증 평균 손실: 4.4577, 혼잡도: 86.29\n",
            "generate_text를 사용하여 문맥을 기반으로 텍스트 생성:\n",
            "\n",
            "\n",
            "문맥: Moscow\n",
            "\n",
            "생성된 텍스트: Moscow 's first-degree murder in the attack , said : ' I 'm not sure that I 'm not going to be a bit of a good job . ' '' ' I 'm not sure . ' '' E.J. .\n",
            "\n",
            "문맥: New York\n",
            "\n",
            "생성된 텍스트: New York City 's #-# win over the last ## years , the ##-year-old was a member of the family . ' '' Emanuel , who was in the UK . ' '' E.C. . ' '' E.C.\n",
            "\n",
            "문맥: A hurricane\n",
            "\n",
            "생성된 텍스트: A hurricane was found in the water , which is a small number of people who have been killed in the city of the city . ' '' E.C. . ' '' E.C. . ' '' E.C. . ' '' E.C\n"
          ]
        },
        {
          "output_type": "stream",
          "name": "stderr",
          "text": [
            "에포크 1/1:  21%|██        | 35950/172148 [45:56<10:28:33,  3.61it/s, loss=4.3978]"
          ]
        },
        {
          "output_type": "stream",
          "name": "stdout",
          "text": [
            "\n",
            "문맥: The President\n",
            "\n",
            "생성된 텍스트: The President said : 'It 's a good way to get the best way to get the best way to get the best way to get the best way to get the best way to get the best way to get the best way to get the best way to\n"
          ]
        },
        {
          "output_type": "stream",
          "name": "stderr",
          "text": [
            "에포크 1/1:  22%|██▏       | 37510/172148 [47:54<2:46:47, 13.45it/s, loss=4.3864]"
          ]
        },
        {
          "output_type": "stream",
          "name": "stdout",
          "text": [
            "\n",
            "200064 샘플 처리 후, 평균 손실: 4.4777\n"
          ]
        },
        {
          "output_type": "stream",
          "name": "stderr",
          "text": [
            "\n",
            "평가 중:   0%|          | 0/3514 [00:00<?, ?it/s]\u001b[A\n",
            "평가 중:   0%|          | 3/3514 [00:00<02:13, 26.25it/s]\u001b[A\n",
            "평가 중:   0%|          | 6/3514 [00:00<02:11, 26.72it/s]\u001b[A\n",
            "                                                         \u001b[A"
          ]
        },
        {
          "output_type": "stream",
          "name": "stdout",
          "text": [
            "검증 평균 손실: 4.4384, 혼잡도: 84.64\n",
            "generate_text를 사용하여 문맥을 기반으로 텍스트 생성:\n",
            "\n",
            "\n",
            "문맥: Moscow\n",
            "\n",
            "생성된 텍스트: Moscow 's first-class player was the first time in the ####s . ' '' Wenger . ' '' Wenger said . ' '' Wenger said . ' '' Wenger said . ' '' Wenger said . ' '' Wenger said .\n",
            "\n",
            "문맥: New York\n",
            "\n",
            "생성된 텍스트: New York City Council said the government 's decision to be the case was . ' '' Ahmad said . ' '' Eyewitness . ' '' A .### . ) . '' 'The FBI said . ' '' Wenger said\n",
            "\n",
            "문맥: A hurricane\n",
            "\n",
            "생성된 텍스트: A hurricane was found in the area , and the ##-year-old was found dead in the street . ' '' Wenger said . ' '' Wenger said . ' '' Wenger said . ' '' Wenger said . ' '' Wenger said .\n"
          ]
        },
        {
          "output_type": "stream",
          "name": "stderr",
          "text": [
            "에포크 1/1:  22%|██▏       | 37514/172148 [47:55<8:03:15,  4.64it/s, loss=4.5590] "
          ]
        },
        {
          "output_type": "stream",
          "name": "stdout",
          "text": [
            "\n",
            "문맥: The President\n",
            "\n",
            "생성된 텍스트: The President said the government 's decision to be the case was `` a very good . '' 'The FBI said . ' '' Wenger said . ' '' Wenger said . ' '' Wenger said . ' '' Wenger said . ' '' W\n"
          ]
        },
        {
          "output_type": "stream",
          "name": "stderr",
          "text": [
            "에포크 1/1:  23%|██▎       | 39074/172148 [49:53<3:00:05, 12.32it/s, loss=4.4107]"
          ]
        },
        {
          "output_type": "stream",
          "name": "stdout",
          "text": [
            "\n",
            "200064 샘플 처리 후, 평균 손실: 4.4691\n"
          ]
        },
        {
          "output_type": "stream",
          "name": "stderr",
          "text": [
            "\n",
            "평가 중:   0%|          | 0/3514 [00:00<?, ?it/s]\u001b[A\n",
            "평가 중:   0%|          | 3/3514 [00:00<02:44, 21.38it/s]\u001b[A\n",
            "평가 중:   0%|          | 6/3514 [00:00<02:40, 21.88it/s]\u001b[A\n",
            "                                                         \u001b[A"
          ]
        },
        {
          "output_type": "stream",
          "name": "stdout",
          "text": [
            "검증 평균 손실: 4.4346, 혼잡도: 84.32\n",
            "generate_text를 사용하여 문맥을 기반으로 텍스트 생성:\n",
            "\n",
            "\n",
            "문맥: Moscow\n",
            "\n",
            "생성된 텍스트: Moscow has been in the UK , and the ##-year-old has been in the ####s . ' '' Wenger said . ' '' Wenger said . ' '' Wenger said . ' '' Wenger said . ' '' Wenger said .\n",
            "\n",
            "문맥: New York\n",
            "\n",
            "생성된 텍스트: New York City Council said the `` is a very important role in the world 's most important place . '' 's . '' 'Hey said . ' '' A statement said . ' '' A statement said . ' '' A statement said . ' '' A\n",
            "\n",
            "문맥: A hurricane\n",
            "\n",
            "생성된 텍스트: A hurricane was found in the middle of the night , and the ##-year-old was found dead in the street . ' '' A man told the court . ' '' The statement said . ' '' Wenger said . ' '' Wenger said . '\n"
          ]
        },
        {
          "output_type": "stream",
          "name": "stderr",
          "text": [
            "에포크 1/1:  23%|██▎       | 39076/172148 [49:55<13:55:38,  2.65it/s, loss=4.4790]"
          ]
        },
        {
          "output_type": "stream",
          "name": "stdout",
          "text": [
            "\n",
            "문맥: The President\n",
            "\n",
            "생성된 텍스트: The President 's office is not the first time in the ####s . '' 's `` The Situation Room '' . '' 'Hopefully . ' '' A statement said . ' '' A statement said . ' '' A statement said . ' '' A\n"
          ]
        },
        {
          "output_type": "stream",
          "name": "stderr",
          "text": [
            "에포크 1/1:  24%|██▎       | 40636/172148 [51:52<2:37:53, 13.88it/s, loss=4.4001]"
          ]
        },
        {
          "output_type": "stream",
          "name": "stdout",
          "text": [
            "\n",
            "200064 샘플 처리 후, 평균 손실: 4.4610\n"
          ]
        },
        {
          "output_type": "stream",
          "name": "stderr",
          "text": [
            "\n",
            "평가 중:   0%|          | 0/3514 [00:00<?, ?it/s]\u001b[A\n",
            "평가 중:   0%|          | 3/3514 [00:00<02:22, 24.59it/s]\u001b[A\n",
            "평가 중:   0%|          | 6/3514 [00:00<02:13, 26.36it/s]\u001b[A\n",
            "                                                         \u001b[A"
          ]
        },
        {
          "output_type": "stream",
          "name": "stdout",
          "text": [
            "검증 평균 손실: 4.4277, 혼잡도: 83.74\n",
            "generate_text를 사용하여 문맥을 기반으로 텍스트 생성:\n",
            "\n",
            "\n",
            "문맥: Moscow\n",
            "\n",
            "생성된 텍스트: Moscow 's most recent deaths of the ##-year-old , who was arrested in the attack , was arrested on suspicion of murdering the death of the police . ' '' Ahmadinejad said . ' '' Ahmad\n",
            "\n",
            "문맥: New York\n",
            "\n",
            "생성된 텍스트: New York City Council said : 'We are not aware of the case , '' said the report . ' '' Ahmadinejad said . ' '' Ahmadinejad said . ' '' Ahmadinejad said . ' ''\n",
            "\n",
            "문맥: A hurricane\n",
            "\n",
            "생성된 텍스트: A hurricane was found in the area of the <rare> , and the ##-year-old was found in the area . ' '' Ahmadinejad said . ' '' Ahmadinejad said . ' '' Ahmadine\n"
          ]
        },
        {
          "output_type": "stream",
          "name": "stderr",
          "text": [
            "에포크 1/1:  24%|██▎       | 40640/172148 [51:54<7:49:58,  4.66it/s, loss=4.4530] "
          ]
        },
        {
          "output_type": "stream",
          "name": "stdout",
          "text": [
            "\n",
            "문맥: The President\n",
            "\n",
            "생성된 텍스트: The President 's ##-year-old is the first time in the ####s . '' 'We 're not sure . '' 'We 're not sure . '' 'We 're not sure . '' 'We 're not sure . '' '\n"
          ]
        },
        {
          "output_type": "stream",
          "name": "stderr",
          "text": [
            "에포크 1/1:  25%|██▍       | 42200/172148 [53:52<2:35:53, 13.89it/s, loss=4.3458]"
          ]
        },
        {
          "output_type": "stream",
          "name": "stdout",
          "text": [
            "\n",
            "200064 샘플 처리 후, 평균 손실: 4.4576\n"
          ]
        },
        {
          "output_type": "stream",
          "name": "stderr",
          "text": [
            "\n",
            "평가 중:   0%|          | 0/3514 [00:00<?, ?it/s]\u001b[A\n",
            "평가 중:   0%|          | 3/3514 [00:00<02:15, 25.95it/s]\u001b[A\n",
            "평가 중:   0%|          | 6/3514 [00:00<02:14, 26.15it/s]\u001b[A\n",
            "                                                         \u001b[A"
          ]
        },
        {
          "output_type": "stream",
          "name": "stdout",
          "text": [
            "검증 평균 손실: 4.4240, 혼잡도: 83.43\n",
            "generate_text를 사용하여 문맥을 기반으로 텍스트 생성:\n",
            "\n",
            "\n",
            "문맥: Moscow\n",
            "\n",
            "생성된 텍스트: Moscow 's first-time world champion , who has been in the world , the first of the ##-year-old , who has been in the world , the first of the ##-year-old , who has been in the world , the\n",
            "\n",
            "문맥: New York\n",
            "\n",
            "생성된 텍스트: New York City # : The ##-year-old man was shot in the corner of the ##th century , and the ##-year-old was found in the second half . ' '' Aaron Ramsey , ## , and the ##-year-\n",
            "\n",
            "문맥: A hurricane\n",
            "\n",
            "생성된 텍스트: A hurricane is a huge part of the world 's largest city in the world . '' . '' . ' '' A .###-###-#-#-#-#-#-#-#-#-#-#-#\n"
          ]
        },
        {
          "output_type": "stream",
          "name": "stderr",
          "text": [
            "에포크 1/1:  25%|██▍       | 42202/172148 [53:53<10:00:01,  3.61it/s, loss=4.4138]"
          ]
        },
        {
          "output_type": "stream",
          "name": "stdout",
          "text": [
            "\n",
            "문맥: The President\n",
            "\n",
            "생성된 텍스트: The President 's ##-year-old son was arrested in #### . ' '' Aaron Ramsey , ## , and the ##-year-old man was shot in the corner . ' '' Aaron Ramsey , ## , and the ##-year\n"
          ]
        },
        {
          "output_type": "stream",
          "name": "stderr",
          "text": [
            "에포크 1/1:  25%|██▌       | 43762/172148 [55:52<2:43:32, 13.08it/s, loss=4.5177]"
          ]
        },
        {
          "output_type": "stream",
          "name": "stdout",
          "text": [
            "\n",
            "200064 샘플 처리 후, 평균 손실: 4.4509\n"
          ]
        },
        {
          "output_type": "stream",
          "name": "stderr",
          "text": [
            "\n",
            "평가 중:   0%|          | 0/3514 [00:00<?, ?it/s]\u001b[A\n",
            "평가 중:   0%|          | 3/3514 [00:00<02:15, 25.91it/s]\u001b[A\n",
            "평가 중:   0%|          | 6/3514 [00:00<02:08, 27.19it/s]\u001b[A\n",
            "                                                         \u001b[A"
          ]
        },
        {
          "output_type": "stream",
          "name": "stdout",
          "text": [
            "검증 평균 손실: 4.4191, 혼잡도: 83.02\n",
            "generate_text를 사용하여 문맥을 기반으로 텍스트 생성:\n",
            "\n",
            "\n",
            "문맥: Moscow\n",
            "\n",
            "생성된 텍스트: Moscow , who is the first of the ##-year-old , who was a former club in the Premier League . ' '' Wenger 's first-team coach . ' '' Wenger 's first-team coach . ' '' Wenger '\n",
            "\n",
            "문맥: New York\n",
            "\n",
            "생성된 텍스트: New York City Council has been charged with a judge to determine the case of the incident . ' '' Wade 's mother , who was born in #### . ' '' Wade 's mother , who was born in #### . ' '' Wade 's\n",
            "\n",
            "문맥: A hurricane\n",
            "\n",
            "생성된 텍스트: A hurricane is a very difficult time . '' 'The FBI said . ' '' It 's not a `` a very high-endment '' . ' '' It is a `` very difficult time . '' ' I 'm not sure . '' ' I\n"
          ]
        },
        {
          "output_type": "stream",
          "name": "stderr",
          "text": [
            "에포크 1/1:  25%|██▌       | 43766/172148 [55:53<7:42:43,  4.62it/s, loss=4.4345]"
          ]
        },
        {
          "output_type": "stream",
          "name": "stdout",
          "text": [
            "\n",
            "문맥: The President\n",
            "\n",
            "생성된 텍스트: The President of the country 's most recent deaths have been made to be a `` very difficult time '' . '' 'The FBI said . ' '' It 's not a `` a very high-endment '' . ' '' It is a ``\n"
          ]
        },
        {
          "output_type": "stream",
          "name": "stderr",
          "text": [
            "에포크 1/1:  26%|██▋       | 45326/172148 [57:51<2:31:36, 13.94it/s, loss=4.3751]"
          ]
        },
        {
          "output_type": "stream",
          "name": "stdout",
          "text": [
            "\n",
            "200064 샘플 처리 후, 평균 손실: 4.4461\n"
          ]
        },
        {
          "output_type": "stream",
          "name": "stderr",
          "text": [
            "\n",
            "평가 중:   0%|          | 0/3514 [00:00<?, ?it/s]\u001b[A\n",
            "평가 중:   0%|          | 2/3514 [00:00<03:12, 18.21it/s]\u001b[A\n",
            "평가 중:   0%|          | 4/3514 [00:00<03:15, 17.93it/s]\u001b[A\n",
            "평가 중:   0%|          | 7/3514 [00:00<03:00, 19.47it/s]\u001b[A\n",
            "                                                         \u001b[A"
          ]
        },
        {
          "output_type": "stream",
          "name": "stdout",
          "text": [
            "검증 평균 손실: 4.4138, 혼잡도: 82.58\n",
            "generate_text를 사용하여 문맥을 기반으로 텍스트 생성:\n",
            "\n",
            "\n",
            "문맥: Moscow\n",
            "\n",
            "생성된 텍스트: Moscow 's most recent deaths have been killed in the attack . ' '' A .### . '#m . '' . '' . ' '' The . ' I 'm a good friend . '' . ' I 'm a good job .\n",
            "\n",
            "문맥: New York\n",
            "\n",
            "생성된 텍스트: New York City Council said : 'The first time we have been in the first place in the ####s . '' . ' '' The statement said . ' '' The . ' I 'm a good friend . '' . ' I 'm a good job .\n",
            "\n",
            "문맥: A hurricane\n",
            "\n",
            "생성된 텍스트: A hurricane was a popular <rare> . '#m . '' . ' '' The . ' I 've been a good job . ' '' I 'm not sure . ' '' I 'm not sure . ' '' I 'm not sure .\n"
          ]
        },
        {
          "output_type": "stream",
          "name": "stderr",
          "text": [
            "에포크 1/1:  26%|██▋       | 45328/172148 [57:53<12:26:59,  2.83it/s, loss=4.2855]"
          ]
        },
        {
          "output_type": "stream",
          "name": "stdout",
          "text": [
            "\n",
            "문맥: The President\n",
            "\n",
            "생성된 텍스트: The President 's first-round match against the United States has been in the first half . '' . '' . ' '' he said . ' '' I 'm not a good person . ' '' I 'm not sure . ' '' I 'm not\n"
          ]
        },
        {
          "output_type": "stream",
          "name": "stderr",
          "text": [
            "에포크 1/1:  27%|██▋       | 46888/172148 [59:51<2:29:30, 13.96it/s, loss=4.5308]"
          ]
        },
        {
          "output_type": "stream",
          "name": "stdout",
          "text": [
            "\n",
            "200064 샘플 처리 후, 평균 손실: 4.4390\n"
          ]
        },
        {
          "output_type": "stream",
          "name": "stderr",
          "text": [
            "\n",
            "평가 중:   0%|          | 0/3514 [00:00<?, ?it/s]\u001b[A\n",
            "평가 중:   0%|          | 3/3514 [00:00<02:19, 25.17it/s]\u001b[A\n",
            "평가 중:   0%|          | 6/3514 [00:00<02:11, 26.62it/s]\u001b[A\n",
            "                                                         \u001b[A"
          ]
        },
        {
          "output_type": "stream",
          "name": "stdout",
          "text": [
            "검증 평균 손실: 4.4155, 혼잡도: 82.72\n",
            "generate_text를 사용하여 문맥을 기반으로 텍스트 생성:\n",
            "\n",
            "\n",
            "문맥: Moscow\n",
            "\n",
            "생성된 텍스트: Moscow 's most recent study , which is the most important thing , '' said the .### . ' '' Ahmadinejad , who was arrested in #### , and the ##-year-old girl was arrested in the attack . '\n",
            "\n",
            "문맥: New York\n",
            "\n",
            "생성된 텍스트: New York City Council has been in the UK , but the ##-year-old has been in the UK . '' . ' '' Ahmadinejad , who was arrested in #### , and the ##-year-old girl was arrested in the\n",
            "\n",
            "문맥: A hurricane\n",
            "\n",
            "생성된 텍스트: A hurricane was found in the area , and the ##-year-old man was arrested in the attack . ' '' A .### .### .### .### .### .### .### .### .###\n"
          ]
        },
        {
          "output_type": "stream",
          "name": "stderr",
          "text": [
            "에포크 1/1:  27%|██▋       | 46892/172148 [59:52<7:28:56,  4.65it/s, loss=4.5859]"
          ]
        },
        {
          "output_type": "stream",
          "name": "stdout",
          "text": [
            "\n",
            "문맥: The President\n",
            "\n",
            "생성된 텍스트: The President 's ##-year-old son , who was arrested in #### , was arrested in #### , but the ##-year-old girl was arrested in the attack . ' '' A .### .### .### .### .\n"
          ]
        },
        {
          "output_type": "stream",
          "name": "stderr",
          "text": [
            "에포크 1/1:  28%|██▊       | 48452/172148 [1:01:51<2:28:29, 13.88it/s, loss=4.4367]"
          ]
        },
        {
          "output_type": "stream",
          "name": "stdout",
          "text": [
            "\n",
            "200064 샘플 처리 후, 평균 손실: 4.4343\n"
          ]
        },
        {
          "output_type": "stream",
          "name": "stderr",
          "text": [
            "\n",
            "평가 중:   0%|          | 0/3514 [00:00<?, ?it/s]\u001b[A\n",
            "평가 중:   0%|          | 3/3514 [00:00<02:25, 24.15it/s]\u001b[A\n",
            "평가 중:   0%|          | 6/3514 [00:00<02:15, 25.82it/s]\u001b[A\n",
            "                                                         \u001b[A"
          ]
        },
        {
          "output_type": "stream",
          "name": "stdout",
          "text": [
            "검증 평균 손실: 4.3991, 혼잡도: 81.38\n",
            "generate_text를 사용하여 문맥을 기반으로 텍스트 생성:\n",
            "\n",
            "\n",
            "문맥: Moscow\n",
            "\n",
            "생성된 텍스트: Moscow , the most popularity of the world 's largest <rare> . '' 'The FBI has been a `` significant '' of the 's ' . ' '' A statement said . ' '' A statement said . ' '' A statement said .\n",
            "\n",
            "문맥: New York\n",
            "\n",
            "생성된 텍스트: New York City 's first-time winner of the season is a big deal with the most famous . '' ' I 'm not going to be a bit of a . '' ' I 'm not going to be a bit of a . '' ' I\n",
            "\n",
            "문맥: A hurricane\n",
            "\n",
            "생성된 텍스트: A hurricane is a bit of a newborn . ' '' A statement said . ' '' A statement said . ' '' A statement said . ' '' A statement said . ' '' A statement said . ' '' A statement said . ' '' A statement said .\n"
          ]
        },
        {
          "output_type": "stream",
          "name": "stderr",
          "text": [
            "에포크 1/1:  28%|██▊       | 48454/172148 [1:01:52<9:30:58,  3.61it/s, loss=4.4237]"
          ]
        },
        {
          "output_type": "stream",
          "name": "stdout",
          "text": [
            "\n",
            "문맥: The President\n",
            "\n",
            "생성된 텍스트: The President 's first-time leader of the world 's largest <rare> , the most popularity of the world , and the most popularity of the world 's most famous . '' 'The Dark Knight Ridgeham , ## , and the\n"
          ]
        },
        {
          "output_type": "stream",
          "name": "stderr",
          "text": [
            "에포크 1/1:  29%|██▉       | 50014/172148 [1:03:51<2:37:31, 12.92it/s, loss=4.4027]"
          ]
        },
        {
          "output_type": "stream",
          "name": "stdout",
          "text": [
            "\n",
            "200064 샘플 처리 후, 평균 손실: 4.4293\n"
          ]
        },
        {
          "output_type": "stream",
          "name": "stderr",
          "text": [
            "\n",
            "평가 중:   0%|          | 0/3514 [00:00<?, ?it/s]\u001b[A\n",
            "평가 중:   0%|          | 3/3514 [00:00<02:21, 24.73it/s]\u001b[A\n",
            "평가 중:   0%|          | 6/3514 [00:00<02:15, 25.95it/s]\u001b[A\n",
            "                                                         \u001b[A"
          ]
        },
        {
          "output_type": "stream",
          "name": "stdout",
          "text": [
            "검증 평균 손실: 4.3962, 혼잡도: 81.14\n",
            "generate_text를 사용하여 문맥을 기반으로 텍스트 생성:\n",
            "\n",
            "\n",
            "문맥: Moscow\n",
            "\n",
            "생성된 텍스트: Moscow , who has been arrested in the case , said : 'The man was in the house , ' he said . ' '' I 'm not going to be a good person . ' '' he said . ' '' I 'm not going to be\n",
            "\n",
            "문맥: New York\n",
            "\n",
            "생성된 텍스트: New York City Council said the government would not be able to pay for the money . ' '' A .### . '### . '' . ' '' A .### .### .### . '' . ' '' A .### .\n",
            "\n",
            "문맥: A hurricane\n",
            "\n",
            "생성된 텍스트: A hurricane of the world is a great-grandmother 's home . ' '' I 'm not a good person . ' '' he said . ' '' I 'm not going to be a good person . ' '' he said . ' '' I\n"
          ]
        },
        {
          "output_type": "stream",
          "name": "stderr",
          "text": [
            "에포크 1/1:  29%|██▉       | 50018/172148 [1:03:52<7:23:32,  4.59it/s, loss=4.3519]"
          ]
        },
        {
          "output_type": "stream",
          "name": "stdout",
          "text": [
            "\n",
            "문맥: The President\n",
            "\n",
            "생성된 텍스트: The President 's office has been accused of the attack on the investigation . ' '' A .### .### .### .### . '' . ' '' A .### . '### . '' . ' '' A .###\n"
          ]
        },
        {
          "output_type": "stream",
          "name": "stderr",
          "text": [
            "에포크 1/1:  30%|██▉       | 51578/172148 [1:05:51<2:46:22, 12.08it/s, loss=4.4753]"
          ]
        },
        {
          "output_type": "stream",
          "name": "stdout",
          "text": [
            "\n",
            "200064 샘플 처리 후, 평균 손실: 4.4265\n"
          ]
        },
        {
          "output_type": "stream",
          "name": "stderr",
          "text": [
            "\n",
            "평가 중:   0%|          | 0/3514 [00:00<?, ?it/s]\u001b[A\n",
            "평가 중:   0%|          | 3/3514 [00:00<02:50, 20.62it/s]\u001b[A\n",
            "평가 중:   0%|          | 6/3514 [00:00<02:47, 20.90it/s]\u001b[A\n",
            "                                                         \u001b[A"
          ]
        },
        {
          "output_type": "stream",
          "name": "stdout",
          "text": [
            "검증 평균 손실: 4.4022, 혼잡도: 81.63\n",
            "generate_text를 사용하여 문맥을 기반으로 텍스트 생성:\n",
            "\n",
            "\n",
            "문맥: Moscow\n",
            "\n",
            "생성된 텍스트: Moscow , the ##th century , is the latest in the ####s . ' '' Wade 's . ' '' Wade , who is not in the country . ' '' Wade said . ' '' Wade , who is not in the country\n",
            "\n",
            "문맥: New York\n",
            "\n",
            "생성된 텍스트: New York City Council said : 'The next day , '' he said . ' '' I 'm not sure . ' '' I 'm not sure . ' '' I 'm not sure . ' '' I 'm not sure . ' '' I 'm\n",
            "\n",
            "문맥: A hurricane\n",
            "\n",
            "생성된 텍스트: A hurricane is not the first time in the UK . ' '' Wade said . ' '' Wade , who is not in the country . ' '' Wade said . ' '' Wade , who is not in the country . ' '' Wade said\n"
          ]
        },
        {
          "output_type": "stream",
          "name": "stderr",
          "text": [
            "에포크 1/1:  30%|██▉       | 51580/172148 [1:05:53<13:14:46,  2.53it/s, loss=4.3722]"
          ]
        },
        {
          "output_type": "stream",
          "name": "stdout",
          "text": [
            "\n",
            "문맥: The President\n",
            "\n",
            "생성된 텍스트: The President 's office said the investigation was `` a very good . '' 'The . '## . ' '' Wade 's . ' '' Wade 's . ' '' Wade 's . ' '' Wade 's . ' '' W\n"
          ]
        },
        {
          "output_type": "stream",
          "name": "stderr",
          "text": [
            "에포크 1/1:  31%|███       | 53141/172148 [1:07:51<2:25:37, 13.62it/s, loss=4.4262]"
          ]
        },
        {
          "output_type": "stream",
          "name": "stdout",
          "text": [
            "\n",
            "200064 샘플 처리 후, 평균 손실: 4.4201\n"
          ]
        },
        {
          "output_type": "stream",
          "name": "stderr",
          "text": [
            "\n",
            "평가 중:   0%|          | 0/3514 [00:00<?, ?it/s]\u001b[A\n",
            "평가 중:   0%|          | 3/3514 [00:00<02:12, 26.47it/s]\u001b[A\n",
            "평가 중:   0%|          | 6/3514 [00:00<02:08, 27.33it/s]\u001b[A\n",
            "                                                         \u001b[A"
          ]
        },
        {
          "output_type": "stream",
          "name": "stdout",
          "text": [
            "검증 평균 손실: 4.3934, 혼잡도: 80.91\n",
            "generate_text를 사용하여 문맥을 기반으로 텍스트 생성:\n",
            "\n",
            "\n",
            "문맥: Moscow\n",
            "\n",
            "생성된 텍스트: Moscow is not a `` significant threat '' . ' '' Ahmadinejad . ' '' Ahmadinejad . ' '' Ahmadinejad . ' '' Ahmadinejad . ' '' Ahmadine\n",
            "\n",
            "문맥: New York\n",
            "\n",
            "생성된 텍스트: New York City 's #-# win over the last ## years in the ####s . '' 's official website . ' '' Ahmadinejad . ' '' Ahmadinejad . ' '' Ahmadinejad .\n",
            "\n",
            "문맥: A hurricane\n",
            "\n",
            "생성된 텍스트: A hurricane is a great example of the most important place . '' 's official website . ' '' Ahmadinejad . ' '' Ahmadinejad . ' '' Ahmadinejad . ' '' Ahmadinej\n"
          ]
        },
        {
          "output_type": "stream",
          "name": "stderr",
          "text": [
            "에포크 1/1:  31%|███       | 53143/172148 [1:07:53<9:06:21,  3.63it/s, loss=4.3493]"
          ]
        },
        {
          "output_type": "stream",
          "name": "stdout",
          "text": [
            "\n",
            "문맥: The President\n",
            "\n",
            "생성된 텍스트: The President 's ##-year-old son was arrested on suspicion of murder and murder . ' ' I 'm not going to be a great . '' ' I 'm not sure . ' '' I 'm not sure . ' '' I '\n"
          ]
        },
        {
          "output_type": "stream",
          "name": "stderr",
          "text": [
            "에포크 1/1:  32%|███▏      | 54703/172148 [1:09:52<2:21:48, 13.80it/s, loss=4.4788]"
          ]
        },
        {
          "output_type": "stream",
          "name": "stdout",
          "text": [
            "\n",
            "200064 샘플 처리 후, 평균 손실: 4.4211\n"
          ]
        },
        {
          "output_type": "stream",
          "name": "stderr",
          "text": [
            "\n",
            "평가 중:   0%|          | 0/3514 [00:00<?, ?it/s]\u001b[A\n",
            "평가 중:   0%|          | 3/3514 [00:00<02:18, 25.26it/s]\u001b[A\n",
            "평가 중:   0%|          | 6/3514 [00:00<02:18, 25.26it/s]\u001b[A\n",
            "                                                         \u001b[A"
          ]
        },
        {
          "output_type": "stream",
          "name": "stdout",
          "text": [
            "검증 평균 손실: 4.3846, 혼잡도: 80.21\n",
            "generate_text를 사용하여 문맥을 기반으로 텍스트 생성:\n",
            "\n",
            "\n",
            "문맥: Moscow\n",
            "\n",
            "생성된 텍스트: Moscow has been charged with a number of people who have been killed in the attack . ' '' Wimbledon , ## , and the ##th century . ' '' The . ' I 'm a . '' 's office said . ' '' The\n",
            "\n",
            "문맥: New York\n",
            "\n",
            "생성된 텍스트: New York City 's first-time Grand Prix , which is the first time in the ####s . '' 's Office of the National Park Service . ' '' A .### . ' '' Wimbledon , ## , and the ##th anni\n",
            "\n",
            "문맥: A hurricane\n",
            "\n",
            "생성된 텍스트: A hurricane was found in the area of the city of the University of California , and the ##-year-old woman who was killed in the crash . ' '' I 'm a man . '' ' said . ' '' I 'm not sure . ''\n"
          ]
        },
        {
          "output_type": "stream",
          "name": "stderr",
          "text": [
            "에포크 1/1:  32%|███▏      | 54707/172148 [1:09:53<7:05:46,  4.60it/s, loss=4.3875]"
          ]
        },
        {
          "output_type": "stream",
          "name": "stdout",
          "text": [
            "\n",
            "문맥: The President\n",
            "\n",
            "생성된 텍스트: The President 's office said the company had been `` a good job '' . '' 's office said . ' '' The . ' '' The . ' I 'm a . '' 's office said . ' '' The . ' I 'm a .\n"
          ]
        },
        {
          "output_type": "stream",
          "name": "stderr",
          "text": [
            "에포크 1/1:  33%|███▎      | 56267/172148 [1:11:52<2:18:34, 13.94it/s, loss=4.3546]"
          ]
        },
        {
          "output_type": "stream",
          "name": "stdout",
          "text": [
            "\n",
            "200064 샘플 처리 후, 평균 손실: 4.4110\n"
          ]
        },
        {
          "output_type": "stream",
          "name": "stderr",
          "text": [
            "\n",
            "평가 중:   0%|          | 0/3514 [00:00<?, ?it/s]\u001b[A\n",
            "평가 중:   0%|          | 3/3514 [00:00<02:19, 25.23it/s]\u001b[A\n",
            "평가 중:   0%|          | 6/3514 [00:00<02:13, 26.22it/s]\u001b[A\n",
            "                                                         \u001b[A"
          ]
        },
        {
          "output_type": "stream",
          "name": "stdout",
          "text": [
            "검증 평균 손실: 4.3763, 혼잡도: 79.54\n",
            "generate_text를 사용하여 문맥을 기반으로 텍스트 생성:\n",
            "\n",
            "\n",
            "문맥: Moscow\n",
            "\n",
            "생성된 텍스트: Moscow has been a very difficult time to be in the country . '' . '' . ) . '' . ' '' Wenger said . ' '' I 'm not going to be . '' . ' '' I 'm not going to be . ' ''\n",
            "\n",
            "문맥: New York\n",
            "\n",
            "생성된 텍스트: New York City : The ##-year-old was a great player in the Premier League . '' . ' '' Wenger . ' ' I 'm going to be a great player . '' . ' '' I 'm not going to be . '' .\n",
            "\n",
            "문맥: A hurricane\n",
            "\n",
            "생성된 텍스트: A hurricane is a very important part of the world . '' . '' . ) . '' . ' '' Wenger . ' ' I 'm going to be a great player . '' . ' '' I 'm not going to be . '' . ' ''\n"
          ]
        },
        {
          "output_type": "stream",
          "name": "stderr",
          "text": [
            "에포크 1/1:  33%|███▎      | 56269/172148 [1:11:54<8:52:29,  3.63it/s, loss=4.4420]"
          ]
        },
        {
          "output_type": "stream",
          "name": "stdout",
          "text": [
            "\n",
            "문맥: The President\n",
            "\n",
            "생성된 텍스트: The President 's office is not the first time in the UK . '' . '' . ) . '' . ' '' Wenger . ' ' I 'm going to be a great player . '' . ' '' I 'm not going to be . ''\n"
          ]
        },
        {
          "output_type": "stream",
          "name": "stderr",
          "text": [
            "에포크 1/1:  34%|███▎      | 57829/172148 [1:13:52<2:49:15, 11.26it/s, loss=4.3629]"
          ]
        },
        {
          "output_type": "stream",
          "name": "stdout",
          "text": [
            "\n",
            "200064 샘플 처리 후, 평균 손실: 4.4125\n"
          ]
        },
        {
          "output_type": "stream",
          "name": "stderr",
          "text": [
            "\n",
            "평가 중:   0%|          | 0/3514 [00:00<?, ?it/s]\u001b[A\n",
            "평가 중:   0%|          | 2/3514 [00:00<03:08, 18.58it/s]\u001b[A\n",
            "평가 중:   0%|          | 4/3514 [00:00<03:04, 19.01it/s]\u001b[A\n",
            "평가 중:   0%|          | 6/3514 [00:00<03:05, 18.95it/s]\u001b[A\n",
            "                                                         \u001b[A"
          ]
        },
        {
          "output_type": "stream",
          "name": "stdout",
          "text": [
            "검증 평균 손실: 4.3738, 혼잡도: 79.34\n",
            "generate_text를 사용하여 문맥을 기반으로 텍스트 생성:\n",
            "\n",
            "\n",
            "문맥: Moscow\n",
            "\n",
            "생성된 텍스트: Moscow 's most recent people have been in the world . '' 'We are not the first time . '' . '' said the president . '' . '' said the U.S. Army . '' . ) . '' said the ##-year-old\n",
            "\n",
            "문맥: New York\n",
            "\n",
            "생성된 텍스트: New York City Council said the ##-year-old was a member of the family of the family . ' '' he said . ' '' he said . ' '' he said . ' '' he said . ' '' he said . ' '' he said . '\n",
            "\n",
            "문맥: A hurricane\n",
            "\n",
            "생성된 텍스트: A hurricane is a huge part of the world 's largest city of <rare> . '' . '' said the U.S. Army . '' . ) . '' said the ##-year-old . ' '' It 's a `` a good .\n"
          ]
        },
        {
          "output_type": "stream",
          "name": "stderr",
          "text": [
            "에포크 1/1:  34%|███▎      | 57833/172148 [1:13:54<7:35:32,  4.18it/s, loss=4.4265]"
          ]
        },
        {
          "output_type": "stream",
          "name": "stdout",
          "text": [
            "\n",
            "문맥: The President\n",
            "\n",
            "생성된 텍스트: The President 's ##-year-old has been charged with murdering a ##-year-old woman who was arrested in the attack . ' '' he said . ' '' he said . ' '' he said . ' '' he said . ' '' he\n"
          ]
        },
        {
          "output_type": "stream",
          "name": "stderr",
          "text": [
            "에포크 1/1:  35%|███▍      | 59393/172148 [1:15:52<2:17:02, 13.71it/s, loss=4.4991]"
          ]
        },
        {
          "output_type": "stream",
          "name": "stdout",
          "text": [
            "\n",
            "200064 샘플 처리 후, 평균 손실: 4.4082\n"
          ]
        },
        {
          "output_type": "stream",
          "name": "stderr",
          "text": [
            "\n",
            "평가 중:   0%|          | 0/3514 [00:00<?, ?it/s]\u001b[A\n",
            "평가 중:   0%|          | 2/3514 [00:00<03:03, 19.13it/s]\u001b[A\n",
            "평가 중:   0%|          | 5/3514 [00:00<02:50, 20.61it/s]\u001b[A\n",
            "                                                         \u001b[A"
          ]
        },
        {
          "output_type": "stream",
          "name": "stdout",
          "text": [
            "검증 평균 손실: 4.3777, 혼잡도: 79.65\n",
            "generate_text를 사용하여 문맥을 기반으로 텍스트 생성:\n",
            "\n",
            "\n",
            "문맥: Moscow\n",
            "\n",
            "생성된 텍스트: Moscow is not the first time in the ####s . '' 's office . '' said the official . ' '' A spokesman for the U.S. Department of Justice . ' '' A .### . ' '' Wenger 's chief\n",
            "\n",
            "문맥: New York\n",
            "\n",
            "생성된 텍스트: New York City Police said the police were called to the scene of the incident . ' '' A spokesman for the U.S. Department of Justice . ' '' Ahmadinejad said . ' '' A spokesman for the U.\n",
            "\n",
            "문맥: A hurricane\n",
            "\n",
            "생성된 텍스트: A hurricane is a very important part of the world . '' 's official statement said . ' '' A statement . ' '' A statement said . ' '' A .### . ' '' A spokesman for the U.S. Department of Justice .\n"
          ]
        },
        {
          "output_type": "stream",
          "name": "stderr",
          "text": [
            "에포크 1/1:  35%|███▍      | 59395/172148 [1:15:55<11:10:13,  2.80it/s, loss=4.3662]"
          ]
        },
        {
          "output_type": "stream",
          "name": "stdout",
          "text": [
            "\n",
            "문맥: The President\n",
            "\n",
            "생성된 텍스트: The President 's decision to be a `` significant amount of time '' . ' '' A statement said . ' '' A spokesman for the U.S. Department of Justice . ' '' A .### . ' '' Wenger 's chief executive\n"
          ]
        },
        {
          "output_type": "stream",
          "name": "stderr",
          "text": [
            "에포크 1/1:  35%|███▌      | 60955/172148 [1:17:53<2:13:35, 13.87it/s, loss=4.3219]"
          ]
        },
        {
          "output_type": "stream",
          "name": "stdout",
          "text": [
            "\n",
            "200064 샘플 처리 후, 평균 손실: 4.4049\n"
          ]
        },
        {
          "output_type": "stream",
          "name": "stderr",
          "text": [
            "\n",
            "평가 중:   0%|          | 0/3514 [00:00<?, ?it/s]\u001b[A\n",
            "평가 중:   0%|          | 3/3514 [00:00<02:29, 23.49it/s]\u001b[A\n",
            "평가 중:   0%|          | 6/3514 [00:00<02:17, 25.61it/s]\u001b[A\n",
            "                                                         \u001b[A"
          ]
        },
        {
          "output_type": "stream",
          "name": "stdout",
          "text": [
            "검증 평균 손실: 4.3747, 혼잡도: 79.41\n",
            "generate_text를 사용하여 문맥을 기반으로 텍스트 생성:\n",
            "\n",
            "\n",
            "문맥: Moscow\n",
            "\n",
            "생성된 텍스트: Moscow is not the first time to be in the country . '' . '' said the president . '' . '' said . '' . '' said the official . ' '' A statement said . ' '' A statement . ' '' A statement said . ' '' A\n",
            "\n",
            "문맥: New York\n",
            "\n",
            "생성된 텍스트: New York City 's #-# draw with the ##-year-old . ' '' A spokesman for the U.S. official . ' '' A spokesman for the U.S. official . ' '' A spokesman for\n",
            "\n",
            "문맥: A hurricane\n",
            "\n",
            "생성된 텍스트: A hurricane is a huge part of the world 's biggest cities . '' 's official website . ' '' said . '' 's official statement . ' '' said . ' '' A statement . ' '' A statement said . ' '' A statement . ' ''\n"
          ]
        },
        {
          "output_type": "stream",
          "name": "stderr",
          "text": [
            "에포크 1/1:  35%|███▌      | 60959/172148 [1:17:55<6:39:21,  4.64it/s, loss=4.3519]"
          ]
        },
        {
          "output_type": "stream",
          "name": "stdout",
          "text": [
            "\n",
            "문맥: The President\n",
            "\n",
            "생성된 텍스트: The President 's first-degree murder charge was a 'dangerous . ' '' It 's a very good thing . '' ' I 'm going to get a good thing . '' ' I 'm going to get the best . '' '\n"
          ]
        },
        {
          "output_type": "stream",
          "name": "stderr",
          "text": [
            "에포크 1/1:  36%|███▋      | 62519/172148 [1:19:53<2:12:13, 13.82it/s, loss=4.4801]"
          ]
        },
        {
          "output_type": "stream",
          "name": "stdout",
          "text": [
            "\n",
            "200064 샘플 처리 후, 평균 손실: 4.3985\n"
          ]
        },
        {
          "output_type": "stream",
          "name": "stderr",
          "text": [
            "\n",
            "평가 중:   0%|          | 0/3514 [00:00<?, ?it/s]\u001b[A\n",
            "평가 중:   0%|          | 3/3514 [00:00<02:13, 26.33it/s]\u001b[A\n",
            "평가 중:   0%|          | 6/3514 [00:00<02:11, 26.58it/s]\u001b[A\n",
            "                                                         \u001b[A"
          ]
        },
        {
          "output_type": "stream",
          "name": "stdout",
          "text": [
            "검증 평균 손실: 4.3730, 혼잡도: 79.28\n",
            "generate_text를 사용하여 문맥을 기반으로 텍스트 생성:\n",
            "\n",
            "\n",
            "문맥: Moscow\n",
            "\n",
            "생성된 텍스트: Moscow has been a very stronghold in the United States . '' 's official statement . ' '' he said . ' '' It 's not a `` a good deal '' . '' 's official statement . ' '' he said . ' '' It '\n",
            "\n",
            "문맥: New York\n",
            "\n",
            "생성된 텍스트: New York City Council said the government 's lawsuit is not the case . ' '' It 's not a `` a good deal '' . '' 's official statement . ' '' he said . ' '' It 's not a `` a good deal ''\n",
            "\n",
            "문맥: A hurricane\n",
            "\n",
            "생성된 텍스트: A hurricane is a very strong-class player , '' he said . ' '' he said . ' '' he said . ' '' he said . ' '' he said . ' '' he said . ' '' he said . ' '' he said . ' '' he\n"
          ]
        },
        {
          "output_type": "stream",
          "name": "stderr",
          "text": [
            "에포크 1/1:  36%|███▋      | 62521/172148 [1:19:55<8:23:25,  3.63it/s, loss=4.3989]"
          ]
        },
        {
          "output_type": "stream",
          "name": "stdout",
          "text": [
            "\n",
            "문맥: The President\n",
            "\n",
            "생성된 텍스트: The President 's office said the government has been `` a very good '' . '' 's official statement . ' '' he said . ' '' It 's not a `` a good deal '' . '' 's official statement . ' '' he said . '\n"
          ]
        },
        {
          "output_type": "stream",
          "name": "stderr",
          "text": [
            "에포크 1/1:  37%|███▋      | 64081/172148 [1:21:54<2:13:05, 13.53it/s, loss=4.4171]"
          ]
        },
        {
          "output_type": "stream",
          "name": "stdout",
          "text": [
            "\n",
            "200064 샘플 처리 후, 평균 손실: 4.3949\n"
          ]
        },
        {
          "output_type": "stream",
          "name": "stderr",
          "text": [
            "\n",
            "평가 중:   0%|          | 0/3514 [00:00<?, ?it/s]\u001b[A\n",
            "평가 중:   0%|          | 3/3514 [00:00<02:15, 25.82it/s]\u001b[A\n",
            "평가 중:   0%|          | 6/3514 [00:00<02:25, 24.10it/s]\u001b[A\n",
            "                                                         \u001b[A"
          ]
        },
        {
          "output_type": "stream",
          "name": "stdout",
          "text": [
            "검증 평균 손실: 4.3710, 혼잡도: 79.12\n",
            "generate_text를 사용하여 문맥을 기반으로 텍스트 생성:\n",
            "\n",
            "\n",
            "문맥: Moscow\n",
            "\n",
            "생성된 텍스트: Moscow has been in the UK , which is expected to be announced in the ####s . '' 's `` The Dark '' . '' 's `` The Dark '' . '' 's `` The Dark '' . '' 's `` The Dark '' . ''\n",
            "\n",
            "문맥: New York\n",
            "\n",
            "생성된 텍스트: New York City , the ##-year-old , who was born in the hospital , was arrested in the hospital , where he was arrested in the shooting . ' '' A woman said . ' '' I 'm not sure . ' '' he said . '\n",
            "\n",
            "문맥: A hurricane\n",
            "\n",
            "생성된 텍스트: A hurricane is the first time in the UK , which is expected to be a major issue . '' 's official website . ' '' A statement said . ' '' A statement . ' '' A statement said . ' '' A statement . ' '' A statement said\n"
          ]
        },
        {
          "output_type": "stream",
          "name": "stderr",
          "text": [
            "에포크 1/1:  37%|███▋      | 64085/172148 [1:21:55<6:33:03,  4.58it/s, loss=4.3748]"
          ]
        },
        {
          "output_type": "stream",
          "name": "stdout",
          "text": [
            "\n",
            "문맥: The President\n",
            "\n",
            "생성된 텍스트: The President 's office said the government has been `` a very serious '' lawsuit . ' '' A statement said . ' '' A statement . ' '' A statement said . ' '' A statement . ' '' A statement said . ' '' A statement . '\n"
          ]
        },
        {
          "output_type": "stream",
          "name": "stderr",
          "text": [
            "에포크 1/1:  38%|███▊      | 65645/172148 [1:23:54<2:22:13, 12.48it/s, loss=4.3814]"
          ]
        },
        {
          "output_type": "stream",
          "name": "stdout",
          "text": [
            "\n",
            "200064 샘플 처리 후, 평균 손실: 4.3931\n"
          ]
        },
        {
          "output_type": "stream",
          "name": "stderr",
          "text": [
            "\n",
            "평가 중:   0%|          | 0/3514 [00:00<?, ?it/s]\u001b[A\n",
            "평가 중:   0%|          | 3/3514 [00:00<02:44, 21.28it/s]\u001b[A\n",
            "평가 중:   0%|          | 6/3514 [00:00<02:57, 19.74it/s]\u001b[A\n",
            "                                                         \u001b[A"
          ]
        },
        {
          "output_type": "stream",
          "name": "stdout",
          "text": [
            "검증 평균 손실: 4.3672, 혼잡도: 78.82\n",
            "generate_text를 사용하여 문맥을 기반으로 텍스트 생성:\n",
            "\n",
            "\n",
            "문맥: Moscow\n",
            "\n",
            "생성된 텍스트: Moscow has been a very serious issue of the law . '' said the U.S. military . '' said the U.S. military . '' said the U.S. military . '' said the U.S. military . '' said the U\n",
            "\n",
            "문맥: New York\n",
            "\n",
            "생성된 텍스트: New York City 's first-time winner of the ##-year-old has been charged with murder . ' '' A man who was killed in the attack . ' '' A man who was killed in the attack . ' '' A man who was killed in\n",
            "\n",
            "문맥: A hurricane\n",
            "\n",
            "생성된 텍스트: A hurricane is a small part of the world . '' ' said the U.S. military . '' said the U.S. military . '' said the U.S. military . '' said the U.S. military . '' said the U.\n"
          ]
        },
        {
          "output_type": "stream",
          "name": "stderr",
          "text": [
            "에포크 1/1:  38%|███▊      | 65647/172148 [1:23:56<11:40:43,  2.53it/s, loss=4.2719]"
          ]
        },
        {
          "output_type": "stream",
          "name": "stdout",
          "text": [
            "\n",
            "문맥: The President\n",
            "\n",
            "생성된 텍스트: The President 's first-time governor of the U.S. military has been charged with murder . ' '' A statement said . ' '' A statement . ' '' A statement said . ' '' A statement . ' '' A statement said . ' '' A\n"
          ]
        },
        {
          "output_type": "stream",
          "name": "stderr",
          "text": [
            "에포크 1/1:  39%|███▉      | 67207/172148 [1:25:55<2:05:58, 13.88it/s, loss=4.3591]"
          ]
        },
        {
          "output_type": "stream",
          "name": "stdout",
          "text": [
            "\n",
            "200064 샘플 처리 후, 평균 손실: 4.3893\n"
          ]
        },
        {
          "output_type": "stream",
          "name": "stderr",
          "text": [
            "\n",
            "평가 중:   0%|          | 0/3514 [00:00<?, ?it/s]\u001b[A\n",
            "평가 중:   0%|          | 3/3514 [00:00<02:10, 26.82it/s]\u001b[A\n",
            "평가 중:   0%|          | 6/3514 [00:00<02:09, 27.13it/s]\u001b[A\n",
            "                                                         \u001b[A"
          ]
        },
        {
          "output_type": "stream",
          "name": "stdout",
          "text": [
            "검증 평균 손실: 4.3597, 혼잡도: 78.24\n",
            "generate_text를 사용하여 문맥을 기반으로 텍스트 생성:\n",
            "\n",
            "\n",
            "문맥: Moscow\n",
            "\n",
            "생성된 텍스트: Moscow 's first-time presidential candidate , who has been accused of the government 's decision to be sentenced to ## years in prison . ' '' he said . ' '' he said . ' '' he said . ' '' he said . '\n",
            "\n",
            "문맥: New York\n",
            "\n",
            "생성된 텍스트: New York City Council said the government would not comment on the issue . ' '' he said . ' '' . ' '' he said . ' '' he said . ' '' he said . ' '' he said . ' '' he said . ' '' he said .\n",
            "\n",
            "문맥: A hurricane\n",
            "\n",
            "생성된 텍스트: A hurricane is the first time the government has been in the UK . '' 's official statement said . ' '' . ' '' The . ' I 'm not going to be a good idea . ' '' he said . ' '' he said . ' ''\n"
          ]
        },
        {
          "output_type": "stream",
          "name": "stderr",
          "text": [
            "에포크 1/1:  39%|███▉      | 67211/172148 [1:25:56<6:16:48,  4.64it/s, loss=4.4810]"
          ]
        },
        {
          "output_type": "stream",
          "name": "stdout",
          "text": [
            "\n",
            "문맥: The President\n",
            "\n",
            "생성된 텍스트: The President 's office is not the first time that the country 's government is not the first time . '' 's a statement . ' '' he said . ' '' he said . ' '' he said . ' '' he said . ' '' he said\n"
          ]
        },
        {
          "output_type": "stream",
          "name": "stderr",
          "text": [
            "에포크 1/1:  40%|███▉      | 68771/172148 [1:27:55<2:07:50, 13.48it/s, loss=4.5085]"
          ]
        },
        {
          "output_type": "stream",
          "name": "stdout",
          "text": [
            "\n",
            "200064 샘플 처리 후, 평균 손실: 4.3896\n"
          ]
        },
        {
          "output_type": "stream",
          "name": "stderr",
          "text": [
            "\n",
            "평가 중:   0%|          | 0/3514 [00:00<?, ?it/s]\u001b[A\n",
            "평가 중:   0%|          | 3/3514 [00:00<02:14, 26.02it/s]\u001b[A\n",
            "평가 중:   0%|          | 6/3514 [00:00<02:09, 27.07it/s]\u001b[A\n",
            "                                                         \u001b[A"
          ]
        },
        {
          "output_type": "stream",
          "name": "stdout",
          "text": [
            "검증 평균 손실: 4.3623, 혼잡도: 78.44\n",
            "generate_text를 사용하여 문맥을 기반으로 텍스트 생성:\n",
            "\n",
            "\n",
            "문맥: Moscow\n",
            "\n",
            "생성된 텍스트: Moscow has been in the first place in the ####s . '' 's official news agency said . ' '' he said . ' '' he said . ' '' he said . ' '' he said . ' '' he said . ' '' he said .\n",
            "\n",
            "문맥: New York\n",
            "\n",
            "생성된 텍스트: New York City , the ##-year-old , has been charged with a ##-year-old man who was convicted of murder and a ##-year-old woman in the ##th century . ' '' he said . ' '' he said .\n",
            "\n",
            "문맥: A hurricane\n",
            "\n",
            "생성된 텍스트: A hurricane is a huge part of the world 's most popular tourists . ' '' he said . ' '' he said . ' '' he said . ' '' he said . ' '' he said . ' '' he said . ' '' he said . '\n"
          ]
        },
        {
          "output_type": "stream",
          "name": "stderr",
          "text": [
            "에포크 1/1:  40%|███▉      | 68773/172148 [1:27:57<7:55:59,  3.62it/s, loss=4.3099]"
          ]
        },
        {
          "output_type": "stream",
          "name": "stdout",
          "text": [
            "\n",
            "문맥: The President\n",
            "\n",
            "생성된 텍스트: The President 's office has been charged with a ##-year-old . ' '' he said . ' '' he said . ' '' he said . ' '' he said . ' '' he said . ' '' he said . ' '' he said . '\n"
          ]
        },
        {
          "output_type": "stream",
          "name": "stderr",
          "text": [
            "에포크 1/1:  41%|████      | 70333/172148 [1:29:56<2:04:34, 13.62it/s, loss=4.3534]"
          ]
        },
        {
          "output_type": "stream",
          "name": "stdout",
          "text": [
            "\n",
            "200064 샘플 처리 후, 평균 손실: 4.3859\n"
          ]
        },
        {
          "output_type": "stream",
          "name": "stderr",
          "text": [
            "\n",
            "평가 중:   0%|          | 0/3514 [00:00<?, ?it/s]\u001b[A\n",
            "평가 중:   0%|          | 3/3514 [00:00<02:18, 25.42it/s]\u001b[A\n",
            "평가 중:   0%|          | 6/3514 [00:00<02:22, 24.58it/s]\u001b[A\n",
            "                                                         \u001b[A"
          ]
        },
        {
          "output_type": "stream",
          "name": "stdout",
          "text": [
            "검증 평균 손실: 4.3524, 혼잡도: 77.66\n",
            "generate_text를 사용하여 문맥을 기반으로 텍스트 생성:\n",
            "\n",
            "\n",
            "문맥: Moscow\n",
            "\n",
            "생성된 텍스트: Moscow is a very strong-fire and the government is not the first time . '' 's a statement . '' said . ' '' he said . ' '' he said . ' '' he said . ' '' he said . ' '' he said . '\n",
            "\n",
            "문맥: New York\n",
            "\n",
            "생성된 텍스트: New York City Police said the suspects were arrested in the attack . ' '' A woman said . ' '' A woman 's mother , who was born in #### . ' . ' '' he said . ' '' he said . ' '' he said . '\n",
            "\n",
            "문맥: A hurricane\n",
            "\n",
            "생성된 텍스트: A hurricane was found in the area of the area . '' said the ##-year-old . ' '' A woman 's mother , who was born in #### . ' . ' '' he said . ' '' he said . ' '' he said . '\n"
          ]
        },
        {
          "output_type": "stream",
          "name": "stderr",
          "text": [
            "에포크 1/1:  41%|████      | 70337/172148 [1:29:57<6:07:33,  4.62it/s, loss=4.2390]"
          ]
        },
        {
          "output_type": "stream",
          "name": "stdout",
          "text": [
            "\n",
            "문맥: The President\n",
            "\n",
            "생성된 텍스트: The President 's office said the government is not the case . '' 's official statement said . ' '' CNN 's Katie . ' '' A statement said . ' '' CNN 's Katie . ' . ' '' he said . ' '' he\n"
          ]
        },
        {
          "output_type": "stream",
          "name": "stderr",
          "text": [
            "에포크 1/1:  42%|████▏     | 71897/172148 [1:31:56<2:27:09, 11.35it/s, loss=4.3535]"
          ]
        },
        {
          "output_type": "stream",
          "name": "stdout",
          "text": [
            "\n",
            "200064 샘플 처리 후, 평균 손실: 4.3836\n"
          ]
        },
        {
          "output_type": "stream",
          "name": "stderr",
          "text": [
            "\n",
            "평가 중:   0%|          | 0/3514 [00:00<?, ?it/s]\u001b[A\n",
            "평가 중:   0%|          | 2/3514 [00:00<03:13, 18.19it/s]\u001b[A\n",
            "평가 중:   0%|          | 4/3514 [00:00<03:10, 18.44it/s]\u001b[A\n",
            "평가 중:   0%|          | 6/3514 [00:00<03:12, 18.21it/s]\u001b[A\n",
            "                                                         \u001b[A"
          ]
        },
        {
          "output_type": "stream",
          "name": "stdout",
          "text": [
            "검증 평균 손실: 4.3600, 혼잡도: 78.26\n",
            "generate_text를 사용하여 문맥을 기반으로 텍스트 생성:\n",
            "\n",
            "\n",
            "문맥: Moscow\n",
            "\n",
            "생성된 텍스트: Moscow is also a key part of the country 's most popularity of the world . '' 's official website . ' '' he said . ' '' he said . ' '' he said . ' '' he said . ' '' he said . ' ''\n",
            "\n",
            "문맥: New York\n",
            "\n",
            "생성된 텍스트: New York City 's #-# draw is the first time the ##-year-old is a good player . '' 's official statement said . ' '' he said . ' '' he said . ' '' he said . ' '' he said . '\n",
            "\n",
            "문맥: A hurricane\n",
            "\n",
            "생성된 텍스트: A hurricane is a small part of the world . '' 's official statement said . ' '' he said . ' '' he said . ' '' he said . ' '' he said . ' '' he said . ' '' he said . ' '' he said .\n"
          ]
        },
        {
          "output_type": "stream",
          "name": "stderr",
          "text": [
            "에포크 1/1:  42%|████▏     | 71899/172148 [1:31:58<8:33:42,  3.25it/s, loss=4.4877]"
          ]
        },
        {
          "output_type": "stream",
          "name": "stdout",
          "text": [
            "\n",
            "문맥: The President\n",
            "\n",
            "생성된 텍스트: The President 's most recent protesters were killed in the attack . '' said the ##-year-old . ' '' he said . ' '' he said . ' '' he said . ' '' he said . ' '' he said . ' '' he said\n"
          ]
        },
        {
          "output_type": "stream",
          "name": "stderr",
          "text": [
            "에포크 1/1:  43%|████▎     | 73459/172148 [1:33:57<2:07:09, 12.93it/s, loss=4.3855]"
          ]
        },
        {
          "output_type": "stream",
          "name": "stdout",
          "text": [
            "\n",
            "200064 샘플 처리 후, 평균 손실: 4.3821\n"
          ]
        },
        {
          "output_type": "stream",
          "name": "stderr",
          "text": [
            "\n",
            "평가 중:   0%|          | 0/3514 [00:00<?, ?it/s]\u001b[A\n",
            "평가 중:   0%|          | 2/3514 [00:00<02:57, 19.81it/s]\u001b[A\n",
            "평가 중:   0%|          | 4/3514 [00:00<02:59, 19.54it/s]\u001b[A\n",
            "평가 중:   0%|          | 7/3514 [00:00<02:46, 21.11it/s]\u001b[A\n",
            "                                                         \u001b[A"
          ]
        },
        {
          "output_type": "stream",
          "name": "stdout",
          "text": [
            "검증 평균 손실: 4.3588, 혼잡도: 78.16\n",
            "generate_text를 사용하여 문맥을 기반으로 텍스트 생성:\n",
            "\n",
            "\n",
            "문맥: Moscow\n",
            "\n",
            "생성된 텍스트: Moscow has been in the midst of a new deal with the U.S. and the government has been in the UK . '' 's official website said . ' '' A statement . ' '' Wenger said . ' '' he said . ' '' she\n",
            "\n",
            "문맥: New York\n",
            "\n",
            "생성된 텍스트: New York City 's first-time winner of the game is a good player . '' 's a statement said . ' '' he said . ' I 'm not going to be a good thing . ' '' he said . ' '' she said . '\n",
            "\n",
            "문맥: A hurricane\n",
            "\n",
            "생성된 텍스트: A hurricane is a huge part of the world 's most popularity . '' 's official statement said . ' '' Wenger . ' '' Wenger . ' '' Wenger said . ' '' he said . ' '' he said . ' I 'm\n"
          ]
        },
        {
          "output_type": "stream",
          "name": "stderr",
          "text": [
            "에포크 1/1:  43%|████▎     | 73462/172148 [1:33:59<8:44:35,  3.14it/s, loss=4.2836] "
          ]
        },
        {
          "output_type": "stream",
          "name": "stdout",
          "text": [
            "\n",
            "문맥: The President\n",
            "\n",
            "생성된 텍스트: The President 's first-choice defender was in the first half . ' '' Wenger said . ' '' he said . ' '' he said . ' I 'm not the first time . ' '' she said . ' I 'm not the first\n"
          ]
        },
        {
          "output_type": "stream",
          "name": "stderr",
          "text": [
            "에포크 1/1:  44%|████▎     | 75023/172148 [1:35:58<1:58:33, 13.65it/s, loss=4.3633]"
          ]
        },
        {
          "output_type": "stream",
          "name": "stdout",
          "text": [
            "\n",
            "200064 샘플 처리 후, 평균 손실: 4.3787\n"
          ]
        },
        {
          "output_type": "stream",
          "name": "stderr",
          "text": [
            "\n",
            "평가 중:   0%|          | 0/3514 [00:00<?, ?it/s]\u001b[A\n",
            "평가 중:   0%|          | 3/3514 [00:00<02:17, 25.52it/s]\u001b[A\n",
            "평가 중:   0%|          | 6/3514 [00:00<02:14, 26.13it/s]\u001b[A\n",
            "                                                         \u001b[A"
          ]
        },
        {
          "output_type": "stream",
          "name": "stdout",
          "text": [
            "검증 평균 손실: 4.3472, 혼잡도: 77.26\n",
            "generate_text를 사용하여 문맥을 기반으로 텍스트 생성:\n",
            "\n",
            "\n",
            "문맥: Moscow\n",
            "\n",
            "생성된 텍스트: Moscow has been in the country 's largest cities in the country . '' 's official statement said . ' '' CNN 's Katie . ' '' CNN 's Katie . ' '' CNN 's Katie . ' '' CNN 's K\n",
            "\n",
            "문맥: New York\n",
            "\n",
            "생성된 텍스트: New York City 's first-team coach , who has been in the country , is the first time in the United States . '' 's official statement said . ' '' CNN 's Katie . ' '' CNN 's Katie . ' '' CNN\n",
            "\n",
            "문맥: A hurricane\n",
            "\n",
            "생성된 텍스트: A hurricane is a small , and the most expensive . ' '' The ##-year-old was found dead in the crash . ' '' she said . ' I 'm not a member of the family . ' '' she said . ' I 'm not\n"
          ]
        },
        {
          "output_type": "stream",
          "name": "stderr",
          "text": [
            "에포크 1/1:  44%|████▎     | 75025/172148 [1:35:59<7:30:12,  3.60it/s, loss=4.3071]"
          ]
        },
        {
          "output_type": "stream",
          "name": "stdout",
          "text": [
            "\n",
            "문맥: The President\n",
            "\n",
            "생성된 텍스트: The President 's office said the government has been a `` very serious '' . '' 's official statement said . ' '' CNN 's Katie . ' '' CNN 's Katie . ' '' CNN 's Katie . ' '' CNN 's\n"
          ]
        },
        {
          "output_type": "stream",
          "name": "stderr",
          "text": [
            "에포크 1/1:  44%|████▍     | 76585/172148 [1:37:58<1:54:32, 13.90it/s, loss=4.2892]"
          ]
        },
        {
          "output_type": "stream",
          "name": "stdout",
          "text": [
            "\n",
            "200064 샘플 처리 후, 평균 손실: 4.3767\n"
          ]
        },
        {
          "output_type": "stream",
          "name": "stderr",
          "text": [
            "\n",
            "평가 중:   0%|          | 0/3514 [00:00<?, ?it/s]\u001b[A\n",
            "평가 중:   0%|          | 3/3514 [00:00<02:13, 26.20it/s]\u001b[A\n",
            "평가 중:   0%|          | 6/3514 [00:00<02:23, 24.51it/s]\u001b[A\n",
            "                                                         \u001b[A"
          ]
        },
        {
          "output_type": "stream",
          "name": "stdout",
          "text": [
            "검증 평균 손실: 4.3536, 혼잡도: 77.76\n",
            "generate_text를 사용하여 문맥을 기반으로 텍스트 생성:\n",
            "\n",
            "\n",
            "문맥: Moscow\n",
            "\n",
            "생성된 텍스트: Moscow has been in the midst of a ##-year-old , who was in the first half . ' '' The ##-year-old was arrested in #### . ' '' The ##-year-old girl was killed in a car . ' ''\n",
            "\n",
            "문맥: New York\n",
            "\n",
            "생성된 텍스트: New York City 's first-half was a bit of a good game . '' 's a statement . ' '' he said . ' '' The . ' I 'm not sure . ' '' he said . ' '' The . ' I 'm not\n",
            "\n",
            "문맥: A hurricane\n",
            "\n",
            "생성된 텍스트: A hurricane is a very good man . '' 's a statement . ' '' said . ' '' The . ' I 'm not sure . ' '' he said . ' '' The . ' I 'm not sure . ' '' he said . ' ''\n"
          ]
        },
        {
          "output_type": "stream",
          "name": "stderr",
          "text": [
            "에포크 1/1:  44%|████▍     | 76589/172148 [1:38:00<5:43:49,  4.63it/s, loss=4.3234]"
          ]
        },
        {
          "output_type": "stream",
          "name": "stdout",
          "text": [
            "\n",
            "문맥: The President\n",
            "\n",
            "생성된 텍스트: The President 's ##-year-old son was killed in the attack . ' '' The ##-year-old girl was killed in a car . ' '' A man was killed in a car . ' '' A man was killed in a car . '\n"
          ]
        },
        {
          "output_type": "stream",
          "name": "stderr",
          "text": [
            "에포크 1/1:  45%|████▌     | 78149/172148 [1:39:59<1:54:07, 13.73it/s, loss=4.3539]"
          ]
        },
        {
          "output_type": "stream",
          "name": "stdout",
          "text": [
            "\n",
            "200064 샘플 처리 후, 평균 손실: 4.3851\n"
          ]
        },
        {
          "output_type": "stream",
          "name": "stderr",
          "text": [
            "\n",
            "평가 중:   0%|          | 0/3514 [00:00<?, ?it/s]\u001b[A\n",
            "평가 중:   0%|          | 3/3514 [00:00<02:17, 25.60it/s]\u001b[A\n",
            "평가 중:   0%|          | 6/3514 [00:00<02:14, 26.06it/s]\u001b[A\n",
            "                                                         \u001b[A"
          ]
        },
        {
          "output_type": "stream",
          "name": "stdout",
          "text": [
            "검증 평균 손실: 4.3479, 혼잡도: 77.32\n",
            "generate_text를 사용하여 문맥을 기반으로 텍스트 생성:\n",
            "\n",
            "\n",
            "문맥: Moscow\n",
            "\n",
            "생성된 텍스트: Moscow 's first-team coach , who has been in the Premier League , the ##-year-old has been in the Premier League , the ##-year-old man was shot in the second half . ' '' he said . ' '' he\n",
            "\n",
            "문맥: New York\n",
            "\n",
            "생성된 텍스트: New York City Council said the government 's investigation is not the case . ' '' he said . ' '' he said . ' '' he said . ' '' he said . ' '' he said . ' '' he said . ' '' he said . ' ''\n",
            "\n",
            "문맥: A hurricane\n",
            "\n",
            "생성된 텍스트: A hurricane is a huge amount of time to be a .### . '' 's official statement said . ' '' he said . ' '' he said . ' '' he said . ' '' he said . ' '' he said . ' '' he said .\n"
          ]
        },
        {
          "output_type": "stream",
          "name": "stderr",
          "text": [
            "에포크 1/1:  45%|████▌     | 78151/172148 [1:40:01<7:15:10,  3.60it/s, loss=4.4619]"
          ]
        },
        {
          "output_type": "stream",
          "name": "stdout",
          "text": [
            "\n",
            "문맥: The President\n",
            "\n",
            "생성된 텍스트: The President 's first-team coach , who has been in the Premier League , the ##-year-old has been in the Premier League , the ##-year-old man was shot in the second half . ' '' he said . ' '' he\n"
          ]
        },
        {
          "output_type": "stream",
          "name": "stderr",
          "text": [
            "에포크 1/1:  46%|████▋     | 79711/172148 [1:42:00<2:15:24, 11.38it/s, loss=4.3674]"
          ]
        },
        {
          "output_type": "stream",
          "name": "stdout",
          "text": [
            "\n",
            "200064 샘플 처리 후, 평균 손실: 4.3717\n"
          ]
        },
        {
          "output_type": "stream",
          "name": "stderr",
          "text": [
            "\n",
            "평가 중:   0%|          | 0/3514 [00:00<?, ?it/s]\u001b[A\n",
            "평가 중:   0%|          | 2/3514 [00:00<03:04, 19.02it/s]\u001b[A\n",
            "평가 중:   0%|          | 4/3514 [00:00<03:10, 18.43it/s]\u001b[A\n",
            "평가 중:   0%|          | 6/3514 [00:00<03:21, 17.39it/s]\u001b[A\n",
            "                                                         \u001b[A"
          ]
        },
        {
          "output_type": "stream",
          "name": "stdout",
          "text": [
            "검증 평균 손실: 4.3439, 혼잡도: 77.01\n",
            "generate_text를 사용하여 문맥을 기반으로 텍스트 생성:\n",
            "\n",
            "\n",
            "문맥: Moscow\n",
            "\n",
            "생성된 텍스트: Moscow 's former teammate , who was in the United States , said the ##-year-old was a `` a great deal '' . ' '' he said . ' '' he said . ' '' he said . ' '' he said . ' ''\n",
            "\n",
            "문맥: New York\n",
            "\n",
            "생성된 텍스트: New York City Council said the government would not be able to return to the UK . ' '' A .### . ' '' A statement said . ' '' he said . ' '' he said . ' '' he said . ' '' he said . ' ''\n",
            "\n",
            "문맥: A hurricane\n",
            "\n",
            "생성된 텍스트: A hurricane is a small part of the world 's most popular . ' '' A ##-year-old man was shot dead . ' 'It was a great deal . ' '' he said . ' '' he said . ' '' he said . ' ''\n"
          ]
        },
        {
          "output_type": "stream",
          "name": "stderr",
          "text": [
            "에포크 1/1:  46%|████▋     | 79715/172148 [1:42:02<6:14:15,  4.12it/s, loss=4.3829]"
          ]
        },
        {
          "output_type": "stream",
          "name": "stdout",
          "text": [
            "\n",
            "문맥: The President\n",
            "\n",
            "생성된 텍스트: The Presidential campaign has been a `` very important issue '' . ' '' he said . ' '' he said . ' '' he said . ' '' he said . ' '' he said . ' '' he said . ' '' he said . ' '' he said\n"
          ]
        },
        {
          "output_type": "stream",
          "name": "stderr",
          "text": [
            "에포크 1/1:  47%|████▋     | 81275/172148 [1:44:01<2:05:31, 12.07it/s, loss=4.3041]"
          ]
        },
        {
          "output_type": "stream",
          "name": "stdout",
          "text": [
            "\n",
            "200064 샘플 처리 후, 평균 손실: 4.3723\n"
          ]
        },
        {
          "output_type": "stream",
          "name": "stderr",
          "text": [
            "\n",
            "평가 중:   0%|          | 0/3514 [00:00<?, ?it/s]\u001b[A\n",
            "평가 중:   0%|          | 3/3514 [00:00<02:41, 21.69it/s]\u001b[A\n",
            "평가 중:   0%|          | 6/3514 [00:00<02:48, 20.83it/s]\u001b[A\n",
            "                                                         \u001b[A"
          ]
        },
        {
          "output_type": "stream",
          "name": "stdout",
          "text": [
            "검증 평균 손실: 4.3415, 혼잡도: 76.82\n",
            "generate_text를 사용하여 문맥을 기반으로 텍스트 생성:\n",
            "\n",
            "\n",
            "문맥: Moscow\n",
            "\n",
            "생성된 텍스트: Moscow has been a `` significant amount of money '' to the public . ' '' he said . ' '' he said . ' '' he said . ' '' he said . ' '' `` We are not going to be able to do . '' 's a\n",
            "\n",
            "문맥: New York\n",
            "\n",
            "생성된 텍스트: New York City Police Chief Inspector John Hunt said : 'The next day , the man was a bit of a lot of people . ' '' I 'm not a member of the public . ' '' he said . ' '' he said . '\n",
            "\n",
            "문맥: A hurricane\n",
            "\n",
            "생성된 텍스트: A hurricane is a <rare> , which is the most popular with the world . '' 'We are not going to be able to do . '' 's a statement . ' '' he said . ' '' he said . ' '' he said . ' ''\n"
          ]
        },
        {
          "output_type": "stream",
          "name": "stderr",
          "text": [
            "에포크 1/1:  47%|████▋     | 81277/172148 [1:44:04<9:38:08,  2.62it/s, loss=4.4423]"
          ]
        },
        {
          "output_type": "stream",
          "name": "stdout",
          "text": [
            "\n",
            "문맥: The President\n",
            "\n",
            "생성된 텍스트: The President 's decision to take the decision to take the decision to take the decision to take the decision to take the decision to take the decision to take the decision to take the action . '' 'We are not going to be able to do . '' '\n"
          ]
        },
        {
          "output_type": "stream",
          "name": "stderr",
          "text": [
            "에포크 1/1:  48%|████▊     | 82837/172148 [1:46:03<1:51:23, 13.36it/s, loss=4.3446]"
          ]
        },
        {
          "output_type": "stream",
          "name": "stdout",
          "text": [
            "\n",
            "200064 샘플 처리 후, 평균 손실: 4.3687\n"
          ]
        },
        {
          "output_type": "stream",
          "name": "stderr",
          "text": [
            "\n",
            "평가 중:   0%|          | 0/3514 [00:00<?, ?it/s]\u001b[A\n",
            "평가 중:   0%|          | 3/3514 [00:00<02:19, 25.19it/s]\u001b[A\n",
            "평가 중:   0%|          | 6/3514 [00:00<02:16, 25.61it/s]\u001b[A\n",
            "                                                         \u001b[A"
          ]
        },
        {
          "output_type": "stream",
          "name": "stdout",
          "text": [
            "검증 평균 손실: 4.3445, 혼잡도: 77.06\n",
            "generate_text를 사용하여 문맥을 기반으로 텍스트 생성:\n",
            "\n",
            "\n",
            "문맥: Moscow\n",
            "\n",
            "생성된 텍스트: Moscow has been a very strong-thinking in the world . '' 's a statement . '' said . ' '' A spokesman for the U.S. Department of Justice said the .##-caliber gunman 's death . '\n",
            "\n",
            "문맥: New York\n",
            "\n",
            "생성된 텍스트: New York City , the ##-year-old , was arrested in #### , and the ##-year-old was arrested in #### . ' 'The first time he was taken to hospital . ' '' A spokesman for the U.S. Department\n",
            "\n",
            "문맥: A hurricane\n",
            "\n",
            "생성된 텍스트: A hurricane is a huge blow to the world . ' '' A spokesman said . ' '' A spokesman for the U.S. Department of Justice said the investigation was `` a very good thing . '' 's a statement . '' `` I\n"
          ]
        },
        {
          "output_type": "stream",
          "name": "stderr",
          "text": [
            "에포크 1/1:  48%|████▊     | 82841/172148 [1:46:05<5:43:45,  4.33it/s, loss=4.4378]"
          ]
        },
        {
          "output_type": "stream",
          "name": "stdout",
          "text": [
            "\n",
            "문맥: The President\n",
            "\n",
            "생성된 텍스트: The President 's office is not a good thing . '' 's a statement . '' `` I 'm not a good person . ' '' he said . ' '' he said . ' '' I 'm not a good person . ' '' he said .\n"
          ]
        },
        {
          "output_type": "stream",
          "name": "stderr",
          "text": [
            "에포크 1/1:  49%|████▉     | 84401/172148 [1:48:05<1:45:53, 13.81it/s, loss=4.5031]"
          ]
        },
        {
          "output_type": "stream",
          "name": "stdout",
          "text": [
            "\n",
            "200064 샘플 처리 후, 평균 손실: 4.3662\n"
          ]
        },
        {
          "output_type": "stream",
          "name": "stderr",
          "text": [
            "\n",
            "평가 중:   0%|          | 0/3514 [00:00<?, ?it/s]\u001b[A\n",
            "평가 중:   0%|          | 3/3514 [00:00<02:18, 25.40it/s]\u001b[A\n",
            "평가 중:   0%|          | 6/3514 [00:00<02:12, 26.39it/s]\u001b[A\n",
            "                                                         \u001b[A"
          ]
        },
        {
          "output_type": "stream",
          "name": "stdout",
          "text": [
            "검증 평균 손실: 4.3388, 혼잡도: 76.62\n",
            "generate_text를 사용하여 문맥을 기반으로 텍스트 생성:\n",
            "\n",
            "\n",
            "문맥: Moscow\n",
            "\n",
            "생성된 텍스트: Moscow has been a very least for the first time , '' he said . '## . ' '' The report said . '## . ' '' The report said . '## . ' '' The report said . '## . ' '' The report said .\n",
            "\n",
            "문맥: New York\n",
            "\n",
            "생성된 텍스트: New York City Council said the ##-year-old was arrested in the ####s . '## . '## . '## . ' '' The report said . '## . ' '' The report said . '## . ' '' The report said . '\n",
            "\n",
            "문맥: A hurricane\n",
            "\n",
            "생성된 텍스트: A hurricane is the first time the ##-year-old has been charged with the murder of the ##-year-old , who was arrested in the ####s . ' '' The court heard . ' ' I 'm not a good person . ' ''\n"
          ]
        },
        {
          "output_type": "stream",
          "name": "stderr",
          "text": [
            "에포크 1/1:  49%|████▉     | 84403/172148 [1:48:06<6:44:19,  3.62it/s, loss=4.2728]"
          ]
        },
        {
          "output_type": "stream",
          "name": "stdout",
          "text": [
            "\n",
            "문맥: The President\n",
            "\n",
            "생성된 텍스트: The President 's office said the report was `` a very serious '' and `` unacceptable '' and `` the most important thing , '' he said . ' '' It 's a `` very sad day '' . ' '' The report said . '## .\n"
          ]
        },
        {
          "output_type": "stream",
          "name": "stderr",
          "text": [
            "에포크 1/1:  50%|████▉     | 85963/172148 [1:50:06<1:43:50, 13.83it/s, loss=4.3612]"
          ]
        },
        {
          "output_type": "stream",
          "name": "stdout",
          "text": [
            "\n",
            "200064 샘플 처리 후, 평균 손실: 4.3667\n"
          ]
        },
        {
          "output_type": "stream",
          "name": "stderr",
          "text": [
            "\n",
            "평가 중:   0%|          | 0/3514 [00:00<?, ?it/s]\u001b[A\n",
            "평가 중:   0%|          | 3/3514 [00:00<02:35, 22.63it/s]\u001b[A\n",
            "평가 중:   0%|          | 6/3514 [00:00<02:19, 25.18it/s]\u001b[A\n",
            "                                                         \u001b[A"
          ]
        },
        {
          "output_type": "stream",
          "name": "stdout",
          "text": [
            "검증 평균 손실: 4.3457, 혼잡도: 77.14\n",
            "generate_text를 사용하여 문맥을 기반으로 텍스트 생성:\n",
            "\n",
            "\n",
            "문맥: Moscow\n",
            "\n",
            "생성된 텍스트: Moscow is now in the midst of a war in the world . '' 's #.# million . ' '' The FBI said . '## . '' 'We 're looking for the . ' I 'm going to be a great . ''\n",
            "\n",
            "문맥: New York\n",
            "\n",
            "생성된 텍스트: New York City Council said the `` <rare> '' is a `` a very good player '' . '' ' I 'm going to be a good player . '' ' I 'm going to be a good player . '' ' I 'm going to be\n",
            "\n",
            "문맥: A hurricane\n",
            "\n",
            "생성된 텍스트: A hurricane was found in the area , which is now in the area . ' '' The report said . '## . ' '' The statement said . '## . '' 'We 're not going to be a great example of the world . '' 's\n"
          ]
        },
        {
          "output_type": "stream",
          "name": "stderr",
          "text": [
            "에포크 1/1:  50%|████▉     | 85967/172148 [1:50:08<5:13:39,  4.58it/s, loss=4.3763]"
          ]
        },
        {
          "output_type": "stream",
          "name": "stdout",
          "text": [
            "\n",
            "문맥: The President\n",
            "\n",
            "생성된 텍스트: The President 's first-rounder was the first to be held in the Premier League . '' 's #-# defeat . '' 's a statement . ' '' said the . ' I 'm sure . '' ' I 'm not going to\n"
          ]
        },
        {
          "output_type": "stream",
          "name": "stderr",
          "text": [
            "에포크 1/1:  51%|█████     | 87527/172148 [1:52:08<1:43:56, 13.57it/s, loss=4.3917]"
          ]
        },
        {
          "output_type": "stream",
          "name": "stdout",
          "text": [
            "\n",
            "200064 샘플 처리 후, 평균 손실: 4.3647\n"
          ]
        },
        {
          "output_type": "stream",
          "name": "stderr",
          "text": [
            "\n",
            "평가 중:   0%|          | 0/3514 [00:00<?, ?it/s]\u001b[A\n",
            "평가 중:   0%|          | 3/3514 [00:00<02:16, 25.65it/s]\u001b[A\n",
            "평가 중:   0%|          | 6/3514 [00:00<02:11, 26.65it/s]\u001b[A\n",
            "                                                         \u001b[A"
          ]
        },
        {
          "output_type": "stream",
          "name": "stdout",
          "text": [
            "검증 평균 손실: 4.3373, 혼잡도: 76.50\n",
            "generate_text를 사용하여 문맥을 기반으로 텍스트 생성:\n",
            "\n",
            "\n",
            "문맥: Moscow\n",
            "\n",
            "생성된 텍스트: Moscow has been in the first of the ##th anniversary of the ####s . '' 's #-#-#-#-#-#-#-#-#-#-#-#-#-#-#-#\n",
            "\n",
            "문맥: New York\n",
            "\n",
            "생성된 텍스트: New York City 's #-# win over the next ## minutes . ' '' It 's a big part of the game . '' 's a statement . ' '' said . '## . ' '' he said . '## . ' '' he said\n",
            "\n",
            "문맥: A hurricane\n",
            "\n",
            "생성된 텍스트: A hurricane is not the first time in the past year . ' '' It 's a `` very good thing . '' 's a statement . '' 's a statement . ' '' said . '## . '## . ' '' said . '## .\n"
          ]
        },
        {
          "output_type": "stream",
          "name": "stderr",
          "text": [
            "에포크 1/1:  51%|█████     | 87529/172148 [1:52:09<6:33:54,  3.58it/s, loss=4.4360]"
          ]
        },
        {
          "output_type": "stream",
          "name": "stdout",
          "text": [
            "\n",
            "문맥: The President\n",
            "\n",
            "생성된 텍스트: The President 's office has been a major part of the EU , which has been a major factor in the past year . '' 's #.# % . '' 's #.# million . '### . '' 's #.# %\n"
          ]
        },
        {
          "output_type": "stream",
          "name": "stderr",
          "text": [
            "에포크 1/1:  52%|█████▏    | 89089/172148 [1:54:09<1:59:57, 11.54it/s, loss=4.3522]"
          ]
        },
        {
          "output_type": "stream",
          "name": "stdout",
          "text": [
            "\n",
            "200064 샘플 처리 후, 평균 손실: 4.3624\n"
          ]
        },
        {
          "output_type": "stream",
          "name": "stderr",
          "text": [
            "\n",
            "평가 중:   0%|          | 0/3514 [00:00<?, ?it/s]\u001b[A\n",
            "평가 중:   0%|          | 3/3514 [00:00<02:18, 25.37it/s]\u001b[A\n",
            "평가 중:   0%|          | 6/3514 [00:00<02:14, 26.04it/s]\u001b[A\n",
            "                                                         \u001b[A"
          ]
        },
        {
          "output_type": "stream",
          "name": "stdout",
          "text": [
            "검증 평균 손실: 4.3285, 혼잡도: 75.83\n",
            "generate_text를 사용하여 문맥을 기반으로 텍스트 생성:\n",
            "\n",
            "\n",
            "문맥: Moscow\n",
            "\n",
            "생성된 텍스트: Moscow 's most recent report , which is expected to be a `` very important step '' to the UK 's most important . '' 's a new . '' `` I 'm not sure . '' 's a statement . '' said . '##\n",
            "\n",
            "문맥: New York\n",
            "\n",
            "생성된 텍스트: New York City Council said the `` no-one '' is a `` a very good '' . '' 's a statement . '' said the statement said . '## . '' 's a statement . ' '' said . '## . '' 's a statement\n",
            "\n",
            "문맥: A hurricane\n",
            "\n",
            "생성된 텍스트: A hurricane , the ##-year-old has been charged with ## counts of murder . ' 'He was a good person . ' '' he said . '## . '## . '' 's a statement . ' '' he said . '## . '\n"
          ]
        },
        {
          "output_type": "stream",
          "name": "stderr",
          "text": [
            "에포크 1/1:  52%|█████▏    | 89093/172148 [1:54:11<5:11:36,  4.44it/s, loss=4.4246]"
          ]
        },
        {
          "output_type": "stream",
          "name": "stdout",
          "text": [
            "\n",
            "문맥: The President\n",
            "\n",
            "생성된 텍스트: The President 's ##-year-old son was in the first half of the two men in the UK . ' '' he said . '## . '## . '' 's a statement . ' '' he said . '## . '## . ''\n"
          ]
        },
        {
          "output_type": "stream",
          "name": "stderr",
          "text": [
            "에포크 1/1:  53%|█████▎    | 90653/172148 [1:56:11<1:51:12, 12.21it/s, loss=4.2918]"
          ]
        },
        {
          "output_type": "stream",
          "name": "stdout",
          "text": [
            "\n",
            "200064 샘플 처리 후, 평균 손실: 4.3629\n"
          ]
        },
        {
          "output_type": "stream",
          "name": "stderr",
          "text": [
            "\n",
            "평가 중:   0%|          | 0/3514 [00:00<?, ?it/s]\u001b[A\n",
            "평가 중:   0%|          | 3/3514 [00:00<02:38, 22.09it/s]\u001b[A\n",
            "평가 중:   0%|          | 6/3514 [00:00<02:36, 22.39it/s]\u001b[A\n",
            "                                                         \u001b[A"
          ]
        },
        {
          "output_type": "stream",
          "name": "stdout",
          "text": [
            "검증 평균 손실: 4.3274, 혼잡도: 75.75\n",
            "generate_text를 사용하여 문맥을 기반으로 텍스트 생성:\n",
            "\n",
            "\n",
            "문맥: Moscow\n",
            "\n",
            "생성된 텍스트: Moscow 's newesthetics committee is the first time to see the first time to be the first time . '' 's a statement . ' '' said the official . ' '' It 's not a `` significant threat '' . '' 's a\n",
            "\n",
            "문맥: New York\n",
            "\n",
            "생성된 텍스트: New York City 's <rare> , which is the first time , the ##-year-old is a big fan of the club . '' 's a statement . ' '' he said . ' '' I 'm not going to be a good thing\n",
            "\n",
            "문맥: A hurricane\n",
            "\n",
            "생성된 텍스트: A hurricane is the first time to see the first time the ##-year-old man was arrested in the ####s . ' '' It was a `` a 'momenting '' of the `` a ' '' of the `` a ' '' of the ``\n"
          ]
        },
        {
          "output_type": "stream",
          "name": "stderr",
          "text": [
            "에포크 1/1:  53%|█████▎    | 90655/172148 [1:56:13<8:55:58,  2.53it/s, loss=4.3061]"
          ]
        },
        {
          "output_type": "stream",
          "name": "stdout",
          "text": [
            "\n",
            "문맥: The President\n",
            "\n",
            "생성된 텍스트: The President 's office is now the first time to see the first time to be the first time . '' 's a statement . ' '' said the official . ' '' It 's not a `` significant threat '' . '' 's a statement . '\n"
          ]
        },
        {
          "output_type": "stream",
          "name": "stderr",
          "text": [
            "에포크 1/1:  54%|█████▎    | 92215/172148 [1:58:12<1:37:02, 13.73it/s, loss=4.3411]"
          ]
        },
        {
          "output_type": "stream",
          "name": "stdout",
          "text": [
            "\n",
            "200064 샘플 처리 후, 평균 손실: 4.3592\n"
          ]
        },
        {
          "output_type": "stream",
          "name": "stderr",
          "text": [
            "\n",
            "평가 중:   0%|          | 0/3514 [00:00<?, ?it/s]\u001b[A\n",
            "평가 중:   0%|          | 3/3514 [00:00<02:15, 25.90it/s]\u001b[A\n",
            "평가 중:   0%|          | 6/3514 [00:00<02:11, 26.67it/s]\u001b[A\n",
            "                                                         \u001b[A"
          ]
        },
        {
          "output_type": "stream",
          "name": "stdout",
          "text": [
            "검증 평균 손실: 4.3347, 혼잡도: 76.30\n",
            "generate_text를 사용하여 문맥을 기반으로 텍스트 생성:\n",
            "\n",
            "\n",
            "문맥: Moscow\n",
            "\n",
            "생성된 텍스트: Moscow 's chief executive of the National Association of Human Rights Watch said the government has been a `` significant amount of evidence of the case '' . ' '' It 's a `` <rare> '' . ' '' It 's a `` <rare>\n",
            "\n",
            "문맥: New York\n",
            "\n",
            "생성된 텍스트: New York City , the company , said : 'The first time we have to be able to get the ball . '' 's a .### . '' 's a .### . '' 's a .### . '' 's a .\n",
            "\n",
            "문맥: A hurricane\n",
            "\n",
            "생성된 텍스트: A hurricane , the ##-year-old was a ##-year-old man , who was killed in the attack . ' '' It 's a `` <rare> '' . ' '' It 's a `` <rare> '' . '' 'We\n"
          ]
        },
        {
          "output_type": "stream",
          "name": "stderr",
          "text": [
            "에포크 1/1:  54%|█████▎    | 92219/172148 [1:58:14<4:50:53,  4.58it/s, loss=4.3256]"
          ]
        },
        {
          "output_type": "stream",
          "name": "stdout",
          "text": [
            "\n",
            "문맥: The President\n",
            "\n",
            "생성된 텍스트: The President 's office said the government has been a `` significant amount of evidence of the case '' . ' '' It 's a `` <rare> '' . ' '' It 's a `` <rare> '' . '' 'We 're not going\n"
          ]
        },
        {
          "output_type": "stream",
          "name": "stderr",
          "text": [
            "에포크 1/1:  54%|█████▍    | 93779/172148 [2:00:13<1:36:32, 13.53it/s, loss=4.3582]"
          ]
        },
        {
          "output_type": "stream",
          "name": "stdout",
          "text": [
            "\n",
            "200064 샘플 처리 후, 평균 손실: 4.3571\n"
          ]
        },
        {
          "output_type": "stream",
          "name": "stderr",
          "text": [
            "\n",
            "평가 중:   0%|          | 0/3514 [00:00<?, ?it/s]\u001b[A\n",
            "평가 중:   0%|          | 3/3514 [00:00<02:18, 25.34it/s]\u001b[A\n",
            "평가 중:   0%|          | 6/3514 [00:00<02:18, 25.39it/s]\u001b[A\n",
            "                                                         \u001b[A"
          ]
        },
        {
          "output_type": "stream",
          "name": "stdout",
          "text": [
            "검증 평균 손실: 4.3336, 혼잡도: 76.22\n",
            "generate_text를 사용하여 문맥을 기반으로 텍스트 생성:\n",
            "\n",
            "\n",
            "문맥: Moscow\n",
            "\n",
            "생성된 텍스트: Moscow 's first-half strike was a major step in the first half of the season . '' 's a .##-caliber handgun . ' '' he said . ' 'We 've been in the world . '' 's a statement\n",
            "\n",
            "문맥: New York\n",
            "\n",
            "생성된 텍스트: New York City Council said the ##-year-old was a 'very 's ' , but the only thing I had to do it . ' '' The . ' I 'm not going to be a good person . '' 's a statement said .\n",
            "\n",
            "문맥: A hurricane\n",
            "\n",
            "생성된 텍스트: A hurricane is a major part of the ####s . '' 's a .##-caliber handgun . '' 's a statement said . '## . ' '' The statement said . '## . '' 's a statement . ' '' We '\n"
          ]
        },
        {
          "output_type": "stream",
          "name": "stderr",
          "text": [
            "에포크 1/1:  54%|█████▍    | 93781/172148 [2:00:15<6:05:11,  3.58it/s, loss=4.2945]"
          ]
        },
        {
          "output_type": "stream",
          "name": "stdout",
          "text": [
            "\n",
            "문맥: The President\n",
            "\n",
            "생성된 텍스트: The President 's office said the decision was `` not going to be a big deal . '' 's a good news . '' `` I 'm not going to be a good player . '' 's a good player . '' 's a good player .\n"
          ]
        },
        {
          "output_type": "stream",
          "name": "stderr",
          "text": [
            "에포크 1/1:  55%|█████▌    | 95341/172148 [2:02:15<1:33:25, 13.70it/s, loss=4.2964]"
          ]
        },
        {
          "output_type": "stream",
          "name": "stdout",
          "text": [
            "\n",
            "200064 샘플 처리 후, 평균 손실: 4.3535\n"
          ]
        },
        {
          "output_type": "stream",
          "name": "stderr",
          "text": [
            "\n",
            "평가 중:   0%|          | 0/3514 [00:00<?, ?it/s]\u001b[A\n",
            "평가 중:   0%|          | 3/3514 [00:00<02:37, 22.34it/s]\u001b[A\n",
            "평가 중:   0%|          | 6/3514 [00:00<02:23, 24.52it/s]\u001b[A\n",
            "                                                         \u001b[A"
          ]
        },
        {
          "output_type": "stream",
          "name": "stdout",
          "text": [
            "검증 평균 손실: 4.3349, 혼잡도: 76.32\n",
            "generate_text를 사용하여 문맥을 기반으로 텍스트 생성:\n",
            "\n",
            "\n",
            "문맥: Moscow\n",
            "\n",
            "생성된 텍스트: Moscow has been in the UK , which has been in the UK , which has been in the UK . '' 's official website . ' '' he said . '## . ' '' he said . '## . ' '' he said . '## .\n",
            "\n",
            "문맥: New York\n",
            "\n",
            "생성된 텍스트: New York City , the United States , the United States , the United States , and the government has been in the UK . '' 's official statement . '' said the official . ' '' CNN 's <rare> . ' '' The CNN Heroes .\n",
            "\n",
            "문맥: A hurricane\n",
            "\n",
            "생성된 텍스트: A hurricane , the government has been in the UK , which has been in the UK . '' 's official website . ' '' CNN 's <rare> . ' '' The CNN Heroes . ' '' CNN 's <rare> . ' '' The\n"
          ]
        },
        {
          "output_type": "stream",
          "name": "stderr",
          "text": [
            "에포크 1/1:  55%|█████▌    | 95345/172148 [2:02:16<4:39:19,  4.58it/s, loss=4.3600]"
          ]
        },
        {
          "output_type": "stream",
          "name": "stdout",
          "text": [
            "\n",
            "문맥: The President\n",
            "\n",
            "생성된 텍스트: The President 's office said the government has not yet been released . ' '' he said . '## . ' '' he said . '## . ' '' he said . '## . ' '' he said . '## . ' '' he said . '\n"
          ]
        },
        {
          "output_type": "stream",
          "name": "stderr",
          "text": [
            "에포크 1/1:  56%|█████▋    | 96905/172148 [2:04:16<1:52:40, 11.13it/s, loss=4.3423]"
          ]
        },
        {
          "output_type": "stream",
          "name": "stdout",
          "text": [
            "\n",
            "200064 샘플 처리 후, 평균 손실: 4.3562\n"
          ]
        },
        {
          "output_type": "stream",
          "name": "stderr",
          "text": [
            "\n",
            "평가 중:   0%|          | 0/3514 [00:00<?, ?it/s]\u001b[A\n",
            "평가 중:   0%|          | 2/3514 [00:00<03:15, 17.99it/s]\u001b[A\n",
            "평가 중:   0%|          | 4/3514 [00:00<03:28, 16.80it/s]\u001b[A\n",
            "평가 중:   0%|          | 6/3514 [00:00<03:19, 17.54it/s]\u001b[A\n",
            "                                                         \u001b[A"
          ]
        },
        {
          "output_type": "stream",
          "name": "stdout",
          "text": [
            "검증 평균 손실: 4.3269, 혼잡도: 75.71\n",
            "generate_text를 사용하여 문맥을 기반으로 텍스트 생성:\n",
            "\n",
            "\n",
            "문맥: Moscow\n",
            "\n",
            "생성된 텍스트: Moscow is also a member of the National Guard . '' 's official statement said . '## . '## . '' 's ##th Century Fox . '## . '## . '## . '## . '## . '## . '##\n",
            "\n",
            "문맥: New York\n",
            "\n",
            "생성된 텍스트: New York City Council said the company was not allowed to be able to get the chance to get the chance to get the chance to get the chance to get the chance to get the chance to get the chance to get the chance to get the chance to get the\n",
            "\n",
            "문맥: A hurricane\n",
            "\n",
            "생성된 텍스트: A hurricane is also a popular destination for the world . ' '' It 's not the case . ' '' It 's not the case . ' '' It 's not the case . ' '' It 's not the case . ' '' It 's\n"
          ]
        },
        {
          "output_type": "stream",
          "name": "stderr",
          "text": [
            "에포크 1/1:  56%|█████▋    | 96907/172148 [2:04:17<6:47:55,  3.07it/s, loss=4.4074]"
          ]
        },
        {
          "output_type": "stream",
          "name": "stdout",
          "text": [
            "\n",
            "문맥: The President\n",
            "\n",
            "생성된 텍스트: The President 's ##-year-old is a former teammate of the club . ' '' It 's not a good news . '' 's a statement . '' 's a statement . ' '' We 're not the news of the . ''\n"
          ]
        },
        {
          "output_type": "stream",
          "name": "stderr",
          "text": [
            "에포크 1/1:  57%|█████▋    | 98467/172148 [2:06:17<1:38:33, 12.46it/s, loss=4.2647]"
          ]
        },
        {
          "output_type": "stream",
          "name": "stdout",
          "text": [
            "\n",
            "200064 샘플 처리 후, 평균 손실: 4.3541\n"
          ]
        },
        {
          "output_type": "stream",
          "name": "stderr",
          "text": [
            "\n",
            "평가 중:   0%|          | 0/3514 [00:00<?, ?it/s]\u001b[A\n",
            "평가 중:   0%|          | 2/3514 [00:00<03:04, 19.05it/s]\u001b[A\n",
            "평가 중:   0%|          | 5/3514 [00:00<02:51, 20.46it/s]\u001b[A\n",
            "                                                         \u001b[A"
          ]
        },
        {
          "output_type": "stream",
          "name": "stdout",
          "text": [
            "검증 평균 손실: 4.3292, 혼잡도: 75.88\n",
            "generate_text를 사용하여 문맥을 기반으로 텍스트 생성:\n",
            "\n",
            "\n",
            "문맥: Moscow\n",
            "\n",
            "생성된 텍스트: Moscow has been in the world , but the ##-year-old was a 'very saddened ' and said he was `` very saddened by the fact that the situation is to be a very different way . '' 's a statement .\n",
            "\n",
            "문맥: New York\n",
            "\n",
            "생성된 텍스트: New York City Council said the government 's office was `` very important '' to the same as a `` significant '' of the `` significant '' of the `` '' `` '' policy . '' 's official website . ' '' It 's not a `` a very\n",
            "\n",
            "문맥: A hurricane\n",
            "\n",
            "생성된 텍스트: A hurricane is a very different way to get the same . '' 's a statement . ' '' It 's not a `` a very good '' . ' '' It 's not a `` a very good '' . ' '' It 's not a ``\n"
          ]
        },
        {
          "output_type": "stream",
          "name": "stderr",
          "text": [
            "에포크 1/1:  57%|█████▋    | 98470/172148 [2:06:19<6:49:22,  3.00it/s, loss=4.3146]"
          ]
        },
        {
          "output_type": "stream",
          "name": "stdout",
          "text": [
            "\n",
            "문맥: The President\n",
            "\n",
            "생성된 텍스트: The President 's office said the government 's office is not the first time in the country . '' 's a statement . ' '' It 's not a `` a very good '' . ' '' It 's not a `` a very good '' .\n"
          ]
        },
        {
          "output_type": "stream",
          "name": "stderr",
          "text": [
            "에포크 1/1:  58%|█████▊    | 100030/172148 [2:08:19<1:27:58, 13.66it/s, loss=4.2553]"
          ]
        },
        {
          "output_type": "stream",
          "name": "stdout",
          "text": [
            "\n",
            "200064 샘플 처리 후, 평균 손실: 4.3509\n"
          ]
        },
        {
          "output_type": "stream",
          "name": "stderr",
          "text": [
            "\n",
            "평가 중:   0%|          | 0/3514 [00:00<?, ?it/s]\u001b[A\n",
            "평가 중:   0%|          | 3/3514 [00:00<02:19, 25.24it/s]\u001b[A\n",
            "평가 중:   0%|          | 6/3514 [00:00<02:14, 26.05it/s]\u001b[A\n",
            "                                                         \u001b[A"
          ]
        },
        {
          "output_type": "stream",
          "name": "stdout",
          "text": [
            "검증 평균 손실: 4.3237, 혼잡도: 75.47\n",
            "generate_text를 사용하여 문맥을 기반으로 텍스트 생성:\n",
            "\n",
            "\n",
            "문맥: Moscow\n",
            "\n",
            "생성된 텍스트: Moscow has been charged with the murder of the murder of the ##-year-old . ' 'The defendant was not in the case . ' '' I 'm not a member of the United States . '' 's a statement . '' said the\n",
            "\n",
            "문맥: New York\n",
            "\n",
            "생성된 텍스트: New York City 's first-team squad will be held in the Premier League . '### . '' 's ##-year-old . '' 's a statement . '' said the ##-year-old . ' '' It was a `` very\n",
            "\n",
            "문맥: A hurricane\n",
            "\n",
            "생성된 텍스트: A hurricane is not the first time . '' 's a statement . '' 's a statement . '' said the official statement said . '### . '' 's a statement . '' said the president . '### . '' 's ##-year\n"
          ]
        },
        {
          "output_type": "stream",
          "name": "stderr",
          "text": [
            "에포크 1/1:  58%|█████▊    | 100034/172148 [2:08:20<4:21:01,  4.60it/s, loss=4.3127]"
          ]
        },
        {
          "output_type": "stream",
          "name": "stdout",
          "text": [
            "\n",
            "문맥: The President\n",
            "\n",
            "생성된 텍스트: The President 's ##-year-old man was arrested in the hospital , and the ##-year-old girl was arrested in the hospital . ' 'The .### . '### . '' 's ##-year-old . ' ''\n"
          ]
        },
        {
          "output_type": "stream",
          "name": "stderr",
          "text": [
            "에포크 1/1:  59%|█████▉    | 101594/172148 [2:10:20<1:25:05, 13.82it/s, loss=4.3519]"
          ]
        },
        {
          "output_type": "stream",
          "name": "stdout",
          "text": [
            "\n",
            "200064 샘플 처리 후, 평균 손실: 4.3492\n"
          ]
        },
        {
          "output_type": "stream",
          "name": "stderr",
          "text": [
            "\n",
            "평가 중:   0%|          | 0/3514 [00:00<?, ?it/s]\u001b[A\n",
            "평가 중:   0%|          | 3/3514 [00:00<02:18, 25.38it/s]\u001b[A\n",
            "평가 중:   0%|          | 6/3514 [00:00<02:12, 26.55it/s]\u001b[A\n",
            "                                                         \u001b[A"
          ]
        },
        {
          "output_type": "stream",
          "name": "stdout",
          "text": [
            "검증 평균 손실: 4.3203, 혼잡도: 75.21\n",
            "generate_text를 사용하여 문맥을 기반으로 텍스트 생성:\n",
            "\n",
            "\n",
            "문맥: Moscow\n",
            "\n",
            "생성된 텍스트: Moscow has been in the UK , which has been in the UK , which has been in the UK , which has been in the UK , and the UK has been in the UK . '' 's official website . ' '' It was a `` a very\n",
            "\n",
            "문맥: New York\n",
            "\n",
            "생성된 텍스트: New York City , the most popular in the world , has been in the world , and the ##-year-old was a ##-year-old girl who was found dead in the car , a spokesman said . ' I 'm not a\n",
            "\n",
            "문맥: A hurricane\n",
            "\n",
            "생성된 텍스트: A hurricane is the first time the ##-year-old was found dead in the crash . ' '' It was a `` very important issue . '' 's a big deal . '' ' I 'm going to be a good idea . '' ' I '\n"
          ]
        },
        {
          "output_type": "stream",
          "name": "stderr",
          "text": [
            "에포크 1/1:  59%|█████▉    | 101596/172148 [2:10:22<5:28:53,  3.58it/s, loss=4.3845]"
          ]
        },
        {
          "output_type": "stream",
          "name": "stdout",
          "text": [
            "\n",
            "문맥: The President\n",
            "\n",
            "생성된 텍스트: The President 's office said the government has been `` a very good '' and `` the most important thing . '' ' I 'm going to be a good idea . '' ' I 'm going to be a good idea . '' ' I 'm not\n"
          ]
        },
        {
          "output_type": "stream",
          "name": "stderr",
          "text": [
            "에포크 1/1:  60%|█████▉    | 103156/172148 [2:12:23<1:26:00, 13.37it/s, loss=4.3773]"
          ]
        },
        {
          "output_type": "stream",
          "name": "stdout",
          "text": [
            "\n",
            "200064 샘플 처리 후, 평균 손실: 4.3509\n"
          ]
        },
        {
          "output_type": "stream",
          "name": "stderr",
          "text": [
            "\n",
            "평가 중:   0%|          | 0/3514 [00:00<?, ?it/s]\u001b[A\n",
            "평가 중:   0%|          | 3/3514 [00:00<02:19, 25.15it/s]\u001b[A\n",
            "평가 중:   0%|          | 6/3514 [00:00<02:15, 25.95it/s]\u001b[A\n",
            "                                                         \u001b[A"
          ]
        },
        {
          "output_type": "stream",
          "name": "stdout",
          "text": [
            "검증 평균 손실: 4.3241, 혼잡도: 75.50\n",
            "generate_text를 사용하여 문맥을 기반으로 텍스트 생성:\n",
            "\n",
            "\n",
            "문맥: Moscow\n",
            "\n",
            "생성된 텍스트: Moscow has been in the world , and the government has been in the country . '' 's ##-year-old said . ' '' It was a `` tragic incident '' . ' '' CNN 's aired . ' '' CNN 's Greg\n",
            "\n",
            "문맥: New York\n",
            "\n",
            "생성된 텍스트: New York City 's first-team football team have been in the world . '' 's ##-year-old son , who was in the custody of the ##-year-old . ' '' It was not immediately clear whether the case was .\n",
            "\n",
            "문맥: A hurricane\n",
            "\n",
            "생성된 텍스트: A hurricane is the only way to get the same . ' '' It was a `` tragic incident '' . ' '' CNN 's aired . ' '' CNN 's Greg Botelho . ' . ' '' It was a `` tragic incident ''\n"
          ]
        },
        {
          "output_type": "stream",
          "name": "stderr",
          "text": [
            "에포크 1/1:  60%|█████▉    | 103160/172148 [2:12:24<4:12:44,  4.55it/s, loss=4.2308]"
          ]
        },
        {
          "output_type": "stream",
          "name": "stdout",
          "text": [
            "\n",
            "문맥: The President\n",
            "\n",
            "생성된 텍스트: The President 's first-round-right leader , the former president of the U.S. , said the government has been `` a very good way to get the best of the world 's most important . '' 's ##-year-old son\n"
          ]
        },
        {
          "output_type": "stream",
          "name": "stderr",
          "text": [
            "에포크 1/1:  61%|██████    | 104720/172148 [2:14:24<1:23:51, 13.40it/s, loss=4.2715]"
          ]
        },
        {
          "output_type": "stream",
          "name": "stdout",
          "text": [
            "\n",
            "200064 샘플 처리 후, 평균 손실: 4.3492\n"
          ]
        },
        {
          "output_type": "stream",
          "name": "stderr",
          "text": [
            "\n",
            "평가 중:   0%|          | 0/3514 [00:00<?, ?it/s]\u001b[A\n",
            "평가 중:   0%|          | 3/3514 [00:00<02:16, 25.65it/s]\u001b[A\n",
            "평가 중:   0%|          | 6/3514 [00:00<02:13, 26.22it/s]\u001b[A\n",
            "                                                         \u001b[A"
          ]
        },
        {
          "output_type": "stream",
          "name": "stdout",
          "text": [
            "검증 평균 손실: 4.3198, 혼잡도: 75.18\n",
            "generate_text를 사용하여 문맥을 기반으로 텍스트 생성:\n",
            "\n",
            "\n",
            "문맥: Moscow\n",
            "\n",
            "생성된 텍스트: Moscow has been in the region , and the government has been in the EU . '' 's `` The FBI , '' he said . ' '' It 's not the case . ' '' he said . ' '' It 's not a big deal\n",
            "\n",
            "문맥: New York\n",
            "\n",
            "생성된 텍스트: New York City Council said the government 's office has been in the EU . '' 's `` The FBI , '' he said . ' '' It 's not the case . ' '' he said . ' '' It 's not a big deal .\n",
            "\n",
            "문맥: A hurricane\n",
            "\n",
            "생성된 텍스트: A hurricane is the most important thing , '' he said . ' '' It 's not a big deal . '' 's `` The FBI , '' he said . ' '' It 's not the case . ' '' he said . ' '' It '\n"
          ]
        },
        {
          "output_type": "stream",
          "name": "stderr",
          "text": [
            "에포크 1/1:  61%|██████    | 104722/172148 [2:14:26<5:12:22,  3.60it/s, loss=4.3390]"
          ]
        },
        {
          "output_type": "stream",
          "name": "stdout",
          "text": [
            "\n",
            "문맥: The President\n",
            "\n",
            "생성된 텍스트: The President 's office said the government has been `` a very good '' of the `` very important issue '' . '' 's `` The FBI , '' he said . ' '' It 's not the case . ' '' he said . ' '' It\n"
          ]
        },
        {
          "output_type": "stream",
          "name": "stderr",
          "text": [
            "에포크 1/1:  62%|██████▏   | 106282/172148 [2:16:26<1:46:24, 10.32it/s, loss=4.2795]"
          ]
        },
        {
          "output_type": "stream",
          "name": "stdout",
          "text": [
            "\n",
            "200064 샘플 처리 후, 평균 손실: 4.3471\n"
          ]
        },
        {
          "output_type": "stream",
          "name": "stderr",
          "text": [
            "\n",
            "평가 중:   0%|          | 0/3514 [00:00<?, ?it/s]\u001b[A\n",
            "평가 중:   0%|          | 3/3514 [00:00<02:24, 24.34it/s]\u001b[A\n",
            "평가 중:   0%|          | 6/3514 [00:00<02:14, 25.99it/s]\u001b[A\n",
            "                                                         \u001b[A"
          ]
        },
        {
          "output_type": "stream",
          "name": "stdout",
          "text": [
            "검증 평균 손실: 4.3263, 혼잡도: 75.67\n",
            "generate_text를 사용하여 문맥을 기반으로 텍스트 생성:\n",
            "\n",
            "\n",
            "문맥: Moscow\n",
            "\n",
            "생성된 텍스트: Moscow has been a `` very serious '' of the `` terrorist '' and `` the most important thing , '' said the president . ' '' said the president . ' '' said the president . ' '' said the president . ' '' said the official . '\n",
            "\n",
            "문맥: New York\n",
            "\n",
            "생성된 텍스트: New York City 's #-# win over the first half of the season , but he was a big fan of the club . ' '' he said . ' '' he said . ' '' he said . ' '' he said . ' '' he said .\n",
            "\n",
            "문맥: A hurricane\n",
            "\n",
            "생성된 텍스트: A hurricane is not the first to be a big surprise . '' 's a good news . '' 's a statement . ' '' said the official . ' '' CNN 's a friend of the BBC . '### . ' '' said the official .\n"
          ]
        },
        {
          "output_type": "stream",
          "name": "stderr",
          "text": [
            "에포크 1/1:  62%|██████▏   | 106286/172148 [2:16:28<4:13:40,  4.33it/s, loss=4.3251]"
          ]
        },
        {
          "output_type": "stream",
          "name": "stdout",
          "text": [
            "\n",
            "문맥: The President\n",
            "\n",
            "생성된 텍스트: The President 's office has been a `` very serious '' of the investigation into the attack . '' 's official statement said . '## . ' '' he said . ' '' `` The Department of Justice Department , '' said the official . ' '' CNN '\n"
          ]
        },
        {
          "output_type": "stream",
          "name": "stderr",
          "text": [
            "에포크 1/1:  63%|██████▎   | 107846/172148 [2:18:28<1:32:58, 11.53it/s, loss=4.3815]"
          ]
        },
        {
          "output_type": "stream",
          "name": "stdout",
          "text": [
            "\n",
            "200064 샘플 처리 후, 평균 손실: 4.3445\n"
          ]
        },
        {
          "output_type": "stream",
          "name": "stderr",
          "text": [
            "\n",
            "평가 중:   0%|          | 0/3514 [00:00<?, ?it/s]\u001b[A\n",
            "평가 중:   0%|          | 2/3514 [00:00<03:50, 15.22it/s]\u001b[A\n",
            "평가 중:   0%|          | 4/3514 [00:00<03:25, 17.10it/s]\u001b[A\n",
            "평가 중:   0%|          | 6/3514 [00:00<03:27, 16.90it/s]\u001b[A\n",
            "                                                         \u001b[A"
          ]
        },
        {
          "output_type": "stream",
          "name": "stdout",
          "text": [
            "검증 평균 손실: 4.3270, 혼잡도: 75.72\n",
            "generate_text를 사용하여 문맥을 기반으로 텍스트 생성:\n",
            "\n",
            "\n",
            "문맥: Moscow\n",
            "\n",
            "생성된 텍스트: Moscow has been charged with the death penalty . '' 's official statement . ' '' said . '## . ' '' he said . ' I think it 's a great deal . '' 's official statement said . '## . '' 's official\n",
            "\n",
            "문맥: New York\n",
            "\n",
            "생성된 텍스트: New York City 's <rare> , the company , said : 'The only way to get the money , '' he said . ' I think it 's a great deal . '' 's official statement said . '## . '' 's official statement\n",
            "\n",
            "문맥: A hurricane\n",
            "\n",
            "생성된 텍스트: A hurricane is the only one of the most popularity of the world 's largest city of <rare> , the company said . '## . '' 's official statement said . '## . ' '' he said . ' I think it 's a\n"
          ]
        },
        {
          "output_type": "stream",
          "name": "stderr",
          "text": [
            "에포크 1/1:  63%|██████▎   | 107848/172148 [2:18:30<7:06:24,  2.51it/s, loss=4.3248]"
          ]
        },
        {
          "output_type": "stream",
          "name": "stdout",
          "text": [
            "\n",
            "문맥: The President\n",
            "\n",
            "생성된 텍스트: The President 's decision to be the first time the government has been charged with the death penalty . '' 's official statement . ' '' said . '## . ' '' he said . ' I think it 's a great deal . '' 's official\n"
          ]
        },
        {
          "output_type": "stream",
          "name": "stderr",
          "text": [
            "에포크 1/1:  64%|██████▎   | 109408/172148 [2:20:30<1:18:36, 13.30it/s, loss=4.1799]"
          ]
        },
        {
          "output_type": "stream",
          "name": "stdout",
          "text": [
            "\n",
            "200064 샘플 처리 후, 평균 손실: 4.3466\n"
          ]
        },
        {
          "output_type": "stream",
          "name": "stderr",
          "text": [
            "\n",
            "평가 중:   0%|          | 0/3514 [00:00<?, ?it/s]\u001b[A\n",
            "평가 중:   0%|          | 3/3514 [00:00<02:51, 20.47it/s]\u001b[A\n",
            "평가 중:   0%|          | 6/3514 [00:00<02:43, 21.40it/s]\u001b[A\n",
            "                                                         \u001b[A"
          ]
        },
        {
          "output_type": "stream",
          "name": "stdout",
          "text": [
            "검증 평균 손실: 4.3099, 혼잡도: 74.43\n",
            "generate_text를 사용하여 문맥을 기반으로 텍스트 생성:\n",
            "\n",
            "\n",
            "문맥: Moscow\n",
            "\n",
            "생성된 텍스트: Moscow 's government has been a major part of the country 's largest city in the United States . '' 's CNN Student News . ) . '' 's CNN Student News . ) . '' 's CNN Student News . ) . '' 's\n",
            "\n",
            "문맥: New York\n",
            "\n",
            "생성된 텍스트: New York City Council said the company 's office has been closed for the first time . '' 's a statement . '' 'We are not the first time . '' 's a statement . '' 'We are not going to be a big deal . ''\n",
            "\n",
            "문맥: A hurricane\n",
            "\n",
            "생성된 텍스트: A hurricane is not the first time of the country 's largest city . '' 's official news . '' `` The Associated Press . '' 's CNN Student News . ) . '' 's CNN Student News . ) . '' 's CNN Student News\n"
          ]
        },
        {
          "output_type": "stream",
          "name": "stderr",
          "text": [
            "에포크 1/1:  64%|██████▎   | 109412/172148 [2:20:32<4:51:47,  3.58it/s, loss=4.3171]"
          ]
        },
        {
          "output_type": "stream",
          "name": "stdout",
          "text": [
            "\n",
            "문맥: The President\n",
            "\n",
            "생성된 텍스트: The President 's office said the government has been a `` significant part of the world '' . '' 'We are not going to be a big deal . '' 's a new presidential candidate . '' 's a new presidential candidate . '' `` I\n"
          ]
        },
        {
          "output_type": "stream",
          "name": "stderr",
          "text": [
            "에포크 1/1:  64%|██████▍   | 110971/172148 [2:22:33<1:16:55, 13.26it/s, loss=4.2172]"
          ]
        },
        {
          "output_type": "stream",
          "name": "stdout",
          "text": [
            "\n",
            "200064 샘플 처리 후, 평균 손실: 4.3417\n"
          ]
        },
        {
          "output_type": "stream",
          "name": "stderr",
          "text": [
            "\n",
            "평가 중:   0%|          | 0/3514 [00:00<?, ?it/s]\u001b[A\n",
            "평가 중:   0%|          | 3/3514 [00:00<02:17, 25.50it/s]\u001b[A\n",
            "평가 중:   0%|          | 6/3514 [00:00<02:16, 25.74it/s]\u001b[A\n",
            "                                                         \u001b[A"
          ]
        },
        {
          "output_type": "stream",
          "name": "stdout",
          "text": [
            "검증 평균 손실: 4.3171, 혼잡도: 74.97\n",
            "generate_text를 사용하여 문맥을 기반으로 텍스트 생성:\n",
            "\n",
            "\n",
            "문맥: Moscow\n",
            "\n",
            "생성된 텍스트: Moscow is a `` very important part of the situation '' . '' `` I 'm sure it 's a good thing . '' ' I 'm not going to be a good player . '' ' I 'm sure it 's a good thing .\n",
            "\n",
            "문맥: New York\n",
            "\n",
            "생성된 텍스트: New York City , the ##-year-old , was born in #### , was found in the hospital . '### . '## . '' 's a statement . ' I 'm sure I 'm not going to be a good player . ''\n",
            "\n",
            "문맥: A hurricane\n",
            "\n",
            "생성된 텍스트: A hurricane is the first time in the world . '' 's a statement . ' '' The CNN Heroes of the ####s . '' `` The most importantly '' . '' `` The FBI is a very difficult time . '' ' I 'm sure\n"
          ]
        },
        {
          "output_type": "stream",
          "name": "stderr",
          "text": [
            "에포크 1/1:  64%|██████▍   | 110975/172148 [2:22:35<4:13:22,  4.02it/s, loss=4.3323]"
          ]
        },
        {
          "output_type": "stream",
          "name": "stdout",
          "text": [
            "\n",
            "문맥: The President\n",
            "\n",
            "생성된 텍스트: The President 's decision to take the decision to take the decision to take the decision to take the decision to take the decision to take the decision to take the decision to take the decision to take the decision to take the decision to take the decision to take the\n"
          ]
        },
        {
          "output_type": "stream",
          "name": "stderr",
          "text": [
            "에포크 1/1:  65%|██████▌   | 112535/172148 [2:24:35<1:13:18, 13.55it/s, loss=4.3824]"
          ]
        },
        {
          "output_type": "stream",
          "name": "stdout",
          "text": [
            "\n",
            "200064 샘플 처리 후, 평균 손실: 4.3433\n"
          ]
        },
        {
          "output_type": "stream",
          "name": "stderr",
          "text": [
            "\n",
            "평가 중:   0%|          | 0/3514 [00:00<?, ?it/s]\u001b[A\n",
            "평가 중:   0%|          | 3/3514 [00:00<02:18, 25.28it/s]\u001b[A\n",
            "평가 중:   0%|          | 6/3514 [00:00<02:15, 25.90it/s]\u001b[A\n",
            "                                                         \u001b[A"
          ]
        },
        {
          "output_type": "stream",
          "name": "stdout",
          "text": [
            "검증 평균 손실: 4.3071, 혼잡도: 74.22\n",
            "generate_text를 사용하여 문맥을 기반으로 텍스트 생성:\n",
            "\n",
            "\n",
            "문맥: Moscow\n",
            "\n",
            "생성된 텍스트: Moscow is a new leader in the U.S. , the U.S. military said . '' `` The FBI said . '' `` The Associated Press . '' 's a statement . ' '' said the U.S. military . '\n",
            "\n",
            "문맥: New York\n",
            "\n",
            "생성된 텍스트: New York City 's #-# win over the last ## years . ' '' he said . '## . '## . '## . '## . '' 's a statement . '## . '## . '## . '## . '##\n",
            "\n",
            "문맥: A hurricane\n",
            "\n",
            "생성된 텍스트: A hurricane is the most expensive and white-powered man , and the most expensive . '### . '## . '## . '## . '## . '' 's a statement said . '## . '## . '## . '##\n"
          ]
        },
        {
          "output_type": "stream",
          "name": "stderr",
          "text": [
            "에포크 1/1:  65%|██████▌   | 112537/172148 [2:24:37<4:36:56,  3.59it/s, loss=4.3711]"
          ]
        },
        {
          "output_type": "stream",
          "name": "stdout",
          "text": [
            "\n",
            "문맥: The President\n",
            "\n",
            "생성된 텍스트: The President 's decision to be the first time he was in the middle of the country . '' 's official statement said . '## . '' 's a statement . ' '' he said . '## . '## . '## . '## .\n"
          ]
        },
        {
          "output_type": "stream",
          "name": "stderr",
          "text": [
            "에포크 1/1:  66%|██████▋   | 114097/172148 [2:26:37<1:13:01, 13.25it/s, loss=4.3311]"
          ]
        },
        {
          "output_type": "stream",
          "name": "stdout",
          "text": [
            "\n",
            "200064 샘플 처리 후, 평균 손실: 4.3436\n"
          ]
        },
        {
          "output_type": "stream",
          "name": "stderr",
          "text": [
            "\n",
            "평가 중:   0%|          | 0/3514 [00:00<?, ?it/s]\u001b[A\n",
            "평가 중:   0%|          | 3/3514 [00:00<02:17, 25.51it/s]\u001b[A\n",
            "평가 중:   0%|          | 6/3514 [00:00<02:15, 25.89it/s]\u001b[A\n",
            "                                                         \u001b[A"
          ]
        },
        {
          "output_type": "stream",
          "name": "stdout",
          "text": [
            "검증 평균 손실: 4.3139, 혼잡도: 74.73\n",
            "generate_text를 사용하여 문맥을 기반으로 텍스트 생성:\n",
            "\n",
            "\n",
            "문맥: Moscow\n",
            "\n",
            "생성된 텍스트: Moscow is a key member of the country 's first-team squad for the first time in the ####s . '' ' I 'm not going to be a good idea . '' ' I 'm not going to be a good idea . '' '\n",
            "\n",
            "문맥: New York\n",
            "\n",
            "생성된 텍스트: New York City 's first-half of the ##-year-old was a very good player in the Premier League . '' 's a statement . ' '' he said . ' I 'm not going to be a good idea . '' ' I '\n",
            "\n",
            "문맥: A hurricane\n",
            "\n",
            "생성된 텍스트: A hurricane is not the first time of the country 's most famous . '' `` We are in the world . '' 's a statement . '' ' I 'm not going to be a good idea . '' ' I 'm not going to be a\n"
          ]
        },
        {
          "output_type": "stream",
          "name": "stderr",
          "text": [
            "에포크 1/1:  66%|██████▋   | 114101/172148 [2:26:39<3:29:19,  4.62it/s, loss=4.1830]"
          ]
        },
        {
          "output_type": "stream",
          "name": "stdout",
          "text": [
            "\n",
            "문맥: The President\n",
            "\n",
            "생성된 텍스트: The President 's comments were `` a very good idea , '' he said . ' '' I 'm not going to be a good idea . '' ' I 'm not going to be a good idea . '' ' I 'm not going to be a\n"
          ]
        },
        {
          "output_type": "stream",
          "name": "stderr",
          "text": [
            "에포크 1/1:  67%|██████▋   | 115661/172148 [2:28:40<1:09:11, 13.61it/s, loss=4.3930]"
          ]
        },
        {
          "output_type": "stream",
          "name": "stdout",
          "text": [
            "\n",
            "200064 샘플 처리 후, 평균 손실: 4.3420\n"
          ]
        },
        {
          "output_type": "stream",
          "name": "stderr",
          "text": [
            "\n",
            "평가 중:   0%|          | 0/3514 [00:00<?, ?it/s]\u001b[A\n",
            "평가 중:   0%|          | 3/3514 [00:00<02:19, 25.13it/s]\u001b[A\n",
            "평가 중:   0%|          | 6/3514 [00:00<02:16, 25.78it/s]\u001b[A\n",
            "                                                         \u001b[A"
          ]
        },
        {
          "output_type": "stream",
          "name": "stdout",
          "text": [
            "검증 평균 손실: 4.3066, 혼잡도: 74.19\n",
            "generate_text를 사용하여 문맥을 기반으로 텍스트 생성:\n",
            "\n",
            "\n",
            "문맥: Moscow\n",
            "\n",
            "생성된 텍스트: Moscow 's most recent years of the ####s . '' 's a new presidential candidate . '' 's a statement . ' '' he said . ' '' he said . ' I 'm not going to be able to do . ' '' he\n",
            "\n",
            "문맥: New York\n",
            "\n",
            "생성된 텍스트: New York City 's #-# win over the last ## years of the season . ' '' he said . ' I 'm not going to be able to do it . '' ' I 'm not going to be able to do . ' '' he\n",
            "\n",
            "문맥: A hurricane\n",
            "\n",
            "생성된 텍스트: A hurricane is not the only way to be used to be . ' '' The judge said . '## . ' '' he said . ' I 'm not going to be able to do . ' '' he said . ' I 'm not going to be\n"
          ]
        },
        {
          "output_type": "stream",
          "name": "stderr",
          "text": [
            "에포크 1/1:  67%|██████▋   | 115663/172148 [2:28:41<4:23:51,  3.57it/s, loss=4.2637]"
          ]
        },
        {
          "output_type": "stream",
          "name": "stdout",
          "text": [
            "\n",
            "문맥: The President\n",
            "\n",
            "생성된 텍스트: The President 's decision to be the first time he was in the world 's most popularity of the world 's most popularity . ' '' The president 's decision to be the president 's decision to be . ' '' he said . '\n"
          ]
        },
        {
          "output_type": "stream",
          "name": "stderr",
          "text": [
            "에포크 1/1:  68%|██████▊   | 117223/172148 [2:30:42<1:08:11, 13.42it/s, loss=4.3711]"
          ]
        },
        {
          "output_type": "stream",
          "name": "stdout",
          "text": [
            "\n",
            "200064 샘플 처리 후, 평균 손실: 4.3401\n"
          ]
        },
        {
          "output_type": "stream",
          "name": "stderr",
          "text": [
            "\n",
            "평가 중:   0%|          | 0/3514 [00:00<?, ?it/s]\u001b[A\n",
            "평가 중:   0%|          | 3/3514 [00:00<02:17, 25.56it/s]\u001b[A\n",
            "평가 중:   0%|          | 6/3514 [00:00<02:13, 26.37it/s]\u001b[A\n",
            "                                                         \u001b[A"
          ]
        },
        {
          "output_type": "stream",
          "name": "stdout",
          "text": [
            "검증 평균 손실: 4.3113, 혼잡도: 74.53\n",
            "generate_text를 사용하여 문맥을 기반으로 텍스트 생성:\n",
            "\n",
            "\n",
            "문맥: Moscow\n",
            "\n",
            "생성된 텍스트: Moscow has been charged with the murder of the murder of the police and the police . ' '' It was a `` a ' '' of the `` Theo '' . '' 'We are . '' 's a statement . '' 'We 're not going\n",
            "\n",
            "문맥: New York\n",
            "\n",
            "생성된 텍스트: New York City 's first-half-year-old daughter was a member of the family 's home in the ####s . '### . '## . '## . ' '' he said . ' I 'm not going to be a good\n",
            "\n",
            "문맥: A hurricane\n",
            "\n",
            "생성된 텍스트: A hurricane is a huge tougher and the world 's most expensive . '' 's #.# million . '### . '' 's a statement . '' 'We 're not going to be a good idea . '' 's a statement\n"
          ]
        },
        {
          "output_type": "stream",
          "name": "stderr",
          "text": [
            "에포크 1/1:  68%|██████▊   | 117227/172148 [2:30:44<3:18:39,  4.61it/s, loss=4.3961]"
          ]
        },
        {
          "output_type": "stream",
          "name": "stdout",
          "text": [
            "\n",
            "문맥: The President\n",
            "\n",
            "생성된 텍스트: The President 's decision to be a `` unacceptable '' of the `` unprecedented '' . ' '' The president said the `` <rare> '' is a `` unacceptable '' . '' 's a statement . '' 'We 're\n"
          ]
        },
        {
          "output_type": "stream",
          "name": "stderr",
          "text": [
            "에포크 1/1:  69%|██████▉   | 118787/172148 [2:32:44<1:18:29, 11.33it/s, loss=4.2952]"
          ]
        },
        {
          "output_type": "stream",
          "name": "stdout",
          "text": [
            "\n",
            "200064 샘플 처리 후, 평균 손실: 4.3402\n"
          ]
        },
        {
          "output_type": "stream",
          "name": "stderr",
          "text": [
            "\n",
            "평가 중:   0%|          | 0/3514 [00:00<?, ?it/s]\u001b[A\n",
            "평가 중:   0%|          | 2/3514 [00:00<03:13, 18.14it/s]\u001b[A\n",
            "평가 중:   0%|          | 4/3514 [00:00<03:11, 18.33it/s]\u001b[A\n",
            "평가 중:   0%|          | 6/3514 [00:00<03:07, 18.68it/s]\u001b[A\n",
            "                                                         \u001b[A"
          ]
        },
        {
          "output_type": "stream",
          "name": "stdout",
          "text": [
            "검증 평균 손실: 4.3041, 혼잡도: 74.00\n",
            "generate_text를 사용하여 문맥을 기반으로 텍스트 생성:\n",
            "\n",
            "\n",
            "문맥: Moscow\n",
            "\n",
            "생성된 텍스트: Moscow has been in the midst of a new era of the year . '' 's official statement said . '## . '' 'Hey . ' '' It was a `` a very good newsletter to get a new . '' 'Hey . '\n",
            "\n",
            "문맥: New York\n",
            "\n",
            "생성된 텍스트: New York City Mayor Michael Bloomberg said the `` <rare> '' is a `` significant '' of the 's 'profit ' . ' '' It 's not the case . ' '' It was a `` a very good newsletter to get a\n",
            "\n",
            "문맥: A hurricane\n",
            "\n",
            "생성된 텍스트: A hurricane is the first time in the past year . '' 's official statement said . '## . '' 'Hey . ' '' It was a `` a very good newsletter to get a new . '' 'Hey . ' '' It was a\n"
          ]
        },
        {
          "output_type": "stream",
          "name": "stderr",
          "text": [
            "에포크 1/1:  69%|██████▉   | 118789/172148 [2:32:46<5:12:58,  2.84it/s, loss=4.3161]"
          ]
        },
        {
          "output_type": "stream",
          "name": "stdout",
          "text": [
            "\n",
            "문맥: The President\n",
            "\n",
            "생성된 텍스트: The President 's office said the government has been a `` significant '' of the `` significant '' of the `` <rare> '' . ' '' It 's not the case . ' '' It was a `` a very good newsletter to get a new .\n"
          ]
        },
        {
          "output_type": "stream",
          "name": "stderr",
          "text": [
            "에포크 1/1:  70%|██████▉   | 120349/172148 [2:34:46<1:10:17, 12.28it/s, loss=4.3562]"
          ]
        },
        {
          "output_type": "stream",
          "name": "stdout",
          "text": [
            "\n",
            "200064 샘플 처리 후, 평균 손실: 4.3380\n"
          ]
        },
        {
          "output_type": "stream",
          "name": "stderr",
          "text": [
            "\n",
            "평가 중:   0%|          | 0/3514 [00:00<?, ?it/s]\u001b[A\n",
            "평가 중:   0%|          | 3/3514 [00:00<02:38, 22.11it/s]\u001b[A\n",
            "평가 중:   0%|          | 6/3514 [00:00<02:42, 21.61it/s]\u001b[A\n",
            "                                                         \u001b[A"
          ]
        },
        {
          "output_type": "stream",
          "name": "stdout",
          "text": [
            "검증 평균 손실: 4.3075, 혼잡도: 74.25\n",
            "generate_text를 사용하여 문맥을 기반으로 텍스트 생성:\n",
            "\n",
            "\n",
            "문맥: Moscow\n",
            "\n",
            "생성된 텍스트: Moscow is a very important part of the world '' . '' 'We are not going to be a good idea . '' ' I 'm not going to be a good thing . '' ' I 'm not going to be a good thing . '' '\n",
            "\n",
            "문맥: New York\n",
            "\n",
            "생성된 텍스트: New York City 's #-# win over the ##th century , and the world 's most popular tourist attractions , which is the most popular destination for the world . '' 'We are not going to be a good idea . '' ' I\n",
            "\n",
            "문맥: A hurricane\n",
            "\n",
            "생성된 텍스트: A hurricane is a major part of the world 's most importantly , '' he said . ' '' I 'm not going to be a good thing . '' ' I 'm not going to be a good thing . '' ' I 'm not going\n"
          ]
        },
        {
          "output_type": "stream",
          "name": "stderr",
          "text": [
            "에포크 1/1:  70%|██████▉   | 120351/172148 [2:34:48<5:24:15,  2.66it/s, loss=4.4328]"
          ]
        },
        {
          "output_type": "stream",
          "name": "stdout",
          "text": [
            "\n",
            "문맥: The President\n",
            "\n",
            "생성된 텍스트: The President 's office said the ##-year-old was a `` a very good idea . '' ' I 'm not going to be a good thing . '' ' I 'm not going to be a good thing . '' ' I 'm not\n"
          ]
        },
        {
          "output_type": "stream",
          "name": "stderr",
          "text": [
            "에포크 1/1:  71%|███████   | 121913/172148 [2:36:49<1:02:36, 13.37it/s, loss=4.2923]"
          ]
        },
        {
          "output_type": "stream",
          "name": "stdout",
          "text": [
            "\n",
            "200064 샘플 처리 후, 평균 손실: 4.3367\n"
          ]
        },
        {
          "output_type": "stream",
          "name": "stderr",
          "text": [
            "\n",
            "평가 중:   0%|          | 0/3514 [00:00<?, ?it/s]\u001b[A\n",
            "평가 중:   0%|          | 3/3514 [00:00<02:18, 25.33it/s]\u001b[A\n",
            "평가 중:   0%|          | 6/3514 [00:00<02:15, 25.89it/s]\u001b[A\n",
            "                                                         \u001b[A"
          ]
        },
        {
          "output_type": "stream",
          "name": "stdout",
          "text": [
            "검증 평균 손실: 4.3069, 혼잡도: 74.21\n",
            "generate_text를 사용하여 문맥을 기반으로 텍스트 생성:\n",
            "\n",
            "\n",
            "문맥: Moscow\n",
            "\n",
            "생성된 텍스트: Moscow has been in the UK , and the UK government has not been able to make a decision to be a `` significant '' . ' '' It 's not the case . ' '' he said . ' I 'm not going to be a good thing\n",
            "\n",
            "문맥: New York\n",
            "\n",
            "생성된 텍스트: New York City , the ##-year-old , who was arrested in #### , was arrested in connection with the incident , which was found in the hospital . '## . '## . ' I 'm not going to be a good person . ' ''\n",
            "\n",
            "문맥: A hurricane\n",
            "\n",
            "생성된 텍스트: A hurricane is the first time to be the first time to be the first time . '' 'We are not interested in the future . '' 's official statement said . '## . '' 's a statement . ' '' It 's not the case .\n"
          ]
        },
        {
          "output_type": "stream",
          "name": "stderr",
          "text": [
            "에포크 1/1:  71%|███████   | 121915/172148 [2:36:50<4:13:06,  3.31it/s, loss=4.4212]"
          ]
        },
        {
          "output_type": "stream",
          "name": "stdout",
          "text": [
            "\n",
            "문맥: The President\n",
            "\n",
            "생성된 텍스트: The President said : 'We 're not going to be a good thing to do . '' 's a good news . ' '' he said . ' I 'm not going to be a good player . '' 's a statement . ' '' he said\n"
          ]
        },
        {
          "output_type": "stream",
          "name": "stderr",
          "text": [
            "에포크 1/1:  72%|███████▏  | 123475/172148 [2:38:51<59:33, 13.62it/s, loss=4.2229]"
          ]
        },
        {
          "output_type": "stream",
          "name": "stdout",
          "text": [
            "\n",
            "200064 샘플 처리 후, 평균 손실: 4.3358\n"
          ]
        },
        {
          "output_type": "stream",
          "name": "stderr",
          "text": [
            "\n",
            "평가 중:   0%|          | 0/3514 [00:00<?, ?it/s]\u001b[A\n",
            "평가 중:   0%|          | 3/3514 [00:00<02:17, 25.62it/s]\u001b[A\n",
            "평가 중:   0%|          | 6/3514 [00:00<02:15, 25.87it/s]\u001b[A\n",
            "                                                         \u001b[A"
          ]
        },
        {
          "output_type": "stream",
          "name": "stdout",
          "text": [
            "검증 평균 손실: 4.3034, 혼잡도: 73.95\n",
            "generate_text를 사용하여 문맥을 기반으로 텍스트 생성:\n",
            "\n",
            "\n",
            "문맥: Moscow\n",
            "\n",
            "생성된 텍스트: Moscow has been in the UK , which is the first time to be the first time in the country . '' 's official statement . '' `` I 'm not sure . '' ' I 'm not sure . '' ' I 'm not sure .\n",
            "\n",
            "문맥: New York\n",
            "\n",
            "생성된 텍스트: New York City Council said the government has been `` a very significant '' and `` in the past , '' said the U.S. military has been in the region . '' 'We are not the first time . '' ' I 've got to be .\n",
            "\n",
            "문맥: A hurricane\n",
            "\n",
            "생성된 텍스트: A hurricane is not the first time . '' 'We are not the first time . '' ' I 'm not sure . '' ' I 'm not sure . '' ' I 'm not sure . '' ' I 'm not sure . '' ' I\n"
          ]
        },
        {
          "output_type": "stream",
          "name": "stderr",
          "text": [
            "에포크 1/1:  72%|███████▏  | 123479/172148 [2:38:53<2:55:01,  4.63it/s, loss=4.3294]"
          ]
        },
        {
          "output_type": "stream",
          "name": "stdout",
          "text": [
            "\n",
            "문맥: The President\n",
            "\n",
            "생성된 텍스트: The President 's office said the government has been `` a very significant '' and `` in the past , '' said the U.S. military has been in the region . '' 'We are not the first time . '' ' I 've got to be\n"
          ]
        },
        {
          "output_type": "stream",
          "name": "stderr",
          "text": [
            "에포크 1/1:  73%|███████▎  | 125039/172148 [2:40:53<57:54, 13.56it/s, loss=4.3310]"
          ]
        },
        {
          "output_type": "stream",
          "name": "stdout",
          "text": [
            "\n",
            "200064 샘플 처리 후, 평균 손실: 4.3379\n"
          ]
        },
        {
          "output_type": "stream",
          "name": "stderr",
          "text": [
            "\n",
            "평가 중:   0%|          | 0/3514 [00:00<?, ?it/s]\u001b[A\n",
            "평가 중:   0%|          | 3/3514 [00:00<02:21, 24.81it/s]\u001b[A\n",
            "평가 중:   0%|          | 6/3514 [00:00<02:17, 25.60it/s]\u001b[A\n",
            "                                                         \u001b[A"
          ]
        },
        {
          "output_type": "stream",
          "name": "stdout",
          "text": [
            "검증 평균 손실: 4.3156, 혼잡도: 74.86\n",
            "generate_text를 사용하여 문맥을 기반으로 텍스트 생성:\n",
            "\n",
            "\n",
            "문맥: Moscow\n",
            "\n",
            "생성된 텍스트: Moscow 's new manager , who has been accused of the murder of the murder of the murder of the murder of the murderer . ' ' I 'm not sure what happened . ' '' he said . ' I 'm not sure what he is\n",
            "\n",
            "문맥: New York\n",
            "\n",
            "생성된 텍스트: New York City Council said the `` <rare> '' of the `` <rare> '' . '' 'The FBI said . '## . '' ' I 'm not sure what it is . ' '' he said . ' I 'm not sure what\n",
            "\n",
            "문맥: A hurricane\n",
            "\n",
            "생성된 텍스트: A hurricane is not a problem with the . '' `` The most important part of the world , '' he said . ' '' I 'm not sure what he is doing . '' 's a good friend . ' '' I 'm not sure what he is\n"
          ]
        },
        {
          "output_type": "stream",
          "name": "stderr",
          "text": [
            "에포크 1/1:  73%|███████▎  | 125041/172148 [2:40:55<3:38:01,  3.60it/s, loss=4.3885]"
          ]
        },
        {
          "output_type": "stream",
          "name": "stdout",
          "text": [
            "\n",
            "문맥: The President\n",
            "\n",
            "생성된 텍스트: The Presidential candidate , who has been accused of the murder of the murder of the murder of the murder of the murder of the murder of the murder of the ##-year-old , was arrested on suspicion of murder . ' ' I 'm not\n"
          ]
        },
        {
          "output_type": "stream",
          "name": "stderr",
          "text": [
            "에포크 1/1:  74%|███████▎  | 126601/172148 [2:42:55<56:44, 13.38it/s, loss=4.3420]"
          ]
        },
        {
          "output_type": "stream",
          "name": "stdout",
          "text": [
            "\n",
            "200064 샘플 처리 후, 평균 손실: 4.3392\n"
          ]
        },
        {
          "output_type": "stream",
          "name": "stderr",
          "text": [
            "\n",
            "평가 중:   0%|          | 0/3514 [00:00<?, ?it/s]\u001b[A\n",
            "평가 중:   0%|          | 3/3514 [00:00<02:18, 25.40it/s]\u001b[A\n",
            "평가 중:   0%|          | 6/3514 [00:00<02:15, 25.98it/s]\u001b[A\n",
            "                                                         \u001b[A"
          ]
        },
        {
          "output_type": "stream",
          "name": "stdout",
          "text": [
            "검증 평균 손실: 4.2968, 혼잡도: 73.47\n",
            "generate_text를 사용하여 문맥을 기반으로 텍스트 생성:\n",
            "\n",
            "\n",
            "문맥: Moscow\n",
            "\n",
            "생성된 텍스트: Moscow 's <rare> , which is the first of the most recent years , the government has been working on the UK 's most important country . '' 's . '' 's not a .##-caliber pistol . '' 's\n",
            "\n",
            "문맥: New York\n",
            "\n",
            "생성된 텍스트: New York City , the first of the ##-year-old , was arrested in #### , and the police were found guilty of murdering the suspects . ' ' I 'm not going to be able to get it . ' '' I 'm not\n",
            "\n",
            "문맥: A hurricane\n",
            "\n",
            "생성된 텍스트: A hurricane is the first-half-year-old 's most of the world 's most famous . '' 's the first time he was . ' '' he said . ' I 'm not going to be able to get it . ' '' I\n"
          ]
        },
        {
          "output_type": "stream",
          "name": "stderr",
          "text": [
            "에포크 1/1:  74%|███████▎  | 126605/172148 [2:42:57<2:45:09,  4.60it/s, loss=4.3144]"
          ]
        },
        {
          "output_type": "stream",
          "name": "stdout",
          "text": [
            "\n",
            "문맥: The President\n",
            "\n",
            "생성된 텍스트: The President 's decision is not the first time that the government is not the first time . '' 's not to be a `` a ' '' of the `` <rare> '' . '' 's not to be a `` a ' '' of the ``\n"
          ]
        },
        {
          "output_type": "stream",
          "name": "stderr",
          "text": [
            "에포크 1/1:  74%|███████▍  | 128165/172148 [2:44:58<55:42, 13.16it/s, loss=4.2795]"
          ]
        },
        {
          "output_type": "stream",
          "name": "stdout",
          "text": [
            "\n",
            "200064 샘플 처리 후, 평균 손실: 4.3358\n"
          ]
        },
        {
          "output_type": "stream",
          "name": "stderr",
          "text": [
            "\n",
            "평가 중:   0%|          | 0/3514 [00:00<?, ?it/s]\u001b[A\n",
            "평가 중:   0%|          | 3/3514 [00:00<02:16, 25.75it/s]\u001b[A\n",
            "평가 중:   0%|          | 6/3514 [00:00<02:14, 26.08it/s]\u001b[A\n",
            "                                                         \u001b[A"
          ]
        },
        {
          "output_type": "stream",
          "name": "stdout",
          "text": [
            "검증 평균 손실: 4.2990, 혼잡도: 73.62\n",
            "generate_text를 사용하여 문맥을 기반으로 텍스트 생성:\n",
            "\n",
            "\n",
            "문맥: Moscow\n",
            "\n",
            "생성된 텍스트: Moscow has been charged with the murder of the ##-year-old man , who was arrested on suspicion of murder . ' ' I 'm not going to be a good thing . ' '' I 'm not going to be a good thing .\n",
            "\n",
            "문맥: New York\n",
            "\n",
            "생성된 텍스트: New York City Council said the company has been a `` significant amount of money '' . '' ' I 'm not going to do . '' ' I 'm not going to be . ' '' I 'm not going to be a good thing . ' ''\n",
            "\n",
            "문맥: A hurricane\n",
            "\n",
            "생성된 텍스트: A hurricane is the first to be a popular destination for the world 's largest city . '' `` The most importantly '' . '' `` The most importantly '' . '' `` I 'm not going to be a good player . '' ' I 'm\n"
          ]
        },
        {
          "output_type": "stream",
          "name": "stderr",
          "text": [
            "에포크 1/1:  74%|███████▍  | 128167/172148 [2:45:00<3:23:19,  3.61it/s, loss=4.4115]"
          ]
        },
        {
          "output_type": "stream",
          "name": "stdout",
          "text": [
            "\n",
            "문맥: The President\n",
            "\n",
            "생성된 텍스트: The President 's office said the government has been a `` significant contribution '' . '' ' I 'm not going to do . '' ' I 'm not going to do . '' ' I 'm not going to be . ' '' I 'm not\n"
          ]
        },
        {
          "output_type": "stream",
          "name": "stderr",
          "text": [
            "에포크 1/1:  75%|███████▌  | 129727/172148 [2:47:00<1:02:21, 11.34it/s, loss=4.3799]"
          ]
        },
        {
          "output_type": "stream",
          "name": "stdout",
          "text": [
            "\n",
            "200064 샘플 처리 후, 평균 손실: 4.3339\n"
          ]
        },
        {
          "output_type": "stream",
          "name": "stderr",
          "text": [
            "\n",
            "평가 중:   0%|          | 0/3514 [00:00<?, ?it/s]\u001b[A\n",
            "평가 중:   0%|          | 2/3514 [00:00<03:03, 19.10it/s]\u001b[A\n",
            "평가 중:   0%|          | 4/3514 [00:00<03:05, 18.92it/s]\u001b[A\n",
            "평가 중:   0%|          | 6/3514 [00:00<03:07, 18.69it/s]\u001b[A\n",
            "                                                         \u001b[A"
          ]
        },
        {
          "output_type": "stream",
          "name": "stdout",
          "text": [
            "검증 평균 손실: 4.3013, 혼잡도: 73.79\n",
            "generate_text를 사용하여 문맥을 기반으로 텍스트 생성:\n",
            "\n",
            "\n",
            "문맥: Moscow\n",
            "\n",
            "생성된 텍스트: Moscow 's chief executive of the EU will be the first time in the UK . '' 's a good chance to get the chance to win the title . '' ' I think it 's not a good job . '' 's not to be a\n",
            "\n",
            "문맥: New York\n",
            "\n",
            "생성된 텍스트: New York City 's chief executive said the government is not the case . '' 'We are not going to be a good way . '' 's not to be a good job . '' 's not to be a good job . '' 's not to\n",
            "\n",
            "문맥: A hurricane\n",
            "\n",
            "생성된 텍스트: A hurricane is the first major of the world 's most popularity of the world . '' 's a statement . ' '' `` We are not going to be a good way . '' 's not to be a good job . '' 's not to\n"
          ]
        },
        {
          "output_type": "stream",
          "name": "stderr",
          "text": [
            "에포크 1/1:  75%|███████▌  | 129731/172148 [2:47:02<2:58:21,  3.96it/s, loss=4.2850]"
          ]
        },
        {
          "output_type": "stream",
          "name": "stdout",
          "text": [
            "\n",
            "문맥: The President\n",
            "\n",
            "생성된 텍스트: The President 's comments were `` very important '' to be the first time . '' 's not to be a good job . '' 's not to be a good job . '' 's not to be a good job . '' 's not to be\n"
          ]
        },
        {
          "output_type": "stream",
          "name": "stderr",
          "text": [
            "에포크 1/1:  76%|███████▋  | 131291/172148 [2:49:03<55:30, 12.27it/s, loss=4.3386]"
          ]
        },
        {
          "output_type": "stream",
          "name": "stdout",
          "text": [
            "\n",
            "200064 샘플 처리 후, 평균 손실: 4.3282\n"
          ]
        },
        {
          "output_type": "stream",
          "name": "stderr",
          "text": [
            "\n",
            "평가 중:   0%|          | 0/3514 [00:00<?, ?it/s]\u001b[A\n",
            "평가 중:   0%|          | 2/3514 [00:00<03:08, 18.65it/s]\u001b[A\n",
            "평가 중:   0%|          | 4/3514 [00:00<03:07, 18.72it/s]\u001b[A\n",
            "평가 중:   0%|          | 7/3514 [00:00<02:54, 20.05it/s]\u001b[A\n",
            "                                                         \u001b[A"
          ]
        },
        {
          "output_type": "stream",
          "name": "stdout",
          "text": [
            "검증 평균 손실: 4.2968, 혼잡도: 73.46\n",
            "generate_text를 사용하여 문맥을 기반으로 텍스트 생성:\n",
            "\n",
            "\n",
            "문맥: Moscow\n",
            "\n",
            "생성된 텍스트: Moscow 's newest-half is a new generation of the world 's most popular destinations . '' 's a new . '' `` I think it 's a very good news . '' 's not a good person . '' 's a\n",
            "\n",
            "문맥: New York\n",
            "\n",
            "생성된 텍스트: New York City 's first-half strike was a ##-year-old man in the second half . '' ' I 'm not a good person . '' ' I 'm not sure . ' '' I 'm not going to do . '' '\n",
            "\n",
            "문맥: A hurricane\n",
            "\n",
            "생성된 텍스트: A hurricane is the first time the ##-year-old was a ##-year-old man who was killed in the attack . ' '' It was a `` very important step forward to the public '' . ' '' It 's not a `` a very\n"
          ]
        },
        {
          "output_type": "stream",
          "name": "stderr",
          "text": [
            "에포크 1/1:  76%|███████▋  | 131293/172148 [2:49:05<4:38:34,  2.44it/s, loss=4.1291]"
          ]
        },
        {
          "output_type": "stream",
          "name": "stdout",
          "text": [
            "\n",
            "문맥: The President\n",
            "\n",
            "생성된 텍스트: The President 's office said the government is not the first time to be the first time to be the first time . '' ' I 'm not going to do . '' ' I 'm not sure . ' '' I 'm not going to do .\n"
          ]
        },
        {
          "output_type": "stream",
          "name": "stderr",
          "text": [
            "에포크 1/1:  77%|███████▋  | 132853/172148 [2:51:07<48:05, 13.62it/s, loss=4.2722]"
          ]
        },
        {
          "output_type": "stream",
          "name": "stdout",
          "text": [
            "\n",
            "200064 샘플 처리 후, 평균 손실: 4.3340\n"
          ]
        },
        {
          "output_type": "stream",
          "name": "stderr",
          "text": [
            "\n",
            "평가 중:   0%|          | 0/3514 [00:00<?, ?it/s]\u001b[A\n",
            "평가 중:   0%|          | 3/3514 [00:00<02:18, 25.44it/s]\u001b[A\n",
            "평가 중:   0%|          | 6/3514 [00:00<02:15, 25.84it/s]\u001b[A\n",
            "                                                         \u001b[A"
          ]
        },
        {
          "output_type": "stream",
          "name": "stdout",
          "text": [
            "검증 평균 손실: 4.2952, 혼잡도: 73.35\n",
            "generate_text를 사용하여 문맥을 기반으로 텍스트 생성:\n",
            "\n",
            "\n",
            "문맥: Moscow\n",
            "\n",
            "생성된 텍스트: Moscow has been a very good news . '' . ' '' It 's not going to be a good idea . '' ' I 'm not going to be a good player . '' . '## . ) . '' 's a good news . '\n",
            "\n",
            "문맥: New York\n",
            "\n",
            "생성된 텍스트: New York City Council said the government has not been able to make a statement on the issue . '' `` I 'm not going to be a good idea . '' . ' '' It 's not going to be a good idea . '' ' I 'm\n",
            "\n",
            "문맥: A hurricane\n",
            "\n",
            "생성된 텍스트: A hurricane is not the first time the country 's most popularity of the world 's most popularity of the world 's most popularity of the world 's most popularity of the world 's most popularity of the world 's most\n"
          ]
        },
        {
          "output_type": "stream",
          "name": "stderr",
          "text": [
            "에포크 1/1:  77%|███████▋  | 132857/172148 [2:51:08<2:48:24,  3.89it/s, loss=4.3887]"
          ]
        },
        {
          "output_type": "stream",
          "name": "stdout",
          "text": [
            "\n",
            "문맥: The President\n",
            "\n",
            "생성된 텍스트: The President 's office said the government has not been able to make a statement on the Senate . ' '' It 's not going to be a good idea . '' . ' '' It 's not going to be a good idea . '' ' I '\n"
          ]
        },
        {
          "output_type": "stream",
          "name": "stderr",
          "text": [
            "에포크 1/1:  78%|███████▊  | 134417/172148 [2:53:09<46:35, 13.50it/s, loss=4.4761]"
          ]
        },
        {
          "output_type": "stream",
          "name": "stdout",
          "text": [
            "\n",
            "200064 샘플 처리 후, 평균 손실: 4.3301\n"
          ]
        },
        {
          "output_type": "stream",
          "name": "stderr",
          "text": [
            "\n",
            "평가 중:   0%|          | 0/3514 [00:00<?, ?it/s]\u001b[A\n",
            "평가 중:   0%|          | 3/3514 [00:00<02:18, 25.37it/s]\u001b[A\n",
            "평가 중:   0%|          | 6/3514 [00:00<02:16, 25.76it/s]\u001b[A\n",
            "                                                         \u001b[A"
          ]
        },
        {
          "output_type": "stream",
          "name": "stdout",
          "text": [
            "검증 평균 손실: 4.2986, 혼잡도: 73.60\n",
            "generate_text를 사용하여 문맥을 기반으로 텍스트 생성:\n",
            "\n",
            "\n",
            "문맥: Moscow\n",
            "\n",
            "생성된 텍스트: Moscow has been a `` very good '' and `` the most important thing , '' he said . ' '' It 's not a `` a very good '' . '' ' I 'm not going to be a bit of a bad thing . '' ' I\n",
            "\n",
            "문맥: New York\n",
            "\n",
            "생성된 텍스트: New York City Council has been charged with the murder of the ##-year-old boy , who was killed in the attack . ' '' I 'm not going to be a bit of a bad person . ' '' I 'm not going to be a\n",
            "\n",
            "문맥: A hurricane\n",
            "\n",
            "생성된 텍스트: A hurricane is the most common way to the region . '' 's a statement . ' '' he said . ' I think it 's not a good thing . '' ' I think it 's not going to be a good player . '' ' I think\n"
          ]
        },
        {
          "output_type": "stream",
          "name": "stderr",
          "text": [
            "에포크 1/1:  78%|███████▊  | 134419/172148 [2:53:11<2:57:28,  3.54it/s, loss=4.3870]"
          ]
        },
        {
          "output_type": "stream",
          "name": "stdout",
          "text": [
            "\n",
            "문맥: The President\n",
            "\n",
            "생성된 텍스트: The President 's most important question is that the country 's most important country is to be a very important part of the country . '' 's a little bit of a bad foul . '' 's a little bit of a bad foul . ''\n"
          ]
        },
        {
          "output_type": "stream",
          "name": "stderr",
          "text": [
            "에포크 1/1:  79%|███████▉  | 135979/172148 [2:55:13<44:55, 13.42it/s, loss=4.3559]"
          ]
        },
        {
          "output_type": "stream",
          "name": "stdout",
          "text": [
            "\n",
            "200064 샘플 처리 후, 평균 손실: 4.3310\n"
          ]
        },
        {
          "output_type": "stream",
          "name": "stderr",
          "text": [
            "\n",
            "평가 중:   0%|          | 0/3514 [00:00<?, ?it/s]\u001b[A\n",
            "평가 중:   0%|          | 3/3514 [00:00<02:22, 24.57it/s]\u001b[A\n",
            "평가 중:   0%|          | 6/3514 [00:00<02:20, 25.05it/s]\u001b[A\n",
            "                                                         \u001b[A"
          ]
        },
        {
          "output_type": "stream",
          "name": "stdout",
          "text": [
            "검증 평균 손실: 4.3060, 혼잡도: 74.14\n",
            "generate_text를 사용하여 문맥을 기반으로 텍스트 생성:\n",
            "\n",
            "\n",
            "문맥: Moscow\n",
            "\n",
            "생성된 텍스트: Moscow has been a `` very important thing to be the most important thing . '' 's a statement . ' '' It was a `` a very good news . '' 's a statement . ' '' It was a `` a very good news . '' '\n",
            "\n",
            "문맥: New York\n",
            "\n",
            "생성된 텍스트: New York City Council said : 'We are not sure that the government is not the case . '' 'We are not sure . ' '' I 'm not a good thing . ' '' I 'm not a good thing . ' '' I 'm a\n",
            "\n",
            "문맥: A hurricane\n",
            "\n",
            "생성된 텍스트: A hurricane is not the only way to get a lot of people . ' '' I 'm a 'tireless ' . ' '' I 'm a 'murder ' . ' I 'm sure . ' '' I 'm not a good\n"
          ]
        },
        {
          "output_type": "stream",
          "name": "stderr",
          "text": [
            "에포크 1/1:  79%|███████▉  | 135983/172148 [2:55:14<2:12:38,  4.54it/s, loss=4.3531]"
          ]
        },
        {
          "output_type": "stream",
          "name": "stdout",
          "text": [
            "\n",
            "문맥: The President\n",
            "\n",
            "생성된 텍스트: The President said : 'We are not sure that the government is not the case . '' 'We are not sure . ' '' I 'm not a good thing . ' '' I 'm not a good thing . ' '' I 'm not a good\n"
          ]
        },
        {
          "output_type": "stream",
          "name": "stderr",
          "text": [
            "에포크 1/1:  80%|███████▉  | 137543/172148 [2:57:16<42:55, 13.44it/s, loss=4.2827]"
          ]
        },
        {
          "output_type": "stream",
          "name": "stdout",
          "text": [
            "\n",
            "200064 샘플 처리 후, 평균 손실: 4.3286\n"
          ]
        },
        {
          "output_type": "stream",
          "name": "stderr",
          "text": [
            "\n",
            "평가 중:   0%|          | 0/3514 [00:00<?, ?it/s]\u001b[A\n",
            "평가 중:   0%|          | 3/3514 [00:00<02:20, 25.06it/s]\u001b[A\n",
            "평가 중:   0%|          | 6/3514 [00:00<02:16, 25.77it/s]\u001b[A\n",
            "                                                         \u001b[A"
          ]
        },
        {
          "output_type": "stream",
          "name": "stdout",
          "text": [
            "검증 평균 손실: 4.2972, 혼잡도: 73.49\n",
            "generate_text를 사용하여 문맥을 기반으로 텍스트 생성:\n",
            "\n",
            "\n",
            "문맥: Moscow\n",
            "\n",
            "생성된 텍스트: Moscow has been a long-term deal , which is the first time . '' 'We are not going to be able to get the best way to get the best way to get the best way to get the best way to get the best way to get\n",
            "\n",
            "문맥: New York\n",
            "\n",
            "생성된 텍스트: New York City Council said the government has been a `` significant amount of money to ensure that the government is not the case . '' 's CNN affiliate WTVR .### . ) . '' `` I 'm not going to be a good thing\n",
            "\n",
            "문맥: A hurricane\n",
            "\n",
            "생성된 텍스트: A hurricane is the first time in the world . '' 's ##-year-old . ' '' I 've been able to get a lot of money . ' '' he said . ' I 'm not going to be a good thing . '' '\n"
          ]
        },
        {
          "output_type": "stream",
          "name": "stderr",
          "text": [
            "에포크 1/1:  80%|███████▉  | 137545/172148 [2:57:18<2:43:42,  3.52it/s, loss=4.4972]"
          ]
        },
        {
          "output_type": "stream",
          "name": "stdout",
          "text": [
            "\n",
            "문맥: The President\n",
            "\n",
            "생성된 텍스트: The President 's comments were `` a very good newsletter to get a very good newsletter to get the best . '' . ' '' It 's not the case . '' 'We 're not going to be able to do it . '' 's\n"
          ]
        },
        {
          "output_type": "stream",
          "name": "stderr",
          "text": [
            "에포크 1/1:  81%|████████  | 139105/172148 [2:59:20<40:34, 13.57it/s, loss=4.4637]"
          ]
        },
        {
          "output_type": "stream",
          "name": "stdout",
          "text": [
            "\n",
            "200064 샘플 처리 후, 평균 손실: 4.3278\n"
          ]
        },
        {
          "output_type": "stream",
          "name": "stderr",
          "text": [
            "\n",
            "평가 중:   0%|          | 0/3514 [00:00<?, ?it/s]\u001b[A\n",
            "평가 중:   0%|          | 3/3514 [00:00<02:31, 23.20it/s]\u001b[A\n",
            "평가 중:   0%|          | 6/3514 [00:00<02:21, 24.71it/s]\u001b[A\n",
            "                                                         \u001b[A"
          ]
        },
        {
          "output_type": "stream",
          "name": "stdout",
          "text": [
            "검증 평균 손실: 4.2951, 혼잡도: 73.34\n",
            "generate_text를 사용하여 문맥을 기반으로 텍스트 생성:\n",
            "\n",
            "\n",
            "문맥: Moscow\n",
            "\n",
            "생성된 텍스트: Moscow has been in the country , and the country 's largest cities in the world . '' 'We 're going to be a big part of the game . '' 's . '' ' I 'm not going to be . ' '' he said\n",
            "\n",
            "문맥: New York\n",
            "\n",
            "생성된 텍스트: New York City 's chief executive of the EU , which is the only country , has been in the country . '' 's official statement . ' '' he said . ' I 'm not going to be . ' '' he said . ' I 'm\n",
            "\n",
            "문맥: A hurricane\n",
            "\n",
            "생성된 텍스트: A hurricane is not the only way to get the best way to get the best . '' 's a big deal . ' '' he said . ' I 'm not going to be . ' '' he said . ' I 'm not going to be .\n"
          ]
        },
        {
          "output_type": "stream",
          "name": "stderr",
          "text": [
            "에포크 1/1:  81%|████████  | 139109/172148 [2:59:21<2:00:28,  4.57it/s, loss=4.3694]"
          ]
        },
        {
          "output_type": "stream",
          "name": "stdout",
          "text": [
            "\n",
            "문맥: The President\n",
            "\n",
            "생성된 텍스트: The President 's office said the government would not be able to use the government to be a `` very important issue . '' 's . '' `` I said . '' ' I 'm not going to be . ' '' he said . ' I 'm\n"
          ]
        },
        {
          "output_type": "stream",
          "name": "stderr",
          "text": [
            "에포크 1/1:  82%|████████▏ | 140669/172148 [3:01:24<39:43, 13.21it/s, loss=4.3842]"
          ]
        },
        {
          "output_type": "stream",
          "name": "stdout",
          "text": [
            "\n",
            "200064 샘플 처리 후, 평균 손실: 4.3273\n"
          ]
        },
        {
          "output_type": "stream",
          "name": "stderr",
          "text": [
            "\n",
            "평가 중:   0%|          | 0/3514 [00:00<?, ?it/s]\u001b[A\n",
            "평가 중:   0%|          | 3/3514 [00:00<02:21, 24.77it/s]\u001b[A\n",
            "평가 중:   0%|          | 6/3514 [00:00<02:18, 25.28it/s]\u001b[A\n",
            "                                                         \u001b[A"
          ]
        },
        {
          "output_type": "stream",
          "name": "stdout",
          "text": [
            "검증 평균 손실: 4.3019, 혼잡도: 73.84\n",
            "generate_text를 사용하여 문맥을 기반으로 텍스트 생성:\n",
            "\n",
            "\n",
            "문맥: Moscow\n",
            "\n",
            "생성된 텍스트: Moscow has been charged with the death penalty . ' '' he said . ' I 'm not going to be able to do it . ' '' he said . ' I 'm not going to be able to do . ' '' he said . ' I\n",
            "\n",
            "문맥: New York\n",
            "\n",
            "생성된 텍스트: New York City 's website is a new version of the new iPhone #S . '## . ' '' he said . ' I 'm not going to be able to do . ' '' he said . ' I 'm not going to be able to\n",
            "\n",
            "문맥: A hurricane\n",
            "\n",
            "생성된 텍스트: A hurricane is not the first time the U.S. government is not the first time . '' 'We are not going to be able to do it . '' 's not a .##-caliber . ' '' he said . ' I 'm\n"
          ]
        },
        {
          "output_type": "stream",
          "name": "stderr",
          "text": [
            "에포크 1/1:  82%|████████▏ | 140671/172148 [3:01:25<2:29:35,  3.51it/s, loss=4.3090]"
          ]
        },
        {
          "output_type": "stream",
          "name": "stdout",
          "text": [
            "\n",
            "문맥: The President\n",
            "\n",
            "생성된 텍스트: The President 's office is not the first time that the government has been in the country . '' 's a statement . ' '' he said . ' '' he said . ' I 'm not going to be able to do . ' '' he said .\n"
          ]
        },
        {
          "output_type": "stream",
          "name": "stderr",
          "text": [
            "에포크 1/1:  83%|████████▎ | 142231/172148 [3:03:28<39:42, 12.56it/s, loss=4.3483]"
          ]
        },
        {
          "output_type": "stream",
          "name": "stdout",
          "text": [
            "\n",
            "200064 샘플 처리 후, 평균 손실: 4.3269\n"
          ]
        },
        {
          "output_type": "stream",
          "name": "stderr",
          "text": [
            "\n",
            "평가 중:   0%|          | 0/3514 [00:00<?, ?it/s]\u001b[A\n",
            "평가 중:   0%|          | 3/3514 [00:00<02:20, 25.05it/s]\u001b[A\n",
            "평가 중:   0%|          | 6/3514 [00:00<02:22, 24.68it/s]\u001b[A\n",
            "                                                         \u001b[A"
          ]
        },
        {
          "output_type": "stream",
          "name": "stdout",
          "text": [
            "검증 평균 손실: 4.2955, 혼잡도: 73.37\n",
            "generate_text를 사용하여 문맥을 기반으로 텍스트 생성:\n",
            "\n",
            "\n",
            "문맥: Moscow\n",
            "\n",
            "생성된 텍스트: Moscow has been a very important role in the world 's most importantly , '' he said . ' I think it 's not a good idea . '' ' I think it 's not a good idea . '' ' I think it 's not\n",
            "\n",
            "문맥: New York\n",
            "\n",
            "생성된 텍스트: New York City 's ##-year-old was a bit of a big surprise . ' '' he said . ' I think it 's not a good idea . '' ' I think it 's not a good idea . '' ' I think it '\n",
            "\n",
            "문맥: A hurricane\n",
            "\n",
            "생성된 텍스트: A hurricane is the first time the ##-year-old is a big fan of the world . ' '' he said . ' I think it 's not a good idea . '' ' I think it 's not a good idea . '' ' I think\n"
          ]
        },
        {
          "output_type": "stream",
          "name": "stderr",
          "text": [
            "에포크 1/1:  83%|████████▎ | 142235/172148 [3:03:29<1:52:25,  4.43it/s, loss=4.2957]"
          ]
        },
        {
          "output_type": "stream",
          "name": "stdout",
          "text": [
            "\n",
            "문맥: The President\n",
            "\n",
            "생성된 텍스트: The President 's office has been charged with the murder of the murder of the murder of the murder of the murder of the murder of the murder of the murder of the murder of the murder of the murder of the murder of the murder of the murder of the\n"
          ]
        },
        {
          "output_type": "stream",
          "name": "stderr",
          "text": [
            "에포크 1/1:  84%|████████▎ | 143795/172148 [3:05:32<41:10, 11.48it/s, loss=4.3509]"
          ]
        },
        {
          "output_type": "stream",
          "name": "stdout",
          "text": [
            "\n",
            "200064 샘플 처리 후, 평균 손실: 4.3245\n"
          ]
        },
        {
          "output_type": "stream",
          "name": "stderr",
          "text": [
            "\n",
            "평가 중:   0%|          | 0/3514 [00:00<?, ?it/s]\u001b[A\n",
            "평가 중:   0%|          | 3/3514 [00:00<02:24, 24.29it/s]\u001b[A\n",
            "평가 중:   0%|          | 6/3514 [00:00<02:21, 24.81it/s]\u001b[A\n",
            "                                                         \u001b[A"
          ]
        },
        {
          "output_type": "stream",
          "name": "stdout",
          "text": [
            "검증 평균 손실: 4.2971, 혼잡도: 73.49\n",
            "generate_text를 사용하여 문맥을 기반으로 텍스트 생성:\n",
            "\n",
            "\n",
            "문맥: Moscow\n",
            "\n",
            "생성된 텍스트: Moscow has been in the midst of a new era of the world . '' 'We are not sure to be the first time . '' ' I 'm not sure . ' '' he said . ' I 'm not sure . ' '' he said .\n",
            "\n",
            "문맥: New York\n",
            "\n",
            "생성된 텍스트: New York City Council has been charged with the charges against the charges against the government . ' '' he said . ' '' he said . ' I 'm not sure . ' '' he said . ' I 'm not sure . ' '' he said . '\n",
            "\n",
            "문맥: A hurricane\n",
            "\n",
            "생성된 텍스트: A hurricane is the first time the world 's largest city . '' is a `` a very important part of the world . '' ' I 've been in the world . '' ' I 'm sure it 's a good thing . ' '' I '\n"
          ]
        },
        {
          "output_type": "stream",
          "name": "stderr",
          "text": [
            "에포크 1/1:  84%|████████▎ | 143797/172148 [3:05:33<2:18:28,  3.41it/s, loss=4.3445]"
          ]
        },
        {
          "output_type": "stream",
          "name": "stdout",
          "text": [
            "\n",
            "문맥: The President\n",
            "\n",
            "생성된 텍스트: The President 's comments were `` a lot of people '' and `` the most importantly of the world '' . ' '' A spokesman for the U.S. official said . ' '' A spokesman for the U.S. official said\n"
          ]
        },
        {
          "output_type": "stream",
          "name": "stderr",
          "text": [
            "에포크 1/1:  84%|████████▍ | 145357/172148 [3:07:37<40:32, 11.02it/s, loss=4.2483]"
          ]
        },
        {
          "output_type": "stream",
          "name": "stdout",
          "text": [
            "\n",
            "200064 샘플 처리 후, 평균 손실: 4.3263\n"
          ]
        },
        {
          "output_type": "stream",
          "name": "stderr",
          "text": [
            "\n",
            "평가 중:   0%|          | 0/3514 [00:00<?, ?it/s]\u001b[A\n",
            "평가 중:   0%|          | 2/3514 [00:00<03:36, 16.23it/s]\u001b[A\n",
            "평가 중:   0%|          | 4/3514 [00:00<03:21, 17.45it/s]\u001b[A\n",
            "평가 중:   0%|          | 6/3514 [00:00<03:15, 17.97it/s]\u001b[A\n",
            "                                                         \u001b[A"
          ]
        },
        {
          "output_type": "stream",
          "name": "stdout",
          "text": [
            "검증 평균 손실: 4.2958, 혼잡도: 73.39\n",
            "generate_text를 사용하여 문맥을 기반으로 텍스트 생성:\n",
            "\n",
            "\n",
            "문맥: Moscow\n",
            "\n",
            "생성된 텍스트: Moscow has been in the world , the most popularity of the world 's most popularity of the world 's most popularity of the world 's most popularity of the world 's most popularity of the world 's most popularity\n",
            "\n",
            "문맥: New York\n",
            "\n",
            "생성된 텍스트: New York City 's first-half-year-old son was in the second half . '' ' I 'm not sure that it is not the case . ' '' I 'm not sure . ' '' he said . ' ' I 'm not\n",
            "\n",
            "문맥: A hurricane\n",
            "\n",
            "생성된 텍스트: A hurricane is the first time in the world . '' ' I 'm not sure . ' '' I 'm not sure . ' '' he said . ' ' I 'm not sure what I 've been in the world . ' '' I 'm\n"
          ]
        },
        {
          "output_type": "stream",
          "name": "stderr",
          "text": [
            "에포크 1/1:  84%|████████▍ | 145361/172148 [3:07:38<1:50:44,  4.03it/s, loss=4.4950]"
          ]
        },
        {
          "output_type": "stream",
          "name": "stdout",
          "text": [
            "\n",
            "문맥: The President\n",
            "\n",
            "생성된 텍스트: The President 's comments were `` a very strong '' of the `` unfortunate '' of the `` a ' '' of the `` a ' '' of the `` a ' '' of the `` a ' '' of the `` a ' '' of the `` a\n"
          ]
        },
        {
          "output_type": "stream",
          "name": "stderr",
          "text": [
            "에포크 1/1:  85%|████████▌ | 146921/172148 [3:09:41<37:24, 11.24it/s, loss=4.3043]"
          ]
        },
        {
          "output_type": "stream",
          "name": "stdout",
          "text": [
            "\n",
            "200064 샘플 처리 후, 평균 손실: 4.3265\n"
          ]
        },
        {
          "output_type": "stream",
          "name": "stderr",
          "text": [
            "\n",
            "평가 중:   0%|          | 0/3514 [00:00<?, ?it/s]\u001b[A\n",
            "평가 중:   0%|          | 2/3514 [00:00<03:02, 19.24it/s]\u001b[A\n",
            "평가 중:   0%|          | 4/3514 [00:00<03:01, 19.34it/s]\u001b[A\n",
            "평가 중:   0%|          | 6/3514 [00:00<03:08, 18.56it/s]\u001b[A\n",
            "                                                         \u001b[A"
          ]
        },
        {
          "output_type": "stream",
          "name": "stdout",
          "text": [
            "검증 평균 손실: 4.2979, 혼잡도: 73.54\n",
            "generate_text를 사용하여 문맥을 기반으로 텍스트 생성:\n",
            "\n",
            "\n",
            "문맥: Moscow\n",
            "\n",
            "생성된 텍스트: Moscow has been in the midst of a series of protests in the U.S. State Department . '' `` We 're not going to be a good thing . '' ' I 'm not going to do . '' ' I 'm not going\n",
            "\n",
            "문맥: New York\n",
            "\n",
            "생성된 텍스트: New York City Council said the ##-year-old was a `` very good '' of the 's 's 's 's ' . ' '' The official said . '## . '## . '## . ' I 'm not going to be\n",
            "\n",
            "문맥: A hurricane\n",
            "\n",
            "생성된 텍스트: A hurricane is the first time the first-half result in the first half of the season . '' 's a .##-caliber rifle . '' ' I 'm not going to do . ' '' I 'm not going to do . '\n"
          ]
        },
        {
          "output_type": "stream",
          "name": "stderr",
          "text": [
            "에포크 1/1:  85%|████████▌ | 146923/172148 [3:09:43<2:38:45,  2.65it/s, loss=4.4357]"
          ]
        },
        {
          "output_type": "stream",
          "name": "stdout",
          "text": [
            "\n",
            "문맥: The President\n",
            "\n",
            "생성된 텍스트: The President 's ##-year-old son was killed in the attack . '' 'The .##-caliber rifle . ) . ' '' A woman was arrested . '## . '## . '## . '## . ' I 'm\n"
          ]
        },
        {
          "output_type": "stream",
          "name": "stderr",
          "text": [
            "에포크 1/1:  86%|████████▋ | 148483/172148 [3:11:45<34:24, 11.46it/s, loss=4.2952]"
          ]
        },
        {
          "output_type": "stream",
          "name": "stdout",
          "text": [
            "\n",
            "200064 샘플 처리 후, 평균 손실: 4.3227\n"
          ]
        },
        {
          "output_type": "stream",
          "name": "stderr",
          "text": [
            "\n",
            "평가 중:   0%|          | 0/3514 [00:00<?, ?it/s]\u001b[A\n",
            "평가 중:   0%|          | 2/3514 [00:00<03:27, 16.93it/s]\u001b[A\n",
            "평가 중:   0%|          | 4/3514 [00:00<03:22, 17.30it/s]\u001b[A\n",
            "평가 중:   0%|          | 7/3514 [00:00<03:06, 18.83it/s]\u001b[A\n",
            "                                                         \u001b[A"
          ]
        },
        {
          "output_type": "stream",
          "name": "stdout",
          "text": [
            "검증 평균 손실: 4.2991, 혼잡도: 73.63\n",
            "generate_text를 사용하여 문맥을 기반으로 텍스트 생성:\n",
            "\n",
            "\n",
            "문맥: Moscow\n",
            "\n",
            "생성된 텍스트: Moscow 's chief executive of the U.S. military has been charged with the death of the ##-year-old 's attack on the . ' '' It was a `` very serious '' of the `` terrorist '' . '' ' I '\n",
            "\n",
            "문맥: New York\n",
            "\n",
            "생성된 텍스트: New York City 's first-team squad is the first time in the world . '' ' I 'm not going to be a good player . '' 's not a good thing . '' ' I 'm not going to be a good player . ''\n",
            "\n",
            "문맥: A hurricane\n",
            "\n",
            "생성된 텍스트: A hurricane is the first time the world 's most popular tourist destination is a popular destination for the world . ' '' It was a `` a very good way to get the best . '' 's a statement . ' '' he said . ' '' It\n"
          ]
        },
        {
          "output_type": "stream",
          "name": "stderr",
          "text": [
            "에포크 1/1:  86%|████████▋ | 148486/172148 [3:11:47<2:23:21,  2.75it/s, loss=4.2981]"
          ]
        },
        {
          "output_type": "stream",
          "name": "stdout",
          "text": [
            "\n",
            "문맥: The President\n",
            "\n",
            "생성된 텍스트: The President 's decision to be a `` terrorist '' and `` the most important thing , '' he said . ' '' `` I 'm not going to be a big fan of the world . '' 's a statement . ' '' he said . '\n"
          ]
        },
        {
          "output_type": "stream",
          "name": "stderr",
          "text": [
            "에포크 1/1:  87%|████████▋ | 150046/172148 [3:13:49<27:56, 13.18it/s, loss=4.4034]"
          ]
        },
        {
          "output_type": "stream",
          "name": "stdout",
          "text": [
            "\n",
            "200064 샘플 처리 후, 평균 손실: 4.3212\n"
          ]
        },
        {
          "output_type": "stream",
          "name": "stderr",
          "text": [
            "\n",
            "평가 중:   0%|          | 0/3514 [00:00<?, ?it/s]\u001b[A\n",
            "평가 중:   0%|          | 3/3514 [00:00<02:21, 24.89it/s]\u001b[A\n",
            "평가 중:   0%|          | 6/3514 [00:00<02:29, 23.50it/s]\u001b[A\n",
            "                                                         \u001b[A"
          ]
        },
        {
          "output_type": "stream",
          "name": "stdout",
          "text": [
            "검증 평균 손실: 4.2994, 혼잡도: 73.65\n",
            "generate_text를 사용하여 문맥을 기반으로 텍스트 생성:\n",
            "\n",
            "\n",
            "문맥: Moscow\n",
            "\n",
            "생성된 텍스트: Moscow 's first-half strike was a `` very good '' and `` the best thing to do with the . '' `` The most important thing . '' 's . ' '' I 'm going to do . '' ' I 'm going to do\n",
            "\n",
            "문맥: New York\n",
            "\n",
            "생성된 텍스트: New York City Police said the suspect was arrested on suspicion of murder . ' ' I 'm going to do with the . ' I 'm going to do . '' ' I 'm going to do . ' ' I 'm going to do .\n",
            "\n",
            "문맥: A hurricane\n",
            "\n",
            "생성된 텍스트: A hurricane , the ##-year-old has been in the first place in the first time . '' ' I 'm going to do it . ' '' I 'm going to do . ' ' I 'm going to do . '' ' I '\n"
          ]
        },
        {
          "output_type": "stream",
          "name": "stderr",
          "text": [
            "에포크 1/1:  87%|████████▋ | 150049/172148 [3:13:51<1:54:07,  3.23it/s, loss=4.3067]"
          ]
        },
        {
          "output_type": "stream",
          "name": "stdout",
          "text": [
            "\n",
            "문맥: The President\n",
            "\n",
            "생성된 텍스트: The President 's decision to be the first time he was in the same way . '' ' I 'm going to do . '' ' I 'm going to do . '' ' I 'm going to do . ' ' I 'm going to do\n"
          ]
        },
        {
          "output_type": "stream",
          "name": "stderr",
          "text": [
            "에포크 1/1:  88%|████████▊ | 151610/172148 [3:15:53<25:56, 13.19it/s, loss=4.3733]"
          ]
        },
        {
          "output_type": "stream",
          "name": "stdout",
          "text": [
            "\n",
            "200064 샘플 처리 후, 평균 손실: 4.3222\n"
          ]
        },
        {
          "output_type": "stream",
          "name": "stderr",
          "text": [
            "\n",
            "평가 중:   0%|          | 0/3514 [00:00<?, ?it/s]\u001b[A\n",
            "평가 중:   0%|          | 3/3514 [00:00<02:19, 25.08it/s]\u001b[A\n",
            "평가 중:   0%|          | 6/3514 [00:00<02:17, 25.47it/s]\u001b[A\n",
            "                                                         \u001b[A"
          ]
        },
        {
          "output_type": "stream",
          "name": "stdout",
          "text": [
            "검증 평균 손실: 4.2995, 혼잡도: 73.66\n",
            "generate_text를 사용하여 문맥을 기반으로 텍스트 생성:\n",
            "\n",
            "\n",
            "문맥: Moscow\n",
            "\n",
            "생성된 텍스트: Moscow 's government has been accused of the `` terrorist '' and `` the most important thing , '' he said . ' '' It 's not a `` terrorist ' '' . ' '' It 's not a `` terrorist ' '' . '\n",
            "\n",
            "문맥: New York\n",
            "\n",
            "생성된 텍스트: New York City 's team-mate David Cameron has been in the UK 's most popularity of the world 's most popularity of the world 's most popularity of the world 's most popularity of the world 's most popular\n",
            "\n",
            "문맥: A hurricane\n",
            "\n",
            "생성된 텍스트: A hurricane is the first of the most popularity of the world 's most popularity of the world 's most popularity of the world 's most popularity of the world 's most popularity of the world 's most popularity of the\n"
          ]
        },
        {
          "output_type": "stream",
          "name": "stderr",
          "text": [
            "에포크 1/1:  88%|████████▊ | 151612/172148 [3:15:55<1:42:00,  3.36it/s, loss=4.3057]"
          ]
        },
        {
          "output_type": "stream",
          "name": "stdout",
          "text": [
            "\n",
            "문맥: The President\n",
            "\n",
            "생성된 텍스트: The President 's office said the government 's office is not the first time to be the first to vote for the Senate . '' `` I 'm not going to be able to get the chance to get the chance to get the chance to play . ''\n"
          ]
        },
        {
          "output_type": "stream",
          "name": "stderr",
          "text": [
            "에포크 1/1:  89%|████████▉ | 153172/172148 [3:17:58<23:45, 13.32it/s, loss=4.2579]"
          ]
        },
        {
          "output_type": "stream",
          "name": "stdout",
          "text": [
            "\n",
            "200064 샘플 처리 후, 평균 손실: 4.3210\n"
          ]
        },
        {
          "output_type": "stream",
          "name": "stderr",
          "text": [
            "\n",
            "평가 중:   0%|          | 0/3514 [00:00<?, ?it/s]\u001b[A\n",
            "평가 중:   0%|          | 3/3514 [00:00<02:21, 24.83it/s]\u001b[A\n",
            "평가 중:   0%|          | 6/3514 [00:00<02:16, 25.78it/s]\u001b[A\n",
            "                                                         \u001b[A"
          ]
        },
        {
          "output_type": "stream",
          "name": "stdout",
          "text": [
            "검증 평균 손실: 4.2945, 혼잡도: 73.29\n",
            "generate_text를 사용하여 문맥을 기반으로 텍스트 생성:\n",
            "\n",
            "\n",
            "문맥: Moscow\n",
            "\n",
            "생성된 텍스트: Moscow 's lawyers have been sentenced to ## years in prison for the murder of the ##-year-old . ' '' I 'm not going to be a good person . ' '' I 'm not going to be a good person\n",
            "\n",
            "문맥: New York\n",
            "\n",
            "생성된 텍스트: New York City , the ##-year-old , who was born in #### , was jailed for ## years in prison for the murder of the ##-year-old . ' ' I ’ m not going to be a good person . ' '' I\n",
            "\n",
            "문맥: A hurricane\n",
            "\n",
            "생성된 텍스트: A hurricane is the first time in the world . '' 'We are not going to be a good idea . '' ' I do n't think it 's a good idea . '' ' I do n't think it 's a good thing .\n"
          ]
        },
        {
          "output_type": "stream",
          "name": "stderr",
          "text": [
            "에포크 1/1:  89%|████████▉ | 153176/172148 [3:17:59<1:09:45,  4.53it/s, loss=4.1537]"
          ]
        },
        {
          "output_type": "stream",
          "name": "stdout",
          "text": [
            "\n",
            "문맥: The President\n",
            "\n",
            "생성된 텍스트: The President 's office is not the first time . '' `` I think it 's a good idea . '' ' I do n't think it 's a good idea . '' ' I do n't think it 's a good idea .\n"
          ]
        },
        {
          "output_type": "stream",
          "name": "stderr",
          "text": [
            "에포크 1/1:  90%|████████▉ | 154735/172148 [3:20:03<21:51, 13.28it/s, loss=4.1662]"
          ]
        },
        {
          "output_type": "stream",
          "name": "stdout",
          "text": [
            "\n",
            "200064 샘플 처리 후, 평균 손실: 4.3225\n"
          ]
        },
        {
          "output_type": "stream",
          "name": "stderr",
          "text": [
            "\n",
            "평가 중:   0%|          | 0/3514 [00:00<?, ?it/s]\u001b[A\n",
            "평가 중:   0%|          | 3/3514 [00:00<02:21, 24.74it/s]\u001b[A\n",
            "평가 중:   0%|          | 6/3514 [00:00<02:18, 25.29it/s]\u001b[A\n",
            "                                                         \u001b[A"
          ]
        },
        {
          "output_type": "stream",
          "name": "stdout",
          "text": [
            "검증 평균 손실: 4.2913, 혼잡도: 73.06\n",
            "generate_text를 사용하여 문맥을 기반으로 텍스트 생성:\n",
            "\n",
            "\n",
            "문맥: Moscow\n",
            "\n",
            "생성된 텍스트: Moscow has been in the region of the country 's largest city in the region . '' 'We are not going to be able to get the ball . '' ' I was not going to be able to get it . ' '' It was a `` a\n",
            "\n",
            "문맥: New York\n",
            "\n",
            "생성된 텍스트: New York City Council said the company 's new technology is not a problem . ' '' It was a `` a great deal '' . '' 'We are not aware of the situation . '' 'We are not aware of the attack . ' '' he said .\n",
            "\n",
            "문맥: A hurricane\n",
            "\n",
            "생성된 텍스트: A hurricane warning is the first time in the region . '' 'We are not going to be able to get the ball . '' ' I was not going to be able to get it . ' '' It was a `` a great deal of the world 's\n"
          ]
        },
        {
          "output_type": "stream",
          "name": "stderr",
          "text": [
            "에포크 1/1:  90%|████████▉ | 154739/172148 [3:20:04<1:05:14,  4.45it/s, loss=4.2871]"
          ]
        },
        {
          "output_type": "stream",
          "name": "stdout",
          "text": [
            "\n",
            "문맥: The President\n",
            "\n",
            "생성된 텍스트: The President 's first-time winner was the first time in the first half of the season . '' ' I 'm not going to be able to get the ball . '' ' I was not going to be able to get it . ' '' It was\n"
          ]
        },
        {
          "output_type": "stream",
          "name": "stderr",
          "text": [
            "에포크 1/1:  91%|█████████ | 156298/172148 [3:22:08<19:49, 13.33it/s, loss=4.3968]"
          ]
        },
        {
          "output_type": "stream",
          "name": "stdout",
          "text": [
            "\n",
            "200064 샘플 처리 후, 평균 손실: 4.3239\n"
          ]
        },
        {
          "output_type": "stream",
          "name": "stderr",
          "text": [
            "\n",
            "평가 중:   0%|          | 0/3514 [00:00<?, ?it/s]\u001b[A\n",
            "평가 중:   0%|          | 3/3514 [00:00<02:23, 24.47it/s]\u001b[A\n",
            "평가 중:   0%|          | 6/3514 [00:00<02:21, 24.81it/s]\u001b[A\n",
            "                                                         \u001b[A"
          ]
        },
        {
          "output_type": "stream",
          "name": "stdout",
          "text": [
            "검증 평균 손실: 4.2954, 혼잡도: 73.36\n",
            "generate_text를 사용하여 문맥을 기반으로 텍스트 생성:\n",
            "\n",
            "\n",
            "문맥: Moscow\n",
            "\n",
            "생성된 텍스트: Moscow has been charged with the death penalty . '' ' I 'm not going to do . '' ' I 'm not going to do . ' '' I 'm not going to do . ' '' I 'm not going to do . ' ''\n",
            "\n",
            "문맥: New York\n",
            "\n",
            "생성된 텍스트: New York City Council said the `` <rare> '' is a `` very important thing to do with the club . '' ' I 'm not going to do . '' ' I 'm not going to do . ' '' I 'm not going to do\n",
            "\n",
            "문맥: A hurricane\n",
            "\n",
            "생성된 텍스트: A hurricane is the first time that the new government is not the only ones that are not going to be . '' ' I 'm not going to do . '' ' I 'm not going to do . ' '' I 'm not going to do .\n"
          ]
        },
        {
          "output_type": "stream",
          "name": "stderr",
          "text": [
            "에포크 1/1:  91%|█████████ | 156302/172148 [3:22:10<58:44,  4.50it/s, loss=4.2544]  "
          ]
        },
        {
          "output_type": "stream",
          "name": "stdout",
          "text": [
            "\n",
            "문맥: The President\n",
            "\n",
            "생성된 텍스트: The President 's office said the bill was `` a very good '' of the `` <rare> '' . ' '' It 's not the first time . ' ' I 'm not going to do . ' '' I 'm not going to do .\n"
          ]
        },
        {
          "output_type": "stream",
          "name": "stderr",
          "text": [
            "에포크 1/1:  92%|█████████▏| 157862/172148 [3:24:13<17:42, 13.44it/s, loss=4.3276]"
          ]
        },
        {
          "output_type": "stream",
          "name": "stdout",
          "text": [
            "\n",
            "200064 샘플 처리 후, 평균 손실: 4.3216\n"
          ]
        },
        {
          "output_type": "stream",
          "name": "stderr",
          "text": [
            "\n",
            "평가 중:   0%|          | 0/3514 [00:00<?, ?it/s]\u001b[A\n",
            "평가 중:   0%|          | 3/3514 [00:00<02:23, 24.45it/s]\u001b[A\n",
            "평가 중:   0%|          | 6/3514 [00:00<02:30, 23.37it/s]\u001b[A\n",
            "                                                         \u001b[A"
          ]
        },
        {
          "output_type": "stream",
          "name": "stdout",
          "text": [
            "검증 평균 손실: 4.2880, 혼잡도: 72.82\n",
            "generate_text를 사용하여 문맥을 기반으로 텍스트 생성:\n",
            "\n",
            "\n",
            "문맥: Moscow\n",
            "\n",
            "생성된 텍스트: Moscow has also been charged with the death penalty . '' ' I 'm not going to be a good thing . ' '' he said . ' I 'm not going to be a good thing . '' is not a good thing . ' '' he said\n",
            "\n",
            "문맥: New York\n",
            "\n",
            "생성된 텍스트: New York City Council said the ##-year-old was a `` very serious '' of the attack . ' '' he said . ' I 'm not going to be a good thing . ' '' he said . ' I 'm not going to be a\n",
            "\n",
            "문맥: A hurricane\n",
            "\n",
            "생성된 텍스트: A hurricane is the first time in the past . '' 's a statement . ' '' he said . ' I 'm not going to be a good thing . ' '' he said . ' I 'm not going to be a good thing . ' ''\n"
          ]
        },
        {
          "output_type": "stream",
          "name": "stderr",
          "text": [
            "에포크 1/1:  92%|█████████▏| 157864/172148 [3:24:15<1:08:48,  3.46it/s, loss=4.1762]"
          ]
        },
        {
          "output_type": "stream",
          "name": "stdout",
          "text": [
            "\n",
            "문맥: The President\n",
            "\n",
            "생성된 텍스트: The President has been charged with the death of the ##-year-old man who was arrested in #### , and the police were not injured . ' '' he said . ' I 'm not going to be a good thing . ' '' he said . '\n"
          ]
        },
        {
          "output_type": "stream",
          "name": "stderr",
          "text": [
            "에포크 1/1:  93%|█████████▎| 159424/172148 [3:26:18<16:01, 13.23it/s, loss=4.2576]"
          ]
        },
        {
          "output_type": "stream",
          "name": "stdout",
          "text": [
            "\n",
            "200064 샘플 처리 후, 평균 손실: 4.3170\n"
          ]
        },
        {
          "output_type": "stream",
          "name": "stderr",
          "text": [
            "\n",
            "평가 중:   0%|          | 0/3514 [00:00<?, ?it/s]\u001b[A\n",
            "평가 중:   0%|          | 3/3514 [00:00<02:20, 25.04it/s]\u001b[A\n",
            "평가 중:   0%|          | 6/3514 [00:00<02:17, 25.59it/s]\u001b[A\n",
            "                                                         \u001b[A"
          ]
        },
        {
          "output_type": "stream",
          "name": "stdout",
          "text": [
            "검증 평균 손실: 4.2975, 혼잡도: 73.52\n",
            "generate_text를 사용하여 문맥을 기반으로 텍스트 생성:\n",
            "\n",
            "\n",
            "문맥: Moscow\n",
            "\n",
            "생성된 텍스트: Moscow has been a `` very important role in the United States and the United States , '' he said . '' `` I think it 's a good way to play . '' ' I 'm not going to be a bit of a good job . ''\n",
            "\n",
            "문맥: New York\n",
            "\n",
            "생성된 텍스트: New York City , the company , which is the most popular destination for the ##-year-old , is a popular destination for the ##-year-old . ' ' I 'm not going to be a bit of a good job . '' ' I\n",
            "\n",
            "문맥: A hurricane\n",
            "\n",
            "생성된 텍스트: A hurricane is the first of the ##th anniversary of the ##th anniversary of the ####s . '' `` The most important thing . '' is not a good reason for the future . '' ' I 'm not going to be a good player .\n"
          ]
        },
        {
          "output_type": "stream",
          "name": "stderr",
          "text": [
            "에포크 1/1:  93%|█████████▎| 159428/172148 [3:26:20<46:31,  4.56it/s, loss=4.2287]"
          ]
        },
        {
          "output_type": "stream",
          "name": "stdout",
          "text": [
            "\n",
            "문맥: The President\n",
            "\n",
            "생성된 텍스트: The President 's office is not the first to vote for the vote . '' `` I think it 's a good way to get the best . '' ' I 'm not going to be a good player . '' ' I 'm not going to be\n"
          ]
        },
        {
          "output_type": "stream",
          "name": "stderr",
          "text": [
            "에포크 1/1:  94%|█████████▎| 160988/172148 [3:28:24<14:05, 13.21it/s, loss=4.4609]"
          ]
        },
        {
          "output_type": "stream",
          "name": "stdout",
          "text": [
            "\n",
            "200064 샘플 처리 후, 평균 손실: 4.3212\n"
          ]
        },
        {
          "output_type": "stream",
          "name": "stderr",
          "text": [
            "\n",
            "평가 중:   0%|          | 0/3514 [00:00<?, ?it/s]\u001b[A\n",
            "평가 중:   0%|          | 3/3514 [00:00<02:29, 23.47it/s]\u001b[A\n",
            "평가 중:   0%|          | 6/3514 [00:00<02:23, 24.38it/s]\u001b[A\n",
            "                                                         \u001b[A"
          ]
        },
        {
          "output_type": "stream",
          "name": "stdout",
          "text": [
            "검증 평균 손실: 4.2878, 혼잡도: 72.81\n",
            "generate_text를 사용하여 문맥을 기반으로 텍스트 생성:\n",
            "\n",
            "\n",
            "문맥: Moscow\n",
            "\n",
            "생성된 텍스트: Moscow has been a long-time relationship with the U.S. Open . '' 'We are not the only one of the most important players . '' 's a good news . ' '' he said . '## . '' ' I 'm not\n",
            "\n",
            "문맥: New York\n",
            "\n",
            "생성된 텍스트: New York City , the ##-year-old , has been a longtime presidential candidate , who has been in the Premier League . '' 'It 's a good job . '' ' I 'm not going to be a good player . '' '\n",
            "\n",
            "문맥: A hurricane\n",
            "\n",
            "생성된 텍스트: A hurricane is the first time the ##-year-old was a ##-year-old man in the second half . '' ' I 'm not going to be a good . '' ' I 'm not going to be a good . '' ' I\n"
          ]
        },
        {
          "output_type": "stream",
          "name": "stderr",
          "text": [
            "에포크 1/1:  94%|█████████▎| 160990/172148 [3:28:25<53:36,  3.47it/s, loss=4.2076]"
          ]
        },
        {
          "output_type": "stream",
          "name": "stdout",
          "text": [
            "\n",
            "문맥: The President\n",
            "\n",
            "생성된 텍스트: The President 's office said the government has been a `` very good '' and `` the most important thing to be a good idea . '' ' I 'm not going to be a good player . '' ' I 'm not going to be a good player\n"
          ]
        },
        {
          "output_type": "stream",
          "name": "stderr",
          "text": [
            "에포크 1/1:  94%|█████████▍| 162550/172148 [3:30:29<11:45, 13.60it/s, loss=4.3220]"
          ]
        },
        {
          "output_type": "stream",
          "name": "stdout",
          "text": [
            "\n",
            "200064 샘플 처리 후, 평균 손실: 4.3183\n"
          ]
        },
        {
          "output_type": "stream",
          "name": "stderr",
          "text": [
            "\n",
            "평가 중:   0%|          | 0/3514 [00:00<?, ?it/s]\u001b[A\n",
            "평가 중:   0%|          | 3/3514 [00:00<02:21, 24.86it/s]\u001b[A\n",
            "평가 중:   0%|          | 6/3514 [00:00<02:17, 25.50it/s]\u001b[A\n",
            "                                                         \u001b[A"
          ]
        },
        {
          "output_type": "stream",
          "name": "stdout",
          "text": [
            "검증 평균 손실: 4.2954, 혼잡도: 73.36\n",
            "generate_text를 사용하여 문맥을 기반으로 텍스트 생성:\n",
            "\n",
            "\n",
            "문맥: Moscow\n",
            "\n",
            "생성된 텍스트: Moscow has been charged with the ##-year-old , who was in the ####s , which was in the ####s , was arrested in #### , and the ##-year-old was arrested in #### , and the ##-year-old was\n",
            "\n",
            "문맥: New York\n",
            "\n",
            "생성된 텍스트: New York City 's #-# drawings were the first time in the ####s . '' `` The Associated Press . '' 'We 're not going to do it . '' 's a statement . ' '' he said . '## . ''\n",
            "\n",
            "문맥: A hurricane\n",
            "\n",
            "생성된 텍스트: A hurricane is the first time that the country 's biggest concern is the only way to the end of the year . '' 'We 're not going to do it . '' 's a statement . ' '' he said . '## . '' ' I\n"
          ]
        },
        {
          "output_type": "stream",
          "name": "stderr",
          "text": [
            "에포크 1/1:  94%|█████████▍| 162554/172148 [3:30:30<35:19,  4.53it/s, loss=4.3490]"
          ]
        },
        {
          "output_type": "stream",
          "name": "stdout",
          "text": [
            "\n",
            "문맥: The President\n",
            "\n",
            "생성된 텍스트: The President 's office said the government has not been able to find the possibility of a `` austerity '' . ' '' he said . ' '' he said . '## . ' '' he said . '## . ' '' he said . '##\n"
          ]
        },
        {
          "output_type": "stream",
          "name": "stderr",
          "text": [
            "에포크 1/1:  95%|█████████▌| 164113/172148 [3:32:34<10:15, 13.05it/s, loss=4.2854]"
          ]
        },
        {
          "output_type": "stream",
          "name": "stdout",
          "text": [
            "\n",
            "200064 샘플 처리 후, 평균 손실: 4.3192\n"
          ]
        },
        {
          "output_type": "stream",
          "name": "stderr",
          "text": [
            "\n",
            "평가 중:   0%|          | 0/3514 [00:00<?, ?it/s]\u001b[A\n",
            "평가 중:   0%|          | 3/3514 [00:00<02:23, 24.48it/s]\u001b[A\n",
            "평가 중:   0%|          | 6/3514 [00:00<02:22, 24.68it/s]\u001b[A\n",
            "                                                         \u001b[A"
          ]
        },
        {
          "output_type": "stream",
          "name": "stdout",
          "text": [
            "검증 평균 손실: 4.2967, 혼잡도: 73.46\n",
            "generate_text를 사용하여 문맥을 기반으로 텍스트 생성:\n",
            "\n",
            "\n",
            "문맥: Moscow\n",
            "\n",
            "생성된 텍스트: Moscow has been charged with the murder of the murder of the murder of the murder of the murder of the murder of the ##-year-old . ' '' It was a `` very serious '' . ' '' I 'm not going to be a .\n",
            "\n",
            "문맥: New York\n",
            "\n",
            "생성된 텍스트: New York City 's #-# drawings are expected to be the first time . '' ' I 'm not going to be able to do it . '' ' I 'm not going to be . ' '' I 'm not going to be a\n",
            "\n",
            "문맥: A hurricane\n",
            "\n",
            "생성된 텍스트: A hurricane is not the first time of the attack . '' ' I 'm not going to be . ' '' I 'm not going to be a . ' '' I 'm not going to be a . ' '' I 'm not going to be\n"
          ]
        },
        {
          "output_type": "stream",
          "name": "stderr",
          "text": [
            "에포크 1/1:  95%|█████████▌| 164117/172148 [3:32:35<29:54,  4.48it/s, loss=4.3374]"
          ]
        },
        {
          "output_type": "stream",
          "name": "stdout",
          "text": [
            "\n",
            "문맥: The President\n",
            "\n",
            "생성된 텍스트: The President 's decision to be the first time that the government has been a `` significant '' to the `` very important '' of the `` very important thing '' . '' ' I 'm not going to be . ' '' I 'm not going to be\n"
          ]
        },
        {
          "output_type": "stream",
          "name": "stderr",
          "text": [
            "에포크 1/1:  96%|█████████▌| 165677/172148 [3:34:39<08:00, 13.46it/s, loss=4.2433]"
          ]
        },
        {
          "output_type": "stream",
          "name": "stdout",
          "text": [
            "\n",
            "200064 샘플 처리 후, 평균 손실: 4.3202\n"
          ]
        },
        {
          "output_type": "stream",
          "name": "stderr",
          "text": [
            "\n",
            "평가 중:   0%|          | 0/3514 [00:00<?, ?it/s]\u001b[A\n",
            "평가 중:   0%|          | 3/3514 [00:00<02:22, 24.71it/s]\u001b[A\n",
            "평가 중:   0%|          | 6/3514 [00:00<02:15, 25.81it/s]\u001b[A\n",
            "                                                         \u001b[A"
          ]
        },
        {
          "output_type": "stream",
          "name": "stdout",
          "text": [
            "검증 평균 손실: 4.2903, 혼잡도: 72.99\n",
            "generate_text를 사용하여 문맥을 기반으로 텍스트 생성:\n",
            "\n",
            "\n",
            "문맥: Moscow\n",
            "\n",
            "생성된 텍스트: Moscow has been a key part of the government 's decision to ensure that the government would be a `` significant contribution '' . '' 'We are not the only way to get the . ' '' It was a `` very good '' . ' '' I '\n",
            "\n",
            "문맥: New York\n",
            "\n",
            "생성된 텍스트: New York 's first-time world champion was a ##-year-old man who was a former club of the club . '' ' I 'm not going to be a good player . '' ' I 'm not going to be a good player .\n",
            "\n",
            "문맥: A hurricane\n",
            "\n",
            "생성된 텍스트: A hurricane is a little bit of a bad-shirt . ' '' I 'm not going to be a good person . ' '' I 'm not going to be a good person . ' '' I 'm not going to be a good person .\n"
          ]
        },
        {
          "output_type": "stream",
          "name": "stderr",
          "text": [
            "에포크 1/1:  96%|█████████▌| 165679/172148 [3:34:40<30:22,  3.55it/s, loss=4.1954]"
          ]
        },
        {
          "output_type": "stream",
          "name": "stdout",
          "text": [
            "\n",
            "문맥: The President\n",
            "\n",
            "생성된 텍스트: The President 's office said the government 's office said the government 's office has been accused of being a member of the country 's largest city . '' 'We are not the only way to get the ball . '' 's a statement . '\n"
          ]
        },
        {
          "output_type": "stream",
          "name": "stderr",
          "text": [
            "에포크 1/1:  97%|█████████▋| 167239/172148 [3:36:43<06:16, 13.05it/s, loss=4.3005]"
          ]
        },
        {
          "output_type": "stream",
          "name": "stdout",
          "text": [
            "\n",
            "200064 샘플 처리 후, 평균 손실: 4.3172\n"
          ]
        },
        {
          "output_type": "stream",
          "name": "stderr",
          "text": [
            "\n",
            "평가 중:   0%|          | 0/3514 [00:00<?, ?it/s]\u001b[A\n",
            "평가 중:   0%|          | 3/3514 [00:00<02:23, 24.54it/s]\u001b[A\n",
            "평가 중:   0%|          | 6/3514 [00:00<02:20, 25.04it/s]\u001b[A\n",
            "                                                         \u001b[A"
          ]
        },
        {
          "output_type": "stream",
          "name": "stdout",
          "text": [
            "검증 평균 손실: 4.2944, 혼잡도: 73.28\n",
            "generate_text를 사용하여 문맥을 기반으로 텍스트 생성:\n",
            "\n",
            "\n",
            "문맥: Moscow\n",
            "\n",
            "생성된 텍스트: Moscow has been a `` very important step '' . '' ' I 'm not going to be able to get the ball . '' ' I was n't going to be able to get the ball . '' ' I was n't going to be\n",
            "\n",
            "문맥: New York\n",
            "\n",
            "생성된 텍스트: New York City Council said the `` <rare> '' is a `` a very good '' . ' '' It 's not the case . ' '' A spokesman for the U.S. Embassy . '## . '' `` The FBI\n",
            "\n",
            "문맥: A hurricane\n",
            "\n",
            "생성된 텍스트: A hurricane is the first time , but the ##-year-old is a big fan of the world . '' ' I 'm not going to be able to get the ball . '' ' I was n't going to be able to get the ball\n"
          ]
        },
        {
          "output_type": "stream",
          "name": "stderr",
          "text": [
            "에포크 1/1:  97%|█████████▋| 167243/172148 [3:36:44<18:10,  4.50it/s, loss=4.2014]"
          ]
        },
        {
          "output_type": "stream",
          "name": "stdout",
          "text": [
            "\n",
            "문맥: The President\n",
            "\n",
            "생성된 텍스트: The President 's office said the `` Theo Walcott , '' he said . ' I think the president 's decision to be the first time we have to be in the world . '' 's . '' ' I 'm not going to be\n"
          ]
        },
        {
          "output_type": "stream",
          "name": "stderr",
          "text": [
            "에포크 1/1:  98%|█████████▊| 168803/172148 [3:38:47<04:10, 13.36it/s, loss=4.3819]"
          ]
        },
        {
          "output_type": "stream",
          "name": "stdout",
          "text": [
            "\n",
            "200064 샘플 처리 후, 평균 손실: 4.3187\n"
          ]
        },
        {
          "output_type": "stream",
          "name": "stderr",
          "text": [
            "\n",
            "평가 중:   0%|          | 0/3514 [00:00<?, ?it/s]\u001b[A\n",
            "평가 중:   0%|          | 3/3514 [00:00<02:36, 22.49it/s]\u001b[A\n",
            "평가 중:   0%|          | 6/3514 [00:00<02:23, 24.36it/s]\u001b[A\n",
            "                                                         \u001b[A"
          ]
        },
        {
          "output_type": "stream",
          "name": "stdout",
          "text": [
            "검증 평균 손실: 4.2913, 혼잡도: 73.06\n",
            "generate_text를 사용하여 문맥을 기반으로 텍스트 생성:\n",
            "\n",
            "\n",
            "문맥: Moscow\n",
            "\n",
            "생성된 텍스트: Moscow has been charged with the death penalty . '' ' I 'm not sure what happened . ' '' he said . ' ' I 'm not sure what happened . ' '' he said . ' ' I 'm not sure what happened . ' ''\n",
            "\n",
            "문맥: New York\n",
            "\n",
            "생성된 텍스트: New York City 's #-# drawings are the first time the ##-year-old . ' '' It was a `` very good '' . ' '' he said . ' ' I 'm not sure what happened . ' '' he said . '\n",
            "\n",
            "문맥: A hurricane\n",
            "\n",
            "생성된 텍스트: A hurricane is the first time the ##-year-old was a ##-year-old man , who was in the first half of the year . '## . '## . ' '' he said . ' ' I 'm not sure what happened .\n"
          ]
        },
        {
          "output_type": "stream",
          "name": "stderr",
          "text": [
            "에포크 1/1:  98%|█████████▊| 168805/172148 [3:38:48<16:19,  3.41it/s, loss=4.3594]"
          ]
        },
        {
          "output_type": "stream",
          "name": "stdout",
          "text": [
            "\n",
            "문맥: The President\n",
            "\n",
            "생성된 텍스트: The President 's comments were `` a very different story . '' 's a statement . ' '' he said . ' ' I 'm not sure what happened . ' '' he said . ' ' I 'm not sure what happened . ' '' he said\n"
          ]
        },
        {
          "output_type": "stream",
          "name": "stderr",
          "text": [
            "에포크 1/1:  99%|█████████▉| 170365/172148 [3:40:52<02:23, 12.39it/s, loss=4.3485]"
          ]
        },
        {
          "output_type": "stream",
          "name": "stdout",
          "text": [
            "\n",
            "200064 샘플 처리 후, 평균 손실: 4.3160\n"
          ]
        },
        {
          "output_type": "stream",
          "name": "stderr",
          "text": [
            "\n",
            "평가 중:   0%|          | 0/3514 [00:00<?, ?it/s]\u001b[A\n",
            "평가 중:   0%|          | 3/3514 [00:00<02:20, 24.96it/s]\u001b[A\n",
            "평가 중:   0%|          | 6/3514 [00:00<02:17, 25.43it/s]\u001b[A\n",
            "                                                         \u001b[A"
          ]
        },
        {
          "output_type": "stream",
          "name": "stdout",
          "text": [
            "검증 평균 손실: 4.2869, 혼잡도: 72.74\n",
            "generate_text를 사용하여 문맥을 기반으로 텍스트 생성:\n",
            "\n",
            "\n",
            "문맥: Moscow\n",
            "\n",
            "생성된 텍스트: Moscow 's first-half-year-old was a ##-year-old , who was in the first place , the ##-year-old was a ##-year-old man who was a ##-year-old man who was arrested\n",
            "\n",
            "문맥: New York\n",
            "\n",
            "생성된 텍스트: New York 's first-half-year-old was a ##-year-old , who was in the first half of the season . '' ' I 'm sure . '' ' I 'm not sure . '' ' I 'm not sure .\n",
            "\n",
            "문맥: A hurricane\n",
            "\n",
            "생성된 텍스트: A hurricane is the first time the ##-year-old was a ##-year-old . '' ' I 'm sure . '' ' I 'm sure . '' ' I 'm sure . ' '' I 'm not sure . '' ' I\n"
          ]
        },
        {
          "output_type": "stream",
          "name": "stderr",
          "text": [
            "에포크 1/1:  99%|█████████▉| 170369/172148 [3:40:53<06:37,  4.47it/s, loss=4.4004]"
          ]
        },
        {
          "output_type": "stream",
          "name": "stdout",
          "text": [
            "\n",
            "문맥: The President\n",
            "\n",
            "생성된 텍스트: The President 's first-time presidential candidate , who has been in the ####s , was the first of the ##th anniversary of the World Cup . '' ' I 'm sure . '' ' I 'm not sure . '' ' I '\n"
          ]
        },
        {
          "output_type": "stream",
          "name": "stderr",
          "text": [
            "에포크 1/1: 100%|█████████▉| 171929/172148 [3:42:56<00:18, 11.71it/s, loss=4.2534]"
          ]
        },
        {
          "output_type": "stream",
          "name": "stdout",
          "text": [
            "\n",
            "200064 샘플 처리 후, 평균 손실: 4.3154\n"
          ]
        },
        {
          "output_type": "stream",
          "name": "stderr",
          "text": [
            "\n",
            "평가 중:   0%|          | 0/3514 [00:00<?, ?it/s]\u001b[A\n",
            "평가 중:   0%|          | 3/3514 [00:00<02:22, 24.65it/s]\u001b[A\n",
            "평가 중:   0%|          | 6/3514 [00:00<02:20, 25.03it/s]\u001b[A\n",
            "                                                         \u001b[A"
          ]
        },
        {
          "output_type": "stream",
          "name": "stdout",
          "text": [
            "검증 평균 손실: 4.2889, 혼잡도: 72.89\n",
            "generate_text를 사용하여 문맥을 기반으로 텍스트 생성:\n",
            "\n",
            "\n",
            "문맥: Moscow\n",
            "\n",
            "생성된 텍스트: Moscow has been charged with the attack on the ground . '' 'We 're not going to be a good person . '' ' I was a good person . ' '' I 'm a good friend . '' ' I 'm a good person . '\n",
            "\n",
            "문맥: New York\n",
            "\n",
            "생성된 텍스트: New York City Mayor Michael Bloomberg said the attack was `` a very strong '' and the `` unacceptable '' . ' '' A spokesman for the National Association of the National Crime Agency said . ' '' A spokesman for the National Association\n",
            "\n",
            "문맥: A hurricane\n",
            "\n",
            "생성된 텍스트: A hurricane is the first time that the country 's largest economy is a major factor in the UK . '' 'We 're not going to be a good person . '' ' I 'm not going to be a good player . '' ' I 'm\n"
          ]
        },
        {
          "output_type": "stream",
          "name": "stderr",
          "text": [
            "에포크 1/1: 100%|█████████▉| 171931/172148 [3:42:58<01:03,  3.44it/s, loss=4.4406]"
          ]
        },
        {
          "output_type": "stream",
          "name": "stdout",
          "text": [
            "\n",
            "문맥: The President\n",
            "\n",
            "생성된 텍스트: The President 's ##-year-old man was killed in the attack . '' 'We 're not going to be a good person . '' ' I was a good person . ' '' I 'm a good friend . '' ' I 'm a\n"
          ]
        },
        {
          "output_type": "stream",
          "name": "stderr",
          "text": [
            "에포크 1/1: 100%|██████████| 172148/172148 [3:43:15<00:00, 12.85it/s, loss=4.3095]\n"
          ]
        },
        {
          "output_type": "stream",
          "name": "stdout",
          "text": [
            "\n",
            "에포크 1/1, 평균 손실: 4.3097\n"
          ]
        },
        {
          "output_type": "stream",
          "name": "stderr",
          "text": []
        },
        {
          "output_type": "stream",
          "name": "stdout",
          "text": [
            "검증 평균 손실: 4.2843, 혼잡도: 72.55\n",
            "\n",
            "generate_text를 사용하여 문맥을 기반으로 텍스트 생성:\n",
            "\n",
            "\n",
            "문맥: Moscow\n",
            "\n",
            "생성된 텍스트: Moscow has been a major part of the country 's largest city of the country . '' 'We 're not going to be a good thing . '' ' I 'm not going to be a good player . '' ) . '' ' I 'm\n",
            "\n",
            "문맥: New York\n",
            "\n",
            "생성된 텍스트: New York 's first-time winner of the ##-year-old was a former team-mate in the second half . '' 'The .##-caliber rifle , a spokesman for the ##-year-old boy , who was\n",
            "\n",
            "문맥: A hurricane\n",
            "\n",
            "생성된 텍스트: A hurricane season is a huge amount of theft . '' 'The .##-caliber rifle , a spokesman for the Ministry of Justice . ' `` I 'm not going to be a good person . '' ' I 'm not going\n",
            "\n",
            "문맥: The President\n",
            "\n",
            "생성된 텍스트: The President 's office said the government had not been a `` significant '' . ' '' It 's not the case . ' '' It was a `` unacceptable '' . ' '' It 's not the case . ' '' It was a `` un\n"
          ]
        }
      ],
      "source": [
        "# ----------------------------\n",
        "# 순환 신경망 언어 모델을 위한 메인 훈련 루프\n",
        "# 이 스크립트는 데이터 로딩, 모델 훈련, 검증 및 텍스트 생성을 포함한\n",
        "# 전체 훈련 과정을 처리합니다.\n",
        "# ----------------------------\n",
        "# 재현 가능한 결과를 보장하기 위해 난수 시드 초기화\n",
        "set_seed(42)\n",
        "\n",
        "# CUDA 지원 GPU가 있는지 확인하고 그에 따라 장치를 설정\n",
        "device = torch.device(\"cuda\" if torch.cuda.is_available() else \"cpu\")\n",
        "\n",
        "# 설정에서 모델 아키텍처 및 훈련 하이퍼파라미터 추출\n",
        "# emb_dim: 토큰 임베딩 및 은닉 상태의 차원\n",
        "# num_layers: 모델의 순환 층 수\n",
        "# batch_size: 미니 배치 크기\n",
        "# learning_rate: 옵티마이저 업데이트를 위한 단계 크기\n",
        "# num_epochs: 훈련 데이터셋을 완전히 통과하는 횟수\n",
        "# context_size: 최대 입력 시퀀스 길이\n",
        "emb_dim, num_layers, batch_size, learning_rate, num_epochs, context_size = get_hyperparameters()\n",
        "\n",
        "# 마이크로소프트의 Phi-3.5-mini 모델을 사용하여 토크나이저 초기화\n",
        "tokenizer = AutoTokenizer.from_pretrained(\"microsoft/Phi-3.5-mini-instruct\")\n",
        "\n",
        "# 모델이 처리해야 할 어휘사전의 크기 가져오기\n",
        "vocab_size = len(tokenizer)\n",
        "\n",
        "# 뉴스 데이터셋 다운로드 및 훈련과 테스트를 위한 DataLoader 객체 생성\n",
        "# DataLoader는 배칭 및 셔플링을 처리합니다\n",
        "data_url = \"https://www.thelmbook.com/data/news\"\n",
        "train_dataloader, test_dataloader = download_and_prepare_data(data_url, batch_size, tokenizer, context_size)\n",
        "\n",
        "# 지정된 아키텍처 매개변수로 RNN 언어 모델 초기화\n",
        "# vocab_size: 출력 층 차원 결정\n",
        "# emb_dim: 단어 임베딩 및 은닉 상태의 크기\n",
        "# num_layers: RNN 층 개수\n",
        "# pad_token_id: 더 짧은 시퀀스에 대한 패딩에 사용되는 특수 토큰 ID\n",
        "model = RecurrentLanguageModel(vocab_size, emb_dim, num_layers, tokenizer.pad_token_id)\n",
        "\n",
        "# 사용 가능한 경우 모델을 GPU로 이동\n",
        "model.to(device)\n",
        "\n",
        "# 사용자 지정 초기화 방식을 사용하여 모델 가중치 초기화\n",
        "# 이는 심층 신경망의 안정적인 훈련에 중요합니다\n",
        "initialize_weights(model)\n",
        "\n",
        "# 모델의 총 훈련 가능한 매개변수 수 계산 및 출력\n",
        "total_params = sum(p.numel() for p in model.parameters() if p.requires_grad)\n",
        "print(f\"총 훈련 가능한 매개변수: {total_params}\\n\")\n",
        "\n",
        "# 훈련을 위한 손실 함수(교차 엔트로피) 초기화\n",
        "# ignore_index=pad_token_id는 패딩 토큰이 손실에 기여하지 않도록 보장합니다\n",
        "# 이는 모델이 패딩 토큰을 예측하는 것을 학습하는 것을 방지합니다\n",
        "criterion = nn.CrossEntropyLoss(ignore_index=tokenizer.pad_token_id)\n",
        "\n",
        "# 지정된 학습률로 AdamW 옵티마이저 초기화\n",
        "optimizer = torch.optim.AdamW(model.parameters(), lr=learning_rate)\n",
        "\n",
        "# 평가 간격 설정(검증을 수행할 예시 수)\n",
        "# 200,000 예시는 훈련 시간과 모니터링 빈도 사이의 좋은 균형을 제공합니다\n",
        "eval_interval = 200_000\n",
        "examples_processed = 0  # 다음 평가까지의 진행 상황을 추적하기 위한 카운터\n",
        "\n",
        "# 평가 중에 샘플 텍스트를 생성하기 위한 테스트 컨텍스트 정의\n",
        "contexts = [\n",
        "    \"Moscow\",\n",
        "    \"New York\",\n",
        "    \"A hurricane\",\n",
        "    \"The President\"\n",
        "]\n",
        "\n",
        "# 메인 훈련 루프 - 지정된 수의 에포크 반복\n",
        "for epoch in range(num_epochs):\n",
        "    # 모델을 훈련 모드로 설정\n",
        "    model.train()\n",
        "    print(f\"에포크 {epoch+1}/{num_epochs} 시작, 모델 훈련 모드: {model.training}\")\n",
        "\n",
        "    # 이 에포크를 위한 추적 변수 초기화\n",
        "    total_loss = 0.0      # 모든 배치에 대한 손실 누적\n",
        "    total_tokens = 0      # 처리된 실제 토큰 수 카운터 (패딩 제외)\n",
        "\n",
        "    # 훈련 진행 상황 모니터링을 위한 진행률 표시줄 생성\n",
        "    progress_bar = tqdm(train_dataloader, desc=f\"에포크 {epoch+1}/{num_epochs}\")\n",
        "\n",
        "    # 훈련 데이터의 배치 반복\n",
        "    for batch_idx, (input_seq, target_seq) in enumerate(progress_bar):\n",
        "        # 사용 가능한 경우 입력 및 타깃 시퀀스를 GPU로 이동\n",
        "        input_seq = input_seq.to(device)\n",
        "        target_seq = target_seq.to(device)\n",
        "\n",
        "        # 재구성 작업을 위한 현재 배치 차원 가져오기\n",
        "        batch_size_current, seq_len = input_seq.shape\n",
        "\n",
        "        # 이전 배치의 그레이디언트 지우기\n",
        "        # 이는 파이토치가 기본적으로 그레이디언트를 누적하기 때문에 필요합니다\n",
        "        optimizer.zero_grad()\n",
        "\n",
        "        # 포워드 패스: 이 배치에 대한 모델 예측 가져오기\n",
        "        # 출력 크기: (batch_size, seq_len, vocab_size)\n",
        "        output = model(input_seq)\n",
        "\n",
        "        # 손실 계산을 위해 출력 및 타깃 텐서 재구성\n",
        "        # - 출력: CrossEntropyLoss를 위해 (batch_size * seq_len, vocab_size)로 재구성\n",
        "        # - 타깃: CrossEntropyLoss 요구 사항과 일치하도록 (batch_size * seq_len)로 재구성\n",
        "        output = output.reshape(batch_size_current * seq_len, vocab_size)\n",
        "        target = target_seq.reshape(batch_size_current * seq_len)\n",
        "\n",
        "        # 타깃에서 패딩이 아닌 토큰 수 계산\n",
        "        # 이는 여러 배치에 대한 평균 손실을 계산하기 위해 총 손실을 이 배치들의 토큰 수로 나누어야 하지만,\n",
        "        # criterion(output, target)은 배치당 토큰당 평균 손실을 반환하기 때문에 필요합니다.\n",
        "        # 따라서 배치당 손실을 얻기 위해 토큰당 손실에 토큰 수를 곱할 것입니다\n",
        "        non_padding_token_count = (target != tokenizer.pad_token_id).sum().item()\n",
        "\n",
        "        # 모델 예측과 실제 타깃 간의 손실 계산\n",
        "        loss = criterion(output, target)\n",
        "\n",
        "        # 백워드 패스: 모델 매개변수에 대한 손실의 그레이디언트 계산\n",
        "        loss.backward()\n",
        "\n",
        "        # 계산된 그레이디언트를 사용하여 모델 매개변수 업데이트\n",
        "        optimizer.step()\n",
        "\n",
        "        # 이 배치에 대한 실제 손실 값 계산\n",
        "        # 배치의 총 손실을 얻기 위해 패딩이 아닌 토큰 수에 토큰당 손실을 곱합니다\n",
        "        loss_value = loss.item() * non_padding_token_count\n",
        "\n",
        "        # 에포크 통계를 위한 총 손실 누적\n",
        "        total_loss += loss_value\n",
        "\n",
        "        # 처리된 실제 토큰 총수 누적\n",
        "        total_tokens += non_padding_token_count\n",
        "\n",
        "        # 처리된 샘플 수 카운터 증가\n",
        "        examples_processed += batch_size_current\n",
        "\n",
        "        # 현재 배치 손실로 진행률 표시줄 업데이트\n",
        "        progress_bar.set_postfix({'loss': f\"{loss.item():.4f}\"})\n",
        "\n",
        "        # 지정된 수의 샘플을 처리한 후 주기적 평가\n",
        "        if examples_processed >= eval_interval:\n",
        "            # 마지막 eval_interval 예시에 대한 평균 손실 계산\n",
        "            avg_loss = total_loss / total_tokens\n",
        "            print(f\"\\n{examples_processed} 샘플 처리 후, 평균 손실: {avg_loss:.4f}\")\n",
        "\n",
        "            # 평가 모드로 전환\n",
        "            model.eval()\n",
        "\n",
        "            # 검증 메트릭 계산\n",
        "            # average_loss: 검증 세트의 평균 손실\n",
        "            # perplexity: 평균 손실의 지수, 낮을수록 좋음\n",
        "            # sentences_processed: 평가된 검증 시퀀스 수\n",
        "            average_loss, perplexity = compute_loss_and_perplexity(\n",
        "                model, test_dataloader, tokenizer, criterion, device, max_sentences=1000\n",
        "            )\n",
        "            print(f\"검증 평균 손실: {average_loss:.4f}, 혼잡도: {perplexity:.2f}\")\n",
        "\n",
        "            # 모델 성능을 정성적으로 평가하기 위해 샘플 텍스트 생성\n",
        "            print(\"generate_text를 사용하여 문맥을 기반으로 텍스트 생성:\\n\")\n",
        "            for context in contexts:\n",
        "                # 각 테스트 문맥의 뒤를 잇는 텍스트 생성\n",
        "                generated_text = generate_text(\n",
        "                    model=model,          # 로드된 언어 모델\n",
        "                    start_string=context, # 시작 문맥\n",
        "                    tokenizer=tokenizer,  # 텍스트 변환을 위한 토크나이저\n",
        "                    device=device,        # CPU 또는 GPU 장치\n",
        "                    max_length=50         # 생성된 시퀀스의 최대 길이\n",
        "                )\n",
        "                print(f\"\\n문맥: {context}\")\n",
        "                print(f\"\\n생성된 텍스트: {generated_text}\")\n",
        "\n",
        "            # 계속 훈련하기 위해 훈련 모드로 다시 전환\n",
        "            model.train()\n",
        "\n",
        "            # 다음 평가 간격을 위해 카운터 재설정\n",
        "            examples_processed = 0\n",
        "            total_loss = 0.0\n",
        "            total_tokens = 0\n",
        "\n",
        "    # 에포크 종료 보고\n",
        "    if total_tokens > 0:\n",
        "        # 에포크에 대한 평균 손실 계산 및 표시\n",
        "        avg_loss = total_loss / total_tokens\n",
        "        print(f\"\\n에포크 {epoch+1}/{num_epochs}, 평균 손실: {avg_loss:.4f}\")\n",
        "    else:\n",
        "        # 처리된 토큰이 없는 경우 처리\n",
        "        print(f\"\\n에포크 {epoch+1}/{num_epochs} 완료.\")\n",
        "\n",
        "    # 에포크 종료 검증 수행\n",
        "    model.eval()\n",
        "    average_loss, perplexity = compute_loss_and_perplexity(\n",
        "        model, test_dataloader, tokenizer, criterion, device, max_sentences=1000\n",
        "    )\n",
        "    print(f\"검증 평균 손실: {average_loss:.4f}, 혼잡도: {perplexity:.2f}\\n\")\n",
        "\n",
        "    print(\"generate_text를 사용하여 문맥을 기반으로 텍스트 생성:\\n\")\n",
        "    for context in contexts:\n",
        "        # 각 테스트 문맥의 뒤를 잇는 텍스트 생성\n",
        "        generated_text = generate_text(\n",
        "            model=model,\n",
        "            start_string=context,\n",
        "            tokenizer=tokenizer,\n",
        "            device=device,\n",
        "            max_length=50  # 간결성을 위해 생성을 50 토큰으로 제한\n",
        "        )\n",
        "        print(f\"\\n문맥: {context}\")\n",
        "        print(f\"\\n생성된 텍스트: {generated_text}\")\n",
        "\n",
        "    # 다음 에포크를 위해 훈련 모드로 재설정\n",
        "    model.train()\n",
        "\n",
        "# 나중에 사용하기 위해 훈련된 모델과 토크나이저 저장\n",
        "# 여기에는 모델 아키텍처, 가중치 및 토크나이저 구성이 포함됩니다\n",
        "model_name = \"RNN_LM\"\n",
        "save_model(model, tokenizer, model_name)"
      ]
    },
    {
      "cell_type": "markdown",
      "source": [
        "## 모델 테스트하기\n",
        "\n",
        "아래 셀에서 훈련된 모델을 로드하여 텍스트를 생성합니다."
      ],
      "metadata": {
        "id": "JoSevu4VJ-Rm"
      }
    },
    {
      "cell_type": "code",
      "source": [
        "model_name = \"RNN_LM\"\n",
        "\n",
        "# 디스크에서 이전에 저장된 모델과 토크나이저 로드\n",
        "# 이는 훈련 후 정확한 모델 상태를 재생성합니다\n",
        "model, tokenizer = load_model(model_name)\n",
        "\n",
        "model.eval()\n",
        "\n",
        "average_loss, perplexity = compute_loss_and_perplexity(\n",
        "    model, test_dataloader, tokenizer, criterion, device, max_sentences=1000\n",
        ")\n",
        "print(f\"검증 평균 손실: {average_loss:.4f}, 퍼플렉시티: {perplexity:.2f}\\n\")\n",
        "\n",
        "# 테스트 섹션의 헤더 출력\n",
        "print(\"모델 테스트:\\n\")\n",
        "\n",
        "# 모델 성능을 평가하기 위한 테스트 프롬프트 리스트\n",
        "contexts = [\n",
        "    \"Moscow\",\n",
        "    \"New York\",\n",
        "    \"A hurricane\",\n",
        "    \"The President\"\n",
        "]\n",
        "\n",
        "# 각 테스트 프롬프트를 반복하고 텍스트 생성\n",
        "for context in contexts:\n",
        "    # 탐욕적 디코딩(가장 가능성 있는 토큰)을 사용하여 텍스트 생성\n",
        "    generated_text = generate_text(\n",
        "        model=model,          # 로드된 언어 모델\n",
        "        start_string=context, # 시작 문맥\n",
        "        tokenizer=tokenizer,  # 텍스트 변환을 위한 토크나이저\n",
        "        device=device,        # CPU 또는 GPU 장치\n",
        "        max_length=50         # 생성된 시퀀스의 최대 길이\n",
        "    )\n",
        "\n",
        "    # 원본 프롬프트와 모델의 응답 출력\n",
        "    print(f\"\\n프롬프트: {context}\")\n",
        "    print(f\"\\n생성된 응답: {generated_text}\")"
      ],
      "metadata": {
        "id": "7JmWY6HACeCd",
        "colab": {
          "base_uri": "https://localhost:8080/"
        },
        "outputId": "f5d2308a-0e1f-4d8f-dc9c-8dcf576c4b4d"
      },
      "execution_count": 5,
      "outputs": [
        {
          "output_type": "stream",
          "name": "stderr",
          "text": []
        },
        {
          "output_type": "stream",
          "name": "stdout",
          "text": [
            "검증 평균 손실: 4.2843, 퍼플렉시티: 72.55\n",
            "\n",
            "모델 테스트:\n",
            "\n",
            "\n",
            "프롬프트: Moscow\n",
            "\n",
            "생성된 응답: Moscow has been a major part of the country 's largest city of the country . '' 'We 're not going to be a good thing . '' ' I 'm not going to be a good player . '' ) . '' ' I 'm\n",
            "\n",
            "프롬프트: New York\n",
            "\n",
            "생성된 응답: New York 's first-time winner of the ##-year-old was a former team-mate in the second half . '' 'The .##-caliber rifle , a spokesman for the ##-year-old boy , who was\n",
            "\n",
            "프롬프트: A hurricane\n",
            "\n",
            "생성된 응답: A hurricane season is a huge amount of theft . '' 'The .##-caliber rifle , a spokesman for the Ministry of Justice . ' `` I 'm not going to be a good person . '' ' I 'm not going\n",
            "\n",
            "프롬프트: The President\n",
            "\n",
            "생성된 응답: The President 's office said the government had not been a `` significant '' . ' '' It 's not the case . ' '' It was a `` unacceptable '' . ' '' It 's not the case . ' '' It was a `` un\n"
          ]
        }
      ]
    }
  ],
  "metadata": {
    "accelerator": "GPU",
    "colab": {
      "gpuType": "T4",
      "provenance": [],
      "include_colab_link": true
    },
    "kernelspec": {
      "display_name": "Python 3",
      "name": "python3"
    },
    "language_info": {
      "name": "python"
    }
  },
  "nbformat": 4,
  "nbformat_minor": 0
}